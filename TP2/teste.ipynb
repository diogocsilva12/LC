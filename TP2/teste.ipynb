{
 "cells": [
  {
   "cell_type": "code",
   "execution_count": 12,
   "metadata": {},
   "outputs": [
    {
     "name": "stdout",
     "output_type": "stream",
     "text": [
      "Propriedades não atingíveis a partir do estado inicial aleatório.\n"
     ]
    }
   ],
   "source": [
    "from z3 import *\n",
    "import random\n",
    "\n",
    "# Definir as funções dos LFSRs conforme a cifra A5/1\n",
    "def step_lfsr1(lfsr):\n",
    "    feedback = (lfsr >> 18) ^ (lfsr >> 17) ^ (lfsr >> 16) ^ (lfsr >> 13)\n",
    "    return LShR(lfsr, 1) | (feedback << 18)\n",
    "\n",
    "def step_lfsr2(lfsr):\n",
    "    feedback = (lfsr >> 21) ^ (lfsr >> 20)\n",
    "    return LShR(lfsr, 1) | (feedback << 21)\n",
    "\n",
    "def step_lfsr3(lfsr):\n",
    "    feedback = (lfsr >> 22) ^ (lfsr >> 21) ^ (lfsr >> 20) ^ (lfsr >> 7)\n",
    "    return LShR(lfsr, 1) | (feedback << 22)\n",
    "\n",
    "def majority_bit(x, y, z):\n",
    "    return If((Extract(0, 0, x) + Extract(0, 0, y) + Extract(0, 0, z)) >= 2, 1, 0)\n",
    "\n",
    "# Função para simular a saída do gerador de chaves A5/1\n",
    "def simulate_a5_1(lfsr1_initial, lfsr2_initial, lfsr3_initial, steps):\n",
    "    lfsr1 = lfsr1_initial\n",
    "    lfsr2 = lfsr2_initial\n",
    "    lfsr3 = lfsr3_initial\n",
    "    output_stream = []\n",
    "\n",
    "    for _ in range(steps):\n",
    "        majority = majority_bit(lfsr1, lfsr2, lfsr3)\n",
    "        output_stream.append(majority)\n",
    "\n",
    "        # Adicionar a condição correta para a comparação\n",
    "        if majority == 1:\n",
    "            lfsr1 = step_lfsr1(lfsr1)\n",
    "            lfsr2 = step_lfsr2(lfsr2)\n",
    "            lfsr3 = step_lfsr3(lfsr3)\n",
    "\n",
    "    return output_stream\n",
    "\n",
    "def detect_burst_of_zeros(solver, output_stream, t):\n",
    "    for i in range(len(output_stream) - t + 1):\n",
    "        zero_burst = And([output_stream[i + j] == 0 for j in range(t)])\n",
    "        solver.add(zero_burst)\n",
    "\n",
    "def detect_repeated_burst(solver, output_stream, t):\n",
    "    for i in range(len(output_stream) - t + 1):\n",
    "        for j in range(i + 1, len(output_stream) - t + 1):\n",
    "            burst1 = output_stream[i:i+t]\n",
    "            burst2 = output_stream[j:j+t]\n",
    "            solver.add(burst1 == burst2)\n",
    "\n",
    "def run_a5_1_simulation(t, steps):\n",
    "    # Criar um solver\n",
    "    solver = Solver()\n",
    "\n",
    "    # Gerar estados iniciais aleatórios para os LFSRs\n",
    "    lfsr1_initial = BitVecVal(random.randint(0, 2**19 - 1), 19)\n",
    "    lfsr2_initial = BitVecVal(random.randint(0, 2**22 - 1), 22)\n",
    "    lfsr3_initial = BitVecVal(random.randint(0, 2**23 - 1), 23)\n",
    "\n",
    "    # Gerar a sequência de saída com base nesses estados\n",
    "    output_stream = simulate_a5_1(lfsr1_initial, lfsr2_initial, lfsr3_initial, steps)\n",
    "\n",
    "    # Verificar a propriedade de burst de zeros\n",
    "    detect_burst_of_zeros(solver, output_stream, t)\n",
    "\n",
    "    # Verificar a propriedade de repetição de burst\n",
    "    detect_repeated_burst(solver, output_stream, t)\n",
    "\n",
    "    # Tentar satisfazer as restrições e verificar se a propriedade ocorre\n",
    "    if solver.check() == sat:\n",
    "        print(\"Propriedades atingíveis a partir do estado inicial aleatório!\")\n",
    "    else:\n",
    "        print(\"Propriedades não atingíveis a partir do estado inicial aleatório.\")\n",
    "\n",
    "# Exemplo de execução\n",
    "t = 3  # Tamanho do burst\n",
    "steps = 16  # Número de passos na simulação\n",
    "run_a5_1_simulation(t, steps)\n",
    "\n"
   ]
  },
  {
   "cell_type": "markdown",
   "metadata": {},
   "source": []
  }
 ],
 "metadata": {
  "kernelspec": {
   "display_name": "logica",
   "language": "python",
   "name": "python3"
  },
  "language_info": {
   "codemirror_mode": {
    "name": "ipython",
    "version": 3
   },
   "file_extension": ".py",
   "mimetype": "text/x-python",
   "name": "python",
   "nbconvert_exporter": "python",
   "pygments_lexer": "ipython3",
   "version": "3.10.15"
  }
 },
 "nbformat": 4,
 "nbformat_minor": 2
}
