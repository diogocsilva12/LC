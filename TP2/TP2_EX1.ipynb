{
 "cells": [
  {
   "cell_type": "markdown",
   "metadata": {},
   "source": [
    "# TP1 - Exercício 1\n",
    "## Grupo 1\n",
    "\n",
    "*   Diogo Coelho da Silva A100092\n",
    "*   Pedro Miguel Ramôa Oliveira A97686\n",
    "\n",
    "**Problema proposto:**\n",
    "\n",
    "\n",
    "1. Considere a descrição da cifra A5/1 que consta no documento +Lógica Computacional: a Cifra A5/1 . Informação complementar pode ser obtida no artigo da Wikipedia. \n",
    "\n",
    "\n",
    "    Pretende-se\n",
    "    1. Definir e codificar, em Z3 e usando o tipo BitVec para modelar a informação, uma FSM que descreva o gerador de chaves.\n",
    "    2. Considere as seguintes eventuais propriedades de erro:\n",
    "        1. ocorrência de um “burst”  $$\\,\\mathsf{0}^t\\,$$  ($$t$$ zeros) que ocorre em   $$\\,2^t\\,$$ passos ou menos.\n",
    "        2. ocorrência de um “burst” de tamanho $$\\,t\\,$$ que repete um “burst” anterior no mesmo output em $$2^{t/2}$$  passos ou menos.\n",
    "        Tente codificar estas propriedades e verificar se são acessíveis a partir de um estado inicial aleatoriamente gerado.\n",
    "\n",
    "**Proposta de resolução:**\n",
    "\n",
    "O problema que foi apresentado tem como objetivo a criação de um horário semanal otimizado para a marcação de reuniões para uma *startup*. O objetivo é alocar eficientemente recursos como salas e tempo, considerando a disponibilidade dos colaboradores e as restrições dadas no enunciado.\n",
    "\n",
    "Na solução proposta iremos modelar o problema de acordo com as nossas necessidades e utilizaremos um solver SCIP para encontrar uma solução otimizada.\n",
    "\n",
    "Foram consideradas restrições dadas pelo enunciado, como por exemplo, a obrigatoriedade da presença do lider em todas as reuniões do seu projeto, a disponibilidade dos colaboradores, a partição exclusiva dos membros do projeto, a alocação de apenas um projeto por sala em cada slot e a garantia de um quorum minimo em cada reunião.\n",
    "\n",
    "\n",
    "\n",
    "\n",
    "\n",
    "\n",
    "\n"
   ]
  },
  {
   "cell_type": "code",
   "execution_count": 1,
   "metadata": {},
   "outputs": [],
   "source": [
    "from z3 import *\n",
    "\n",
    "# LFSRs como variáveis BitVec no Z3\n",
    "lfsr1 = BitVec('lfsr1', 19)\n",
    "lfsr2 = BitVec('lfsr2', 22)\n",
    "lfsr3 = BitVec('lfsr3', 23)\n",
    "\n",
    "# Taps de feedback para cada LFSR\n",
    "def step_lfsr1(lfsr):\n",
    "    feedback = (lfsr >> 18) ^ (lfsr >> 17) ^ (lfsr >> 16) ^ (lfsr >> 13)\n",
    "    return LShR(lfsr, 1) | (feedback << 18)\n",
    "\n",
    "def step_lfsr2(lfsr):\n",
    "    feedback = (lfsr >> 21) ^ (lfsr >> 20)\n",
    "    return LShR(lfsr, 1) | (feedback << 21)\n",
    "\n",
    "def step_lfsr3(lfsr):\n",
    "    feedback = (lfsr >> 22) ^ (lfsr >> 21) ^ (lfsr >> 20) ^ (lfsr >> 7)\n",
    "    return LShR(lfsr, 1) | (feedback << 22)\n"
   ]
  },
  {
   "cell_type": "code",
   "execution_count": 2,
   "metadata": {},
   "outputs": [],
   "source": [
    "def detect_burst_of_zeros(solver, output_stream, t):\n",
    "    zero_burst = [output_stream[i] == 0 for i in range(t)]\n",
    "    solver.add(Or(zero_burst))  # Adiciona a restrição que verifica se há um burst de zeros\n"
   ]
  },
  {
   "cell_type": "code",
   "execution_count": 3,
   "metadata": {},
   "outputs": [],
   "source": [
    "def detect_repeated_burst(solver, output_stream, t):\n",
    "    # Verifica se o burst se repete no intervalo de 2^(t/2) passos\n",
    "    for i in range(2**(t//2)):\n",
    "        for j in range(i + 1, 2**(t//2)):\n",
    "            if solver.check(output_stream[i:i+t] == output_stream[j:j+t]) == sat:\n",
    "                return True\n",
    "    return False\n"
   ]
  },
  {
   "cell_type": "code",
   "execution_count": 4,
   "metadata": {},
   "outputs": [],
   "source": [
    "def run_a5_1_simulation(t):\n",
    "    solver = Solver()\n",
    "\n",
    "    # Definir o estado inicial aleatório dos LFSRs\n",
    "    lfsr1_initial = BitVec('lfsr1_initial', 19)\n",
    "    lfsr2_initial = BitVec('lfsr2_initial', 22)\n",
    "    lfsr3_initial = BitVec('lfsr3_initial', 23)\n",
    "    \n",
    "    solver.add(lfsr1_initial >= 0, lfsr1_initial < 2**19)\n",
    "    solver.add(lfsr2_initial >= 0, lfsr2_initial < 2**22)\n",
    "    solver.add(lfsr3_initial >= 0, lfsr3_initial < 2**23)\n",
    "    \n",
    "    # Aplicando a regra da maioria e avançando os LFSRs\n",
    "    output_stream = []\n",
    "    for step in range(2**t):\n",
    "        majority = majority_bit(lfsr1_initial, lfsr2_initial, lfsr3_initial)\n",
    "        output_stream.append(majority)\n",
    "        lfsr1_initial = If(majority == 1, step_lfsr1(lfsr1_initial), lfsr1_initial)\n",
    "        lfsr2_initial = If(majority == 1, step_lfsr2(lfsr2_initial), lfsr2_initial)\n",
    "        lfsr3_initial = If(majority == 1, step_lfsr3(lfsr3_initial), lfsr3_initial)\n",
    "    \n",
    "    # Verificar a propriedade de burst de zeros\n",
    "    detect_burst_of_zeros(solver, output_stream, t)\n",
    "\n",
    "    # Verificar a propriedade de repetição de burst\n",
    "    detect_repeated_burst(solver, output_stream, t)\n",
    "\n",
    "    # Tentar satisfazer as restrições e verificar se a propriedade ocorre\n",
    "    if solver.check() == sat:\n",
    "        print(\"Propriedade atingível!\")\n",
    "    else:\n",
    "        print(\"Propriedade não atingível.\")\n"
   ]
  }
 ],
 "metadata": {
  "kernelspec": {
   "display_name": "logica",
   "language": "python",
   "name": "python3"
  },
  "language_info": {
   "codemirror_mode": {
    "name": "ipython",
    "version": 3
   },
   "file_extension": ".py",
   "mimetype": "text/x-python",
   "name": "python",
   "nbconvert_exporter": "python",
   "pygments_lexer": "ipython3",
   "version": "3.10.15"
  }
 },
 "nbformat": 4,
 "nbformat_minor": 2
}
