{
 "cells": [
  {
   "cell_type": "markdown",
   "id": "36ccd200-f435-4c09-af3b-74d3444f2c11",
   "metadata": {},
   "source": [
    "# TP2 - Exercício 1\n",
    "## Grupo 1\n",
    "\n",
    "Diogo Coelho da Silva A100092\n",
    "\n",
    "Pedro Miguel Ramôa Oliveira A97686\n",
    "\n",
    "**Problema proposto:**\n",
    "\n",
    "Considere a descrição da cifra A5/1 que consta no documento [Lógica Computacional](https://paper.dropbox.com/doc/NwkyAeoKf0srn6MyQjWKP) . Informação complementar pode ser obtida no artigo da [Wikipedia](https://en.wikipedia.org/wiki/A5/1). \n",
    "\n",
    "Pretende-se:\n",
    "1. Definir e codificar, em Z3 e usando o tipo BitVec para modelar a informação, uma FSM que descreva o gerador de chaves.\n",
    "2. Considere as seguintes eventuais propriedades de erro:\n",
    "    1. ocorrência de um “burst” $0^t$  que ocorre em $2^t$ passos ou menos.\n",
    "    2. ocorrência de um “burst” de tamanho $t$ que repete um “burst” anterior no mesmo output em $2^{t/2}$  passos ou menos.\n",
    "\n",
    "Tente codificar estas propriedades e verificar se são acessíveis a partir de um estado inicial aleatoriamente gerado.\n",
    "\n",
    "\n",
    "**Proposta de resolução:**\n",
    "\n",
    "O código apresentado descreve um gerador de chaves do algoritmo de cifra A5/1, e tem como  objetivo de modelar o comportamento de três dispositivos de deslocamento (LFSRs) e verificar propriedades de segurança no output gerado. Cada função específica dos LFSRs calcula o feedback com base em bits determinados do registo, utilizando operações como deslocamento lógico e extração de bits. A função que calcula o bit de maioria determina se os LFSRs devem ser atualizados com base na soma dos bits mais baixos de cada LFSR. A simulação, realizada ao longo de um número definido de passos, imprime o estado inicial e atual dos LFSRs, juntamente com o resultado do bit de maioria em cada iteração.\n",
    "\n",
    "Além disso, o código inclui a deteção de propriedades, utilizando um solver Z3 para identificar a presença overflow de 0's. A execução da simulação gera estados iniciais aleatórios para os LFSRs e verifica se as propriedades de segurança podem ser alcançadas.\n"
   ]
  },
  {
   "cell_type": "markdown",
   "id": "65f2477b",
   "metadata": {},
   "source": [
    "#### 1. Importar as bibliotecas importantes"
   ]
  },
  {
   "cell_type": "code",
   "execution_count": 21,
   "id": "a62eac37",
   "metadata": {},
   "outputs": [],
   "source": [
    "from z3 import *\n",
    "import random"
   ]
  },
  {
   "cell_type": "markdown",
   "id": "c307a54c",
   "metadata": {},
   "source": [
    "- `z3`: Importa a biblioteca Z3, um solver de satisfabilidade (SMT)\n",
    "- `random`: Gera aleatoriedade para simular os eventos, como a seleção aleatória de estados ou a determinação de valores em cenários de simulação, proporcionando variabilidade nos resultados e comportamento do programa.\n"
   ]
  },
  {
   "cell_type": "markdown",
   "id": "8b8f3795",
   "metadata": {},
   "source": [
    "#### 2. Define os dispositivos de deslocamento"
   ]
  },
  {
   "cell_type": "markdown",
   "id": "affac330",
   "metadata": {},
   "source": [
    "As funções definidas implementam os passos de três registos de deslocamento (LFSRs) de acordo com o algoritmo da cifra A5/1. Cada função tem a seguinte finalidade:\n",
    "\n",
    "- **`passoLfsr1(lfsr)`**: Calcula o feedback do primeiro LFSR com base nos bits nas posições 18, 17, 16 e 13. A função realiza um deslocamento lógico à direita (LShR) do LFSR e insere o feedback na posição 18, retornando assim o novo estado do LFSR.\n",
    "\n",
    "- **`passoLfsr2(lfsr)`**: Calcula o feedback do segundo LFSR utilizando os bits nas posições 21 e 20. Semelhante à função anterior, faz um deslocamento lógico à direita e atualiza a posição 21 com o feedback gerado, devolvendo o novo estado do LFSR.\n",
    "\n",
    "- **`passoLfsr3(lfsr)`**: Obtém o feedback do terceiro LFSR a partir dos bits nas posições 22, 21, 20 e 7. A função também desloca o LFSR à direita e atualiza a posição 22 com o feedback, retornando o novo estado do LFSR.\n",
    "\n",
    "- **`bitMaioria(x, y, z)`**: Calcula o bit de maioria entre os três LFSRs. Se pelo menos dois dos LFSRs têm um bit de saída igual a 1, a função retorna 1; caso contrário, retorna 0. Esta função é utilizada para determinar se os LFSRs devem ser atualizados com base no bit de maioria.\n"
   ]
  },
  {
   "cell_type": "code",
   "execution_count": 22,
   "id": "e9d92333",
   "metadata": {},
   "outputs": [],
   "source": [
    "def calcFeedLfsr1(lfsr):\n",
    "    #Calcula o bit de feedback usando uma operação XOR dos bits 18,17,19,13 e faz o mesmo para os outros\n",
    "    feedback = (Extract(18, 18, lfsr) ^ Extract(17, 17, lfsr) ^\n",
    "                Extract(16, 16, lfsr) ^ Extract(13, 13, lfsr))\n",
    "    #LShR é uma operação de que desloca o lfsr para a direita\n",
    "    \n",
    "    return LShR(lfsr, 1) | (feedback << 18)\n",
    "\n",
    "def calcFeedLfsr2(lfsr):\n",
    "    feedback = (Extract(21, 21, lfsr) ^ Extract(20, 20, lfsr))\n",
    "    return LShR(lfsr, 1) | (feedback << 21)\n",
    "\n",
    "def calcFeedLfsr3(lfsr):\n",
    "    feedback = (Extract(22, 22, lfsr) ^ Extract(21, 21, lfsr) ^\n",
    "                Extract(20, 20, lfsr) ^ Extract(7, 7, lfsr))\n",
    "    return LShR(lfsr, 1) | (feedback << 22)\n",
    "\n",
    "def bitMaioria(x, y, z):\n",
    "#BitVecVal cria uma constante bit-vector cria 1 bit bit-vector com o valor 1\n",
    "# Retorna 1 se maioria (2 ou mais) dos bits de entrada for 1, senão retorna 0\n",
    "    return If((Extract(0, 0, x) + Extract(0, 0, y) + Extract(0, 0, z)) >= 2, BitVecVal(1, 1), BitVecVal(0, 1))"
   ]
  },
  {
   "cell_type": "markdown",
   "id": "d95b0170",
   "metadata": {},
   "source": [
    "#### 3. Definição da função de simulação da cifra A5\\1"
   ]
  },
  {
   "cell_type": "markdown",
   "id": "9e6f5f19",
   "metadata": {},
   "source": [
    "A função **`simulaA5_1(lfsr1Inicial, lfsr2Inicial, lfsr3Inicial, passos)`** simula o gerador de chaves do algoritmo A5/1, utilizando três registos de deslocamento (LFSRs). A função executa as seguintes operações:\n",
    "\n",
    "1. **Inicialização**: Os estados iniciais dos LFSRs são definidos a partir dos parametros de entrada e um array vazio é criado para armazenar o fluxo de saída.\n",
    "\n",
    "2. **Impressão do Estado Inicial**: A função imprime o estado inicial de cada LFSR antes de iniciar a simulação.\n",
    "\n",
    "3. **Loop de Simulação**: Para cada passo no número de iterações especificado:\n",
    "   - **Cálculo do Bit de Maioria**: A função `bitMaioria` é chamada para determinar o bit de maioria entre os três LFSRs. Este bit é adicionado ao fluxo de saída.\n",
    "   - **Atualização dos LFSRs**: Se o bit de maioria é igual a 1, os três LFSRs são atualizados utilizando as funções `calcFeedLfsr1`, `calcFeedLfsr2` e `calcFeedLfsr3`.\n",
    "   - **Avaliação e Impressão dos Valores**: Os valores do bit de maioria e da saída são simplificados e impressos junto com os estados atuais dos LFSRs.\n",
    "\n",
    "4. **Retorno do Fluxo de Saída**: Após completar todos os passos, a função retorna o fluxo de saída gerado durante a simulação.\n",
    "\n",
    "Esta função é essencial para observar como os estados dos LFSRs evoluem ao longo do tempo e como o fluxo de saída é gerado com base no bit de maioria.\n"
   ]
  },
  {
   "cell_type": "code",
   "execution_count": 23,
   "id": "bdbfcaeb",
   "metadata": {},
   "outputs": [],
   "source": [
    "def simulaA5_1(lfsr1Inicial, lfsr2Inicial, lfsr3Inicial, passos):\n",
    "    # Inicialização dos registos com os valores iniciais\n",
    "    lfsr1 = lfsr1Inicial\n",
    "    lfsr2 = lfsr2Inicial\n",
    "    lfsr3 = lfsr3Inicial\n",
    "    output = [] # Lista para armazenar os bits de saída\n",
    "\n",
    "    # Imprime o estado inicial dos três registos\n",
    "    print(f\"Estado inicial:\\n LFSR1: {lfsr1}\\n LFSR2: {lfsr2}\\n LFSR3: {lfsr3}\\n\")\n",
    "\n",
    "    # Executa a simulação pelo número de passos especificado\n",
    "    for passo in range(passos):\n",
    "        # Calcula o bit de maioria dos três registos\n",
    "        maioria = bitMaioria(lfsr1, lfsr2, lfsr3)\n",
    "        output.append(maioria) # Adiciona o bit de maioria à saída\n",
    "\n",
    "        # Atualiza os registos apenas se o bit de maioria for 1\n",
    "        if maioria == BitVecVal(1, 1):\n",
    "            lfsr1 = calcFeedLfsr1(lfsr1)\n",
    "            lfsr2 = calcFeedLfsr2(lfsr2)\n",
    "            lfsr3 = calcFeedLfsr3(lfsr3)\n",
    "\n",
    "        # Simplifica os valores para impressão\n",
    "        #A função simplify definida no z3 simplica as expressões simbolicas... converte as expressões bit-vector em valores mais legiveis\n",
    "        valorMaioria = simplify(maioria)\n",
    "        valorSaida = simplify(output[-1])\n",
    "\n",
    "        # Imprime o estado atual de cada registo, bit de maioria e saída\n",
    "        print(f\"Passo {passo + 1}:\")\n",
    "        print(f\" LFSR1: {lfsr1} | LFSR2: {lfsr2} | LFSR3: {lfsr3} | Maioria: {valorMaioria} | Saída: {valorSaida}\\n\")\n",
    "\n",
    "    return output # Devolve a sequência de bits gerada"
   ]
  },
  {
   "cell_type": "markdown",
   "id": "0a0eb1b0",
   "metadata": {},
   "source": [
    "#### 4. Restrições do burst"
   ]
  },
  {
   "cell_type": "markdown",
   "id": "55a650a1",
   "metadata": {},
   "source": [
    "As funções **`detectarBurstoDeZeros(solver, fluxoSaida, t)`** e **`detectarBurstoRepetido(solver, fluxoSaida, t)`** têm como objetivo verificar propriedades de segurança no fluxo de saída gerado pelo algoritmo A5/1, focando na deteção de padrões que podem comprometer a aleatoriedade e a robustez da chave gerada.\n",
    "\n",
    "- **`detectarBurstoDeZeros(solver, fluxoSaida, t)`**: Esta função é responsável por identificar a ocorrência de um “burst” de zeros, que consiste em uma sequência contínua de $t$ bits com valor 0. Para cada posição no fluxo de saída, a função verifica se há uma sequência de $t$ zeros consecutivos. Além disso, a função garante que essa sequência de zeros ocorra em até $2^t$ passos a partir do início da sequência, adicionando as restrições necessárias ao solver. Essa propriedade é crucial, pois uma sequência longa de zeros pode indicar fraquezas no gerador de chaves, permitindo previsibilidade na saída.\n",
    "\n",
    "- **`detectarBurstoRepetido(solver, fluxoSaida, t)`**: Esta função procura identificar se há repetições de um “burst” de tamanho $t$ que ocorrem em momentos diferentes no mesmo fluxo de saída. A verificação assegura que a repetição do burst anterior aconteça em um intervalo de até $2^t$ passos. Se as condições forem satisfeitas, as restrições são adicionadas ao solver para futura verificação. A deteção de repetições de bursts é importante, pois pode sugerir que o gerador não está produzindo uma sequência suficientemente aleatória, o que poderia facilitar a quebra da cifra.\n",
    "\n",
    "Essas funções ajudam a garantir que o fluxo de saída do gerador de chaves A5/1 não apresenta padrões previsíveis que poderiam comprometer a segurança da cifra. Assim, são consideradas as seguintes propriedades de erro:\n",
    "1. A ocorrência de um “burst” $0^t$ (ou seja, $t$ zeros) que ocorre em $2^t$ passos ou menos, indicando um potencial problema de segurança.\n",
    "2. A ocorrência de um “burst” de tamanho $t$ que repete um “burst” anterior no mesmo output em $2^t$ passos ou menos, que poderia permitir a um atacante prever partes da chave gerada.\n",
    "\n",
    "A implementação destas verificações permite uma análise formal da segurança do gerador de chaves, contribuindo para a robustez do sistema de criptografia.\n"
   ]
  },
  {
   "cell_type": "code",
   "execution_count": 24,
   "id": "8ca3d4d3",
   "metadata": {},
   "outputs": [],
   "source": [
    "def detectaBurstDeZeros(solver, fluxoSaida, t):\n",
    "    # Percorre o fluxo de saída procurando sequências de t zeros consecutivos\n",
    "    for i in range(len(fluxoSaida) - t + 1):\n",
    "        # Cria uma expressão que verifica se existe uma sequência de t zeros\n",
    "        burstZero = And([fluxoSaida[i + j] == BitVecVal(0, 1) for j in range(t)])\n",
    "        # Garante que a sequência ocorre dentro de 2^t passos\n",
    "        for j in range(i + 1, min(i + 2**t, len(fluxoSaida) - t + 1)):\n",
    "            solver.add(burstZero)\n",
    "\n",
    "def detectaBurstRepetido(solver, fluxoSaida, t):\n",
    "    # Percorre o fluxo de saída procurando padrões repetidos de tamanho t\n",
    "    for i in range(len(fluxoSaida) - t + 1):\n",
    "        # Extrai o primeiro padrão (burst1)\n",
    "        burst1 = fluxoSaida[i:i + t]\n",
    "        # Procura um segundo padrão idêntico\n",
    "        for j in range(i + 1, len(fluxoSaida) - t + 1):\n",
    "            burst2 = fluxoSaida[j:j + t]\n",
    "            # Verifica se os padrões são iguais e ocorrem dentro de 2^(t/2) passos\n",
    "            if j - i <= 2**(t // 2):\n",
    "                solver.add(burst1 == burst2)"
   ]
  },
  {
   "cell_type": "markdown",
   "id": "8c6f6e25",
   "metadata": {},
   "source": [
    "#### 5. Simulação e apresentação de resultados"
   ]
  },
  {
   "cell_type": "markdown",
   "id": "2c548df3",
   "metadata": {},
   "source": [
    "Esta função executa uma simulação da cifra A5/1, utilizando registradores de deslocamento linear (LFSRs). A cada execução, são gerados estados iniciais aleatórios para os LFSRs, o que resulta em diferentes fluxos de saída.\n",
    "\n",
    "### Parâmetros\n",
    "\n",
    "- **t**: Um inteiro que representa o tamanho do burst a ser verificado.\n",
    "- **passos**: Um inteiro que indica o número de passos na simulação.\n",
    "\n",
    "### Funcionamento\n",
    "\n",
    "1. **Criar um Solver**: Um solver do Z3 é criado para ajudar na verificação de propriedades.\n",
    "2. **Gerar Estados Iniciais Aleatórios**: \n",
    "   - Três estados iniciais aleatórios são gerados para os LFSRs:\n",
    "     - `lfsr1Inicial`: um número aleatório de 19 bits.\n",
    "     - `lfsr2Inicial`: um número aleatório de 22 bits.\n",
    "     - `lfsr3Inicial`: um número aleatório de 23 bits.\n",
    "3. **Gerar Fluxo de Saída**: O fluxo de saída é gerado a partir dos estados iniciais aleatórios usando a função `simularA5_1`.\n",
    "4. **Verificar Propriedades**:\n",
    "   - A função verifica se o fluxo contém um burst de zeros utilizando `detectarBurstoDeZeros`.\n",
    "   - A função também verifica se há um burst repetido com `detectarBurstoRepetido`.\n",
    "5. **Verificação de Satisfatibilidade**: O solver é usado para verificar se as propriedades especificadas são satisfatórias.\n",
    "   - Se satisfatórias, imprime que as propriedades são atingíveis a partir do estado inicial aleatório.\n",
    "   - Caso contrário, imprime que as propriedades não são atingíveis."
   ]
  },
  {
   "cell_type": "code",
   "execution_count": 25,
   "id": "cc3c48e7",
   "metadata": {},
   "outputs": [
    {
     "name": "stdout",
     "output_type": "stream",
     "text": [
      "Estado inicial:\n",
      " LFSR1: 497789\n",
      " LFSR2: 1629339\n",
      " LFSR3: 7559477\n",
      "\n",
      "Passo 1:\n",
      " LFSR1: 497789 | LFSR2: 1629339 | LFSR3: 7559477 | Maioria: 0 | Saída: 0\n",
      "\n",
      "Passo 2:\n",
      " LFSR1: 497789 | LFSR2: 1629339 | LFSR3: 7559477 | Maioria: 0 | Saída: 0\n",
      "\n",
      "Passo 3:\n",
      " LFSR1: 497789 | LFSR2: 1629339 | LFSR3: 7559477 | Maioria: 0 | Saída: 0\n",
      "\n",
      "Passo 4:\n",
      " LFSR1: 497789 | LFSR2: 1629339 | LFSR3: 7559477 | Maioria: 0 | Saída: 0\n",
      "\n",
      "Passo 5:\n",
      " LFSR1: 497789 | LFSR2: 1629339 | LFSR3: 7559477 | Maioria: 0 | Saída: 0\n",
      "\n",
      "Passo 6:\n",
      " LFSR1: 497789 | LFSR2: 1629339 | LFSR3: 7559477 | Maioria: 0 | Saída: 0\n",
      "\n",
      "Passo 7:\n",
      " LFSR1: 497789 | LFSR2: 1629339 | LFSR3: 7559477 | Maioria: 0 | Saída: 0\n",
      "\n",
      "Passo 8:\n",
      " LFSR1: 497789 | LFSR2: 1629339 | LFSR3: 7559477 | Maioria: 0 | Saída: 0\n",
      "\n",
      "Passo 9:\n",
      " LFSR1: 497789 | LFSR2: 1629339 | LFSR3: 7559477 | Maioria: 0 | Saída: 0\n",
      "\n",
      "Passo 10:\n",
      " LFSR1: 497789 | LFSR2: 1629339 | LFSR3: 7559477 | Maioria: 0 | Saída: 0\n",
      "\n",
      "Passo 11:\n",
      " LFSR1: 497789 | LFSR2: 1629339 | LFSR3: 7559477 | Maioria: 0 | Saída: 0\n",
      "\n",
      "Passo 12:\n",
      " LFSR1: 497789 | LFSR2: 1629339 | LFSR3: 7559477 | Maioria: 0 | Saída: 0\n",
      "\n",
      "Passo 13:\n",
      " LFSR1: 497789 | LFSR2: 1629339 | LFSR3: 7559477 | Maioria: 0 | Saída: 0\n",
      "\n",
      "Passo 14:\n",
      " LFSR1: 497789 | LFSR2: 1629339 | LFSR3: 7559477 | Maioria: 0 | Saída: 0\n",
      "\n",
      "Passo 15:\n",
      " LFSR1: 497789 | LFSR2: 1629339 | LFSR3: 7559477 | Maioria: 0 | Saída: 0\n",
      "\n",
      "Passo 16:\n",
      " LFSR1: 497789 | LFSR2: 1629339 | LFSR3: 7559477 | Maioria: 0 | Saída: 0\n",
      "\n",
      "Propriedades atingíveis a partir do estado inicial aleatório!\n"
     ]
    }
   ],
   "source": [
    "def executaSimulacaoA5_1(t, passos):\n",
    "    # Cria um objeto solver para verificar as propriedades\n",
    "    solver = Solver()\n",
    "\n",
    "    # Gera estados iniciais aleatórios para os três registos LFSR\n",
    "    # LFSR1: 19 bits, LFSR2: 22 bits, LFSR3: 23 bits\n",
    "    lfsr1Inicial = BitVecVal(random.randint(0, 2**19 - 1), 19)\n",
    "    lfsr2Inicial = BitVecVal(random.randint(0, 2**22 - 1), 22)\n",
    "    lfsr3Inicial = BitVecVal(random.randint(0, 2**23 - 1), 23)\n",
    "\n",
    "    # Gera a sequência de saída usando os estados iniciais\n",
    "    output = simulaA5_1(lfsr1Inicial, lfsr2Inicial, lfsr3Inicial, passos)\n",
    "\n",
    "    # Verifica a propriedade de sequência de zeros\n",
    "    detectaBurstDeZeros(solver, output, t)\n",
    "\n",
    "    # Verifica a propriedade de padrões repetidos\n",
    "    detectaBurstRepetido(solver, output, t)\n",
    "\n",
    "    # Verifica se as propriedades são satisfeitas com os estados iniciais dados\n",
    "    if solver.check() == sat:\n",
    "        print(\"Propriedades atingíveis a partir do estado inicial aleatório!\")\n",
    "    else:\n",
    "        print(\"Propriedades não atingíveis a partir do estado inicial aleatório.\")\n",
    "\n",
    "# Example execution\n",
    "t = 3  # Tamanho da sequência a verificar\n",
    "passos = 16  # Número de passos da simulação\n",
    "executaSimulacaoA5_1(t, passos)"
   ]
  }
 ],
 "metadata": {
  "kernelspec": {
   "display_name": "logica",
   "language": "python",
   "name": "python3"
  },
  "language_info": {
   "codemirror_mode": {
    "name": "ipython",
    "version": 3
   },
   "file_extension": ".py",
   "mimetype": "text/x-python",
   "name": "python",
   "nbconvert_exporter": "python",
   "pygments_lexer": "ipython3",
   "version": "3.10.15"
  }
 },
 "nbformat": 4,
 "nbformat_minor": 5
}
