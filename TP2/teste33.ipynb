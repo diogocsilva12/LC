{
 "cells": [
  {
   "cell_type": "code",
   "execution_count": 1,
   "metadata": {},
   "outputs": [
    {
     "ename": "KeyboardInterrupt",
     "evalue": "",
     "output_type": "error",
     "traceback": [
      "\u001b[0;31m---------------------------------------------------------------------------\u001b[0m",
      "\u001b[0;31mKeyboardInterrupt\u001b[0m                         Traceback (most recent call last)",
      "Cell \u001b[0;32mIn[1], line 51\u001b[0m\n\u001b[1;32m     48\u001b[0m         \u001b[38;5;28mprint\u001b[39m(\u001b[38;5;124m\"\u001b[39m\u001b[38;5;124mNão foi possível satisfazer a propriedade.\u001b[39m\u001b[38;5;124m\"\u001b[39m)\n\u001b[1;32m     50\u001b[0m \u001b[38;5;66;03m# Exemplo de execução\u001b[39;00m\n\u001b[0;32m---> 51\u001b[0m \u001b[43mmultiplicacao_z3\u001b[49m\u001b[43m(\u001b[49m\u001b[38;5;241;43m5\u001b[39;49m\u001b[43m,\u001b[49m\u001b[43m \u001b[49m\u001b[38;5;241;43m3\u001b[39;49m\u001b[43m,\u001b[49m\u001b[43m \u001b[49m\u001b[38;5;241;43m8\u001b[39;49m\u001b[43m)\u001b[49m  \u001b[38;5;66;03m# Teste com a = 5, b = 3, e n = 8 bits\u001b[39;00m\n\u001b[1;32m     52\u001b[0m multiplicacao_z3(\u001b[38;5;241m10\u001b[39m, \u001b[38;5;241m10\u001b[39m, \u001b[38;5;241m8\u001b[39m)  \u001b[38;5;66;03m# Teste com a = 10, b = 10, e n = 8 bits\u001b[39;00m\n\u001b[1;32m     53\u001b[0m multiplicacao_z3(\u001b[38;5;241m15\u001b[39m, \u001b[38;5;241m7\u001b[39m, \u001b[38;5;241m8\u001b[39m)\n",
      "Cell \u001b[0;32mIn[1], line 36\u001b[0m, in \u001b[0;36mmultiplicacao_z3\u001b[0;34m(a_val, b_val, n_bits)\u001b[0m\n\u001b[1;32m     31\u001b[0m solver\u001b[38;5;241m.\u001b[39madd(If(even_case, \n\u001b[1;32m     32\u001b[0m                x \u001b[38;5;241m==\u001b[39m x \u001b[38;5;241m<<\u001b[39m \u001b[38;5;241m1\u001b[39m, \n\u001b[1;32m     33\u001b[0m                y \u001b[38;5;241m==\u001b[39m y \u001b[38;5;241m-\u001b[39m \u001b[38;5;241m1\u001b[39m) )\n\u001b[1;32m     35\u001b[0m \u001b[38;5;66;03m# Atualizar z\u001b[39;00m\n\u001b[0;32m---> 36\u001b[0m solver\u001b[38;5;241m.\u001b[39madd(If(odd_case, z \u001b[38;5;241m==\u001b[39m z \u001b[38;5;241m+\u001b[39m x, \u001b[43mz\u001b[49m\u001b[43m \u001b[49m\u001b[38;5;241;43m==\u001b[39;49m\u001b[43m \u001b[49m\u001b[43mz\u001b[49m))\n\u001b[1;32m     38\u001b[0m \u001b[38;5;66;03m# Atualizar y\u001b[39;00m\n\u001b[1;32m     39\u001b[0m solver\u001b[38;5;241m.\u001b[39madd(y \u001b[38;5;241m==\u001b[39m y \u001b[38;5;241m>>\u001b[39m \u001b[38;5;241m1\u001b[39m)\n",
      "File \u001b[0;32m~/.local/lib/python3.10/site-packages/z3/z3.py:1033\u001b[0m, in \u001b[0;36mExprRef.__eq__\u001b[0;34m(self, other)\u001b[0m\n\u001b[1;32m   1031\u001b[0m \u001b[38;5;28;01mif\u001b[39;00m other \u001b[38;5;129;01mis\u001b[39;00m \u001b[38;5;28;01mNone\u001b[39;00m:\n\u001b[1;32m   1032\u001b[0m     \u001b[38;5;28;01mreturn\u001b[39;00m \u001b[38;5;28;01mFalse\u001b[39;00m\n\u001b[0;32m-> 1033\u001b[0m a, b \u001b[38;5;241m=\u001b[39m \u001b[43m_coerce_exprs\u001b[49m\u001b[43m(\u001b[49m\u001b[38;5;28;43mself\u001b[39;49m\u001b[43m,\u001b[49m\u001b[43m \u001b[49m\u001b[43mother\u001b[49m\u001b[43m)\u001b[49m\n\u001b[1;32m   1034\u001b[0m \u001b[38;5;28;01mreturn\u001b[39;00m BoolRef(Z3_mk_eq(\u001b[38;5;28mself\u001b[39m\u001b[38;5;241m.\u001b[39mctx_ref(), a\u001b[38;5;241m.\u001b[39mas_ast(), b\u001b[38;5;241m.\u001b[39mas_ast()), \u001b[38;5;28mself\u001b[39m\u001b[38;5;241m.\u001b[39mctx)\n",
      "File \u001b[0;32m~/.local/lib/python3.10/site-packages/z3/z3.py:1235\u001b[0m, in \u001b[0;36m_coerce_exprs\u001b[0;34m(a, b, ctx)\u001b[0m\n\u001b[1;32m   1233\u001b[0m s \u001b[38;5;241m=\u001b[39m \u001b[38;5;28;01mNone\u001b[39;00m\n\u001b[1;32m   1234\u001b[0m s \u001b[38;5;241m=\u001b[39m _coerce_expr_merge(s, a)\n\u001b[0;32m-> 1235\u001b[0m s \u001b[38;5;241m=\u001b[39m \u001b[43m_coerce_expr_merge\u001b[49m\u001b[43m(\u001b[49m\u001b[43ms\u001b[49m\u001b[43m,\u001b[49m\u001b[43m \u001b[49m\u001b[43mb\u001b[49m\u001b[43m)\u001b[49m\n\u001b[1;32m   1236\u001b[0m a \u001b[38;5;241m=\u001b[39m s\u001b[38;5;241m.\u001b[39mcast(a)\n\u001b[1;32m   1237\u001b[0m b \u001b[38;5;241m=\u001b[39m s\u001b[38;5;241m.\u001b[39mcast(b)\n",
      "File \u001b[0;32m~/.local/lib/python3.10/site-packages/z3/z3.py:1203\u001b[0m, in \u001b[0;36m_coerce_expr_merge\u001b[0;34m(s, a)\u001b[0m\n\u001b[1;32m   1201\u001b[0m \u001b[38;5;28;01mdef\u001b[39;00m \u001b[38;5;21m_coerce_expr_merge\u001b[39m(s, a):\n\u001b[1;32m   1202\u001b[0m     \u001b[38;5;28;01mif\u001b[39;00m is_expr(a):\n\u001b[0;32m-> 1203\u001b[0m         s1 \u001b[38;5;241m=\u001b[39m \u001b[43ma\u001b[49m\u001b[38;5;241;43m.\u001b[39;49m\u001b[43msort\u001b[49m\u001b[43m(\u001b[49m\u001b[43m)\u001b[49m\n\u001b[1;32m   1204\u001b[0m         \u001b[38;5;28;01mif\u001b[39;00m s \u001b[38;5;129;01mis\u001b[39;00m \u001b[38;5;28;01mNone\u001b[39;00m:\n\u001b[1;32m   1205\u001b[0m             \u001b[38;5;28;01mreturn\u001b[39;00m s1\n",
      "File \u001b[0;32m~/.local/lib/python3.10/site-packages/z3/z3.py:3545\u001b[0m, in \u001b[0;36mBitVecRef.sort\u001b[0;34m(self)\u001b[0m\n\u001b[1;32m   3536\u001b[0m \u001b[38;5;28;01mdef\u001b[39;00m \u001b[38;5;21msort\u001b[39m(\u001b[38;5;28mself\u001b[39m):\n\u001b[1;32m   3537\u001b[0m \u001b[38;5;250m    \u001b[39m\u001b[38;5;124;03m\"\"\"Return the sort of the bit-vector expression `self`.\u001b[39;00m\n\u001b[1;32m   3538\u001b[0m \n\u001b[1;32m   3539\u001b[0m \u001b[38;5;124;03m    >>> x = BitVec('x', 32)\u001b[39;00m\n\u001b[0;32m   (...)\u001b[0m\n\u001b[1;32m   3543\u001b[0m \u001b[38;5;124;03m    True\u001b[39;00m\n\u001b[1;32m   3544\u001b[0m \u001b[38;5;124;03m    \"\"\"\u001b[39;00m\n\u001b[0;32m-> 3545\u001b[0m     \u001b[38;5;28;01mreturn\u001b[39;00m \u001b[43mBitVecSortRef\u001b[49m\u001b[43m(\u001b[49m\u001b[43mZ3_get_sort\u001b[49m\u001b[43m(\u001b[49m\u001b[38;5;28;43mself\u001b[39;49m\u001b[38;5;241;43m.\u001b[39;49m\u001b[43mctx_ref\u001b[49m\u001b[43m(\u001b[49m\u001b[43m)\u001b[49m\u001b[43m,\u001b[49m\u001b[43m \u001b[49m\u001b[38;5;28;43mself\u001b[39;49m\u001b[38;5;241;43m.\u001b[39;49m\u001b[43mas_ast\u001b[49m\u001b[43m(\u001b[49m\u001b[43m)\u001b[49m\u001b[43m)\u001b[49m\u001b[43m,\u001b[49m\u001b[43m \u001b[49m\u001b[38;5;28;43mself\u001b[39;49m\u001b[38;5;241;43m.\u001b[39;49m\u001b[43mctx\u001b[49m\u001b[43m)\u001b[49m\n",
      "File \u001b[0;32m~/.local/lib/python3.10/site-packages/z3/z3.py:348\u001b[0m, in \u001b[0;36mAstRef.__init__\u001b[0;34m(self, ast, ctx)\u001b[0m\n\u001b[1;32m    346\u001b[0m \u001b[38;5;28mself\u001b[39m\u001b[38;5;241m.\u001b[39mast \u001b[38;5;241m=\u001b[39m ast\n\u001b[1;32m    347\u001b[0m \u001b[38;5;28mself\u001b[39m\u001b[38;5;241m.\u001b[39mctx \u001b[38;5;241m=\u001b[39m _get_ctx(ctx)\n\u001b[0;32m--> 348\u001b[0m Z3_inc_ref(\u001b[38;5;28mself\u001b[39m\u001b[38;5;241m.\u001b[39mctx\u001b[38;5;241m.\u001b[39mref(), \u001b[38;5;28;43mself\u001b[39;49m\u001b[38;5;241;43m.\u001b[39;49m\u001b[43mas_ast\u001b[49m\u001b[43m(\u001b[49m\u001b[43m)\u001b[49m)\n",
      "File \u001b[0;32m~/.local/lib/python3.10/site-packages/z3/z3.py:563\u001b[0m, in \u001b[0;36mSortRef.as_ast\u001b[0;34m(self)\u001b[0m\n\u001b[1;32m    562\u001b[0m \u001b[38;5;28;01mdef\u001b[39;00m \u001b[38;5;21mas_ast\u001b[39m(\u001b[38;5;28mself\u001b[39m):\n\u001b[0;32m--> 563\u001b[0m     \u001b[38;5;28;01mreturn\u001b[39;00m \u001b[43mZ3_sort_to_ast\u001b[49m\u001b[43m(\u001b[49m\u001b[38;5;28;43mself\u001b[39;49m\u001b[38;5;241;43m.\u001b[39;49m\u001b[43mctx_ref\u001b[49m\u001b[43m(\u001b[49m\u001b[43m)\u001b[49m\u001b[43m,\u001b[49m\u001b[43m \u001b[49m\u001b[38;5;28;43mself\u001b[39;49m\u001b[38;5;241;43m.\u001b[39;49m\u001b[43mast\u001b[49m\u001b[43m)\u001b[49m\n",
      "File \u001b[0;32m~/.local/lib/python3.10/site-packages/z3/z3core.py:2824\u001b[0m, in \u001b[0;36mZ3_sort_to_ast\u001b[0;34m(a0, a1, _elems)\u001b[0m\n\u001b[1;32m   2823\u001b[0m \u001b[38;5;28;01mdef\u001b[39;00m \u001b[38;5;21mZ3_sort_to_ast\u001b[39m(a0, a1, _elems\u001b[38;5;241m=\u001b[39mElementaries(_lib\u001b[38;5;241m.\u001b[39mZ3_sort_to_ast)):\n\u001b[0;32m-> 2824\u001b[0m   r \u001b[38;5;241m=\u001b[39m \u001b[43m_elems\u001b[49m\u001b[38;5;241;43m.\u001b[39;49m\u001b[43mf\u001b[49m\u001b[43m(\u001b[49m\u001b[43ma0\u001b[49m\u001b[43m,\u001b[49m\u001b[43m \u001b[49m\u001b[43ma1\u001b[49m\u001b[43m)\u001b[49m\n\u001b[1;32m   2825\u001b[0m   _elems\u001b[38;5;241m.\u001b[39mCheck(a0)\n\u001b[1;32m   2826\u001b[0m   \u001b[38;5;28;01mreturn\u001b[39;00m r\n",
      "\u001b[0;31mKeyboardInterrupt\u001b[0m: "
     ]
    }
   ],
   "source": [
    "from z3 import BitVec, Solver, If, Not, Or\n",
    "\n",
    "def multiplicacao_z3(a_val, b_val, n_bits):\n",
    "    # Definir variáveis de bit\n",
    "    a = BitVec('a', n_bits)\n",
    "    b = BitVec('b', n_bits)\n",
    "    x = BitVec('x', n_bits)\n",
    "    y = BitVec('y', n_bits)\n",
    "    z = BitVec('z', n_bits)\n",
    "\n",
    "    # Criar solver\n",
    "    solver = Solver()\n",
    "\n",
    "    # Adicionar valores fixos para a e b\n",
    "    solver.add(a == a_val, b == b_val)\n",
    "    \n",
    "    # Estado inicial: x = a, y = b, z = 0\n",
    "    solver.add(x == a, y == b, z == 0)\n",
    "\n",
    "    # Laço de multiplicação\n",
    "    while True:\n",
    "        # Verifica se y é 0 para sair do laço\n",
    "        if solver.check(y == 0) == 'sat':\n",
    "            break\n",
    "\n",
    "        # Condições do laço\n",
    "        even_case = (y % 2 == 0)  # Se y é par\n",
    "        odd_case = Not(even_case)  # Se y é ímpar\n",
    "\n",
    "        # Adicionar a lógica do laço\n",
    "        solver.add(If(even_case, \n",
    "                       x == x << 1, \n",
    "                       y == y - 1) )\n",
    "        \n",
    "        # Atualizar z\n",
    "        solver.add(If(odd_case, z == z + x, z == z))\n",
    "        \n",
    "        # Atualizar y\n",
    "        solver.add(y == y >> 1)\n",
    "\n",
    "    # Verificação da propriedade z == a * b\n",
    "    solver.add(z == a * b)\n",
    "\n",
    "    # Resolver o sistema\n",
    "    if solver.check() == 'sat':\n",
    "        print(f\"Para a = {a_val}, b = {b_val}, temos z = {solver.model()[z]}.\")\n",
    "    else:\n",
    "        print(\"Não foi possível satisfazer a propriedade.\")\n",
    "\n",
    "# Exemplo de execução\n",
    "multiplicacao_z3(5, 3, 8)  # Teste com a = 5, b = 3, e n = 8 bits\n",
    "multiplicacao_z3(10, 10, 8)  # Teste com a = 10, b = 10, e n = 8 bits\n",
    "multiplicacao_z3(15, 7, 8)  # Teste com a = 15, b = 7, e n = 8 bits\n"
   ]
  }
 ],
 "metadata": {
  "kernelspec": {
   "display_name": "logica",
   "language": "python",
   "name": "python3"
  },
  "language_info": {
   "codemirror_mode": {
    "name": "ipython",
    "version": 3
   },
   "file_extension": ".py",
   "mimetype": "text/x-python",
   "name": "python",
   "nbconvert_exporter": "python",
   "pygments_lexer": "ipython3",
   "version": "3.10.15"
  }
 },
 "nbformat": 4,
 "nbformat_minor": 2
}
