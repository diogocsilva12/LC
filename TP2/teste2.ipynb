{
 "cells": [
  {
   "cell_type": "code",
   "execution_count": 48,
   "metadata": {},
   "outputs": [],
   "source": [
    "from z3 import *\n",
    "\n",
    "# Define o tamanho do bit para a precisão dos inteiros\n",
    "# Solicita o valor de n ao usuário\n",
    "n = int(input(\"Insira o número de bits para a precisão (n): \"))\n",
    "\n",
    "# Definindo as variáveis de bit com o tamanho especificado pelo usuário\n",
    "a = BitVec('a', n)\n",
    "b = BitVec('b', n)\n",
    "x = BitVec('x', n)\n",
    "y = BitVec('y', n)\n",
    "z = BitVec('z', n)  \n",
    "\n",
    "# Estado inicial\n",
    "initial_state = And(x == a, y == b, z == 0)\n",
    "\n",
    "# Relação de transição:\n",
    "# Se y for par, então x, y, z = x << 1, y >> 1, z\n",
    "# Se y for ímpar, então x, y, z = x, y - 1, z + x\n",
    "transition_even = And(y % 2 == 0, x == x << 1, y == y >> 1, z == z)\n",
    "transition_odd = And(y % 2 != 0, x == x, y == y - 1, z == z + x)\n",
    "\n",
    "# Transição para o próximo estado\n",
    "next_state = Or(transition_even, transition_odd)\n",
    "\n",
    "# Estado de erro - overflow nas operações\n",
    "# Detectamos overflow verificando se os valores excedem o tamanho do bit n\n",
    "overflow_shift = (x << 1).size() > n  # Operação de deslocamento à esquerda\n",
    "overflow_sum = (z + x).size() > n  # Operação de soma\n",
    "\n",
    "error_state = Or(overflow_shift, overflow_sum)\n"
   ]
  },
  {
   "cell_type": "code",
   "execution_count": 49,
   "metadata": {},
   "outputs": [
    {
     "name": "stdout",
     "output_type": "stream",
     "text": [
      "Base da indução mantida.\n",
      "Passo da indução mantido.\n"
     ]
    }
   ],
   "source": [
    "# Definindo o solver\n",
    "solver = Solver()\n",
    "\n",
    "# Base da indução: garantir que o invariante é verdadeiro no estado inicial\n",
    "invariant = (x * y + z == a * b)\n",
    "base_case = Implies(initial_state, invariant)\n",
    "solver.add(Not(base_case))\n",
    "\n",
    "# Verificando se o base_case é válido\n",
    "if solver.check() == unsat:\n",
    "    print(\"Base da indução mantida.\")\n",
    "else:\n",
    "    print(\"Base da indução falhou:\", solver.model())\n",
    "\n",
    "# Passo da indução: verificar se o invariante continua válido após a transição\n",
    "induction_step = Implies(And(invariant, next_state), invariant)\n",
    "solver.push()\n",
    "solver.add(Not(induction_step))\n",
    "\n",
    "# Verificando o passo da indução\n",
    "if solver.check() == unsat:\n",
    "    print(\"Passo da indução mantido.\")\n",
    "else:\n",
    "    print(\"Passo da indução falhou:\", solver.model())\n",
    "solver.pop()\n"
   ]
  },
  {
   "cell_type": "code",
   "execution_count": 50,
   "metadata": {},
   "outputs": [
    {
     "name": "stdout",
     "output_type": "stream",
     "text": [
      "Propriedade de segurança mantida. Nenhum estado de erro é acessível.\n"
     ]
    }
   ],
   "source": [
    "# Condição de restrição inicial\n",
    "safe_initial_condition = And(initial_state, a < 2**(n//2), b < 2**(n//2))\n",
    "\n",
    "# Garantir que não há estado de erro acessível a partir da condição inicial\n",
    "secure = Implies(safe_initial_condition, Not(error_state))\n",
    "solver.push()\n",
    "solver.add(Not(secure))\n",
    "\n",
    "# Verificando a segurança\n",
    "if solver.check() == unsat:\n",
    "    print(\"Propriedade de segurança mantida. Nenhum estado de erro é acessível.\")\n",
    "else:\n",
    "    print(\"A propriedade de segurança falhou:\", solver.model())\n",
    "solver.pop()\n"
   ]
  }
 ],
 "metadata": {
  "kernelspec": {
   "display_name": "logica",
   "language": "python",
   "name": "python3"
  },
  "language_info": {
   "codemirror_mode": {
    "name": "ipython",
    "version": 3
   },
   "file_extension": ".py",
   "mimetype": "text/x-python",
   "name": "python",
   "nbconvert_exporter": "python",
   "pygments_lexer": "ipython3",
   "version": "3.10.15"
  }
 },
 "nbformat": 4,
 "nbformat_minor": 2
}
