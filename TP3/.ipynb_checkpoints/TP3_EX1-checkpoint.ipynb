{
 "cells": [
  {
   "cell_type": "markdown",
   "metadata": {},
   "source": [
    "# TP3 - Exercício 1\n",
    "## Grupo 1\n",
    "\n",
    "*   Diogo Coelho da Silva A100092\n",
    "*   Pedro Miguel Ramôa Oliveira A97686\n",
    "\n",
    "[Lógica Computacional](https://paper.dropbox.com/doc/NwkyAeoKf0srn6MyQjWKP) template link\n",
    "\n",
    "**Problema proposto:**\n",
    "O [algoritmo extendido de Euclides](https://en.wikipedia.org/wiki/Extended_Euclidean_algorithm) (EXA) aceita dois inteiros constantes  $a,b>0$  e devolve inteiros $r,s,t$ tais que  $a*s + b*t = r$  e  $r = \\gcd(a,b)$. \n",
    "\n",
    "Para além das variáveis $r,s,t$ o código requer 3 variáveis adicionais $r',s',t'$ que representam os valores de $r,s,t$ no “próximo estado”.\n",
    "\n",
    "```\n",
    "function test() {\n",
    "  console.log(\"notice the blank line before this function?\");\n",
    "}\n",
    "```\n",
    "\n",
    "\n",
    "**Proposta de resolução:**\n",
    "TODO\n",
    "\n",
    "\n",
    "\n",
    "\n",
    "\n",
    "\n",
    "\n"
   ]
  }
 ],
 "metadata": {
  "language_info": {
   "name": "python"
  }
 },
 "nbformat": 4,
 "nbformat_minor": 2
}
