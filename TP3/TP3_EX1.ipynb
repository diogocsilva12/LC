{
 "cells": [
  {
   "cell_type": "markdown",
   "metadata": {},
   "source": [
    "# TP3 - Exercício 1\n",
    "## Grupo 1\n",
    "\n",
    "*   Diogo Coelho da Silva A100092\n",
    "*   Pedro Miguel Ramôa Oliveira A97686\n",
    "\n",
    "**Problema proposto:**\n",
    "**Exercício 1**\n",
    "O [algoritmo extendido de Euclides](https://en.wikipedia.org/wiki/Extended_Euclidean_algorithm) (EXA) aceita dois inteiros constantes  $a,b>0$  e devolve inteiros $r,s,t$ tais que  $a*s + b*t = r$  e  $r = \\gcd(a,b)$. \n",
    "\n",
    "Para além das variáveis $r,s,t$ o código requer 3 variáveis adicionais $r',s',t'$ que representam os valores de $r,s,t$ no “próximo estado”.\n",
    "\n",
    "```\n",
    "INPUT  a, b\n",
    "assume  a > 0 and b > 0\n",
    "r, r', s, s', t, t' = a, b, 1, 0, 0, 1\n",
    "while r' != 0\n",
    "  q = r div r'\n",
    "  r, r', s, s', t, t' = r', r − q × Nr', s', s − q × s', t', t − q × t' \n",
    "OUTPUT r, s, t\n",
    "```\n",
    "\n",
    "\n",
    "1. Construa um SFOTS usando BitVector’s de tamanho $n$ que descreva o comportamento deste programa.  Considere estado de erro quando $r=0$ ou alguma das variáveis atinge o “overflow”.\n",
    "2. Prove, <ins>usando a metodologia dos invariantes e interpolantes</ins>, que o modelo nunca atinge o estado de erro.\n",
    "\n",
    "**Proposta de resolução problema 1:**\n",
    "O problema apresentado tem como objetivo a criação de SFOTS para descrever o comportamento de um programa, neste caso o algoritmo de Euclides.\n",
    "Na solução apresentada o sistema finito de transições foi definido utilizando BitVectors de tamanho n(32 no caso da nossa solução, para garantir a representação de números inteiros em 32 bits). Para verificar que o programa nunca atinge um estado de erro, utilizamos prova por interpolantes e invariantes,com a k-indução.\n",
    "Foram também considerados as restrições e variáveis dadas no enunciado do problema."
   ]
  },
  {
   "cell_type": "markdown",
   "metadata": {},
   "source": [
    "## Resolução Exercício 1"
   ]
  },
  {
   "cell_type": "markdown",
   "metadata": {},
   "source": [
    "#### 1. Importar as bibliotecas importantes\n"
   ]
  },
  {
   "cell_type": "code",
   "execution_count": 95,
   "metadata": {},
   "outputs": [],
   "source": [
    "from pysmt.shortcuts import *\n",
    "import pysmt.typing as type\n",
    "import random\n",
    "from pysmt.typing import BOOL, REAL, INT, BVType, STRING"
   ]
  },
  {
   "cell_type": "markdown",
   "metadata": {},
   "source": [
    "- `pysmt.shortcuts`: Importa as funções principais da biblioteca PySMT para trabalhar com SMT (Satisfiability Modulo Theories).\n",
    "- `pysmt.shortcuts`: Permite definir os tipos de variáveis, como BOOL, INT, REAL, etc.\n",
    "- `random`: Gera aleatoriedade para simular a disponibilidade de colaboradores e equipas dos projetos.\n",
    "- `pysmt.typing`: Importa tipos específicos usados para criar variáveis simbólicas."
   ]
  },
  {
   "cell_type": "markdown",
   "metadata": {},
   "source": [
    "#### 2. Construir um SFOTS usando BitVector's de tamanho n"
   ]
  },
  {
   "cell_type": "code",
   "execution_count": 96,
   "metadata": {},
   "outputs": [],
   "source": [
    "n = 32     #número de bits das variáveis\n",
    "\n",
    "def declare(i):\n",
    "    state = {}    \n",
    "    state['pc'] = Symbol('pc'+str(i),BVType(n))\n",
    "    state['r'] = Symbol('r'+str(i),BVType(n))\n",
    "    state['s'] = Symbol('s'+str(i),BVType(n))\n",
    "    state['t'] = Symbol('t'+str(i),BVType(n))\n",
    "    state['q'] = Symbol('q'+str(i),BVType(n))\n",
    "    state['r_'] = Symbol('r_'+str(i),BVType(n))\n",
    "    state['s_'] = Symbol('s_'+str(i),BVType(n))\n",
    "    state['t_'] = Symbol('t_'+str(i),BVType(n))\n",
    "    return state"
   ]
  },
  {
   "cell_type": "markdown",
   "metadata": {},
   "source": [
    "Neste pedaço de código estão definidos os estados iniciais do sistema."
   ]
  },
  {
   "cell_type": "code",
   "execution_count": 97,
   "metadata": {},
   "outputs": [],
   "source": [
    "def init(state, a, b):\n",
    "    A = BVUGT(state['r'], SBV(0, n))\n",
    "    B = BVUGT(state['r_'], SBV(0, n))\n",
    "    C = Equals(state['pc'], SBV(0, n))\n",
    "    D = Equals(state['r'], SBV(a, n))\n",
    "    E = Equals(state['s'], SBV(1, n))\n",
    "    F = Equals(state['t'], SBV(0, n)) \n",
    "    G = Equals(state['r_'], SBV(b, n))\n",
    "    H = Equals(state['s_'], SBV(0, n))\n",
    "    I = Equals(state['t_'], SBV(1, n))\n",
    "    J = Equals(state['q'], SBV(0, n))\n",
    "    \n",
    "    r = And(A, B, C, D, E, F, G, H, I, J)\n",
    "    \n",
    "    return r"
   ]
  },
  {
   "cell_type": "markdown",
   "metadata": {},
   "source": [
    "Tendo em conta a pré-condição do programa:\n",
    "$ a > 0 \\quad \\text{\\(\\land\\)} \\quad b > 0 \\quad \\text{\\(\\land\\)} \\quad r=a \\quad \\text{\\(\\land\\)} \\quad r\\_=b \\quad \\text{\\(\\land\\)} \\quad s=1 \\quad \\text{\\(\\land\\)} \\quad s\\_=0 \\quad \\text{\\(\\land\\)} \\quad t=0 \\quad \\text{\\(\\land\\)} \\quad t\\_=1 \\quad \\text{\\(\\land\\)} \\quad pc=0$\n",
    "\n",
    "Definimos o predicado $init$, que dado um estado e dois inteiros $a$ e $b$, verifica se o mesmo é um estado inicial.\n"
   ]
  },
  {
   "cell_type": "code",
   "execution_count": 98,
   "metadata": {},
   "outputs": [],
   "source": [
    "def trans(curr, prox):\n",
    "    # transição estado 0 -> 1\n",
    "    A = Equals(curr['pc'], SBV(0, n))\n",
    "    B = Equals(prox['pc'], SBV(1, n))\n",
    "    C = Equals(prox['r'], curr['r'])\n",
    "    D = Equals(prox['s'], curr['s'])\n",
    "    E = Equals(prox['t'], curr['t'])\n",
    "    F = Equals(prox['r_'], curr['r_'])\n",
    "    G = Equals(prox['s_'], curr['s_'])\n",
    "    H = Equals(prox['t_'], curr['t_'])\n",
    "    I = Equals(prox['q'], curr['q'])\n",
    "    t01 = And(A, B, C, D, E, F, G, H, I)\n",
    "    \n",
    "    # transição estado 1 -> 2\n",
    "    A = Equals(curr['pc'], SBV(1, n))\n",
    "    B = Equals(prox['pc'], SBV(2, n))\n",
    "    C = Equals(prox['r'], curr['r'])\n",
    "    D = Equals(prox['s'], curr['s'])\n",
    "    E = Equals(prox['t'], curr['t'])\n",
    "    F = Equals(prox['r_'], curr['r_'])\n",
    "    G = Equals(prox['s_'], curr['s_'])\n",
    "    H = Equals(prox['t_'], curr['t_'])\n",
    "    z = Not(Equals(curr['r_'], SBV(0, n)))\n",
    "    t12 = And(A, B, C, D, E, F, G, H, z)\n",
    "    \n",
    "    #transição estado  2 -> 1\n",
    "    A = Equals(curr['pc'], SBV(2, n))\n",
    "    B = Equals(prox['pc'], SBV(1, n))\n",
    "    D = Equals(prox['q'], BVSDiv(curr['r'], curr['r_']))\n",
    "    E = Equals(prox['r_'], BVSub(curr['r'], BVMul(prox['q'], curr['r_'])))\n",
    "    F = Equals(prox['s_'], BVSub(curr['s'], BVMul(prox['q'], curr['s_'])))\n",
    "    G = Equals(prox['t_'], BVSub(curr['t'], BVMul(prox['q'], curr['t_'])))\n",
    "    H = Equals(prox['r'], curr['r_'])\n",
    "    I = Equals(prox['s'], curr['s_'])\n",
    "    J = Equals(prox['t'], curr['t_'])\n",
    "    t21 = And(A, B, D, E, F, G, H, I, J)\n",
    "    \n",
    "    #transição estado 1 -> 3\n",
    "    A = Equals(curr['pc'], SBV(1, n))\n",
    "    B = Equals(prox['pc'], SBV(3, n))\n",
    "    C = Equals(curr['r_'], SBV(0, n))\n",
    "    D = Equals(prox['r'], curr['r'])\n",
    "    E = Equals(prox['s'], curr['s'])\n",
    "    F = Equals(prox['t'], curr['t'])\n",
    "    G = Equals(prox['r_'], curr['r_'])\n",
    "    H = Equals(prox['s_'], curr['s_'])\n",
    "    I = Equals(prox['t_'], curr['t_'])\n",
    "    J = Equals(prox['q'], curr['q'])\n",
    "    t13 = And(A, B, C, D, E, F, G, H, I, J)\n",
    "    \n",
    "    #transição estado 3 -> 3\n",
    "    A = Equals(curr['pc'], SBV(3, n))\n",
    "    B = Equals(prox['pc'], SBV(3, n))\n",
    "    C = Equals(prox['r'], curr['r'])\n",
    "    D = Equals(prox['s'], curr['s'])\n",
    "    E = Equals(prox['t'], curr['t'])\n",
    "    F = Equals(prox['r_'], curr['r_'])\n",
    "    G = Equals(prox['s_'], curr['s_'])\n",
    "    H = Equals(prox['t_'], curr['t_'])\n",
    "    I = Equals(prox['q'], curr['q'])\n",
    "    t33 = And(A, B, C, D, E, F, G, H, I)\n",
    "    \n",
    "    return Or(t01, t12, t21, t13, t33)"
   ]
  },
  {
   "cell_type": "markdown",
   "metadata": {},
   "source": [
    "Nesta parte do código são definidos os estados de transição e a função que trata da transição dos mesmos. Como argumento da função, a mesma recebe um estado atual e o estado para o qual pretendemos transitar. Após a verificação se a transição é válida, prossegue-se com a mesma."
   ]
  },
  {
   "cell_type": "code",
   "execution_count": 99,
   "metadata": {},
   "outputs": [],
   "source": [
    "def gera_traco(declare,init,trans,k,a,b):\n",
    "    if(a>0 and b>0):\n",
    "        with Solver() as solver:\n",
    "\n",
    "            traco = [declare(i) for i in range(k)]\n",
    "\n",
    "            solver.add_assertion(init(traco[0],a,b))\n",
    "\n",
    "            for i in range(k-1):\n",
    "                solver.add_assertion(trans(traco[i], traco[i+1]))\n",
    "\n",
    "            if solver.solve():\n",
    "                print(\"> is sat\")\n",
    "                for i, s in enumerate(traco):\n",
    "                    print(\"Estado pc: %s\"%(solver.get_value(s['pc']).bv_signed_value()))\n",
    "                    print(\"Valor R: %s\"%(solver.get_value(s['r']).bv_signed_value()))\n",
    "                    print(\"Valor R_: %s\"%(solver.get_value(s['r_']).bv_signed_value()))\n",
    "                    print(\"Valor S: %s\"%(solver.get_value(s['s']).bv_signed_value()))\n",
    "                    print(\"Valor S_: %s\"%(solver.get_value(s['s_']).bv_signed_value()))\n",
    "                    print(\"Valor T: %s\"%(solver.get_value(s['t']).bv_signed_value()))\n",
    "                    print(\"Valor T_: %s\"%(solver.get_value(s['t_']).bv_signed_value()))\n",
    "                    print(\"Valor Q: %s\"%(solver.get_value(s['q']).bv_signed_value()))   \n",
    "                    print(\"\")\n",
    "            else:\n",
    "                print(\"> Not feasible.\")"
   ]
  },
  {
   "cell_type": "markdown",
   "metadata": {},
   "source": [
    "A função $gera\\_traco$, cria uma lista \"traço\" com os estados que foram aplicados à função init:\n",
    "$init (traco[0])$\n",
    "no primeiro estado e para todos os estados consecutivos $S$ e $S´$ que foram aplicados à função transição:\n",
    "$\\forall_{i=0}^{k-2}$ $trans (traco[i], traco[i+1])$"
   ]
  },
  {
   "cell_type": "markdown",
   "metadata": {},
   "source": [
    "#### 3. Prova que o programa nunca atinge um estado de erro"
   ]
  },
  {
   "cell_type": "code",
   "execution_count": 100,
   "metadata": {},
   "outputs": [],
   "source": [
    "def r_dif_zero(state):\n",
    "    return Not(Equals(state['r'],SBV(0,n)))"
   ]
  },
  {
   "cell_type": "markdown",
   "metadata": {},
   "source": [
    "O código define uma função $r\\_dif\\_zero$ que verifica se a variável $r$ no estado atual não é igual a zero."
   ]
  },
  {
   "cell_type": "code",
   "execution_count": 101,
   "metadata": {},
   "outputs": [],
   "source": [
    "def no_overflow(state):     \n",
    "    N= BV(2**n-1,width=n)\n",
    "    A=Or(\n",
    "        BVUGT(state['r'], N),\n",
    "        BVUGT(state['s'], N),\n",
    "        BVUGT(state['t'], N),\n",
    "        BVUGT(state['r_'], N),\n",
    "        BVUGT(state['s_'], N),\n",
    "        BVUGT(state['t_'], N),\n",
    "        BVUGT(state['q'], N)\n",
    "    )\n",
    "    return Not(A) "
   ]
  },
  {
   "cell_type": "markdown",
   "metadata": {},
   "source": [
    "A função $no\\_overflow$ verifica se não ocorre overflow nos valores de várias variáveis no estado atual.\n",
    "A função verifica se todas as variáveis indicadas (r, s, t, r_, s_, t_, q) estão dentro do limite representável por $n$ bits. Se nenhuma delas está em overflow, a função retorna $True$,caso contrário, retorna $False$.\n",
    "Também devemos considerar como erro um estado em que alguma variável atinge o overflow, ou seja, em que alguma variável seja maior do que o maior número representável com 32 bits.\n",
    "Foi introduzido um predicado que dado um estado $S$, diz se alguma variável atingiu overflow."
   ]
  },
  {
   "cell_type": "code",
   "execution_count": 102,
   "metadata": {},
   "outputs": [],
   "source": [
    "def nao_erro(state):\n",
    "    return And(r_dif_zero(state),no_overflow(state))"
   ]
  },
  {
   "cell_type": "markdown",
   "metadata": {},
   "source": [
    "Combinando $r\\_dif\\_zero$ e $no\\_overflow$, temos que um estado $S$, nao é estado de erro, quando ambos os predicados validam $S$.\n",
    "\n",
    "Daí, o predicado $nao\\_erro$."
   ]
  },
  {
   "cell_type": "markdown",
   "metadata": {},
   "source": [
    "#### 4. Definição do interpolante"
   ]
  },
  {
   "cell_type": "code",
   "execution_count": 103,
   "metadata": {},
   "outputs": [],
   "source": [
    "def interpolante(Rn, Um):\n",
    "    return And(Rn, Um)\n",
    "\n",
    "def rename(C, state):\n",
    "    return substitute(C, {Symbol(\"r\" + str(i), BVType(n)): state['r'] for i in range(n)})\n",
    "\n",
    "\n",
    "def provaInterpolante(solver, X, Y, a, b, order, error):\n",
    "    for (n, m) in order:\n",
    "        I = init(X[0], a, b)\n",
    "        Tn = And([trans(X[i], X[i+1]) for i in range(n)])\n",
    "        Rn = And(I, Tn)\n",
    "        \n",
    "        E = error(Y[0])\n",
    "        Bm = And([trans(Y[i], Y[i+1]) for i in range(m)])\n",
    "        Um = And(E, Bm)\n",
    "        \n",
    "        C = interpolante(Rn, Um)\n",
    "        \n",
    "        print(\"> Interpolante C:\", C)\n",
    "        \n",
    "        if C is None:\n",
    "            print(\"> O interpolante é não existe.\")\n",
    "            break\n",
    "        \n",
    "        # Verificar se o interpolante é invariante\n",
    "        C0 = rename(C, X[0])\n",
    "        T = trans(X[0], X[1])\n",
    "        C1 = rename(C, X[1])\n",
    "\n",
    "        if not solver.solve([C0, T, Not(C1)]):\n",
    "            # Se não encontrar contraexemplo, o sistema é seguro\n",
    "            print(\"> O sistema é seguro.\")\n",
    "            return \n",
    "        else:\n",
    "            # Caso contrário, tentamos encontrar um maiorante\n",
    "            S = rename(C, X[n])\n",
    "            while True:\n",
    "                T = trans(X[n], Y[m])\n",
    "                A = And(S, T)\n",
    "                if solver.solve([A, Um]):\n",
    "                    print(\"> Não foi encontrado majorante.\")\n",
    "                    break \n",
    "                else:\n",
    "                    # Calculamos novamente o interpolante\n",
    "                    C = interpolante(A, Um)\n",
    "                    print(\"> Novo interpolante C:\", C)\n",
    "                    Cn = rename(C, X[n])\n",
    "                    if not solver.solve([Cn, Not(S)]):\n",
    "                        print(\"> O sistema é seguro.\")\n",
    "                        return\n",
    "                    else:\n",
    "                        S = Or(S, Cn)\n",
    "\n",
    "def runInterpolante(declare, init, trans, error, a, b, order, k, solver):\n",
    "    X = [declare(i) for i in range(k)]\n",
    "    Y = [declare(i + k) for i in range(k)]\n",
    "    provaInterpolante(solver, X, Y, a, b, order, error)\n",
    "    \n",
    "    "
   ]
  },
  {
   "cell_type": "markdown",
   "metadata": {},
   "source": [
    "Este pedaço de código implementa um método de verificação baseado em interpolantes para provar a segurança de um sistema descrito por transições de estados. A função interpolante_prova constroi um interpolante entre duas partes do sistema. A primeira descreve as transições válidas até um estado n (representado por $R_n$) e a segunda descreve os estados que levam ao erro a partir de m (representado por $U_m$). O interpolante $C$ funciona como um separador lógico entre os estados seguros e inseguros. Se $C$ for um invariante, prova a segurança do sistema. Caso contrário, o algoritmo tenta melhorar o interpolante iterativamente. Se falhar, conclui-se que a prova de segurança não é possível.\n",
    "\n",
    "A função $rename$ realiza a substituição simbólica de variáveis numa fórmula $C$. Isto é útil para adaptar o interpolante $C$ gerado num contexto geral para o estado específico do sistema que está a ser analisado. \n",
    "\n",
    "A função $verifica\\_sistema\\_com\\_interpolacao$ organiza os elementos necessários, como os estados, transições e condições de erro, para chamar a função de interpolação e realizar a verificação formal."
   ]
  },
  {
   "cell_type": "markdown",
   "metadata": {},
   "source": [
    "#### 5. Prova por K-Indução"
   ]
  },
  {
   "cell_type": "code",
   "execution_count": 104,
   "metadata": {},
   "outputs": [],
   "source": [
    "def k_induction_always(declare,init,trans,inv,k,a,b):\n",
    "    if(a>0 and b>0):\n",
    "        with Solver() as solver:\n",
    "            s = [declare(i) for i in range(k)]\n",
    "            solver.add_assertion(init(s[0],a,b))\n",
    "            for i in range(k-1):\n",
    "                solver.add_assertion(trans(s[i],s[i+1]))\n",
    "\n",
    "            for i in range(k):\n",
    "                solver.push()\n",
    "                solver.add_assertion(Not(inv(s[i])))\n",
    "                if solver.solve():\n",
    "                    print(f\"> Contradição! O invariante não se verifica nos k estados iniciais.\")\n",
    "                    for st in s:\n",
    "                        print(f\" pc = {solver.get_value(st['pc']).bv_signed_value()}\",end=\" \")\n",
    "                        print(f\" r = {solver.get_value(st['r']).bv_signed_value()}\",end=\" \")\n",
    "                        print(f\" s = {solver.get_value(st['s']).bv_signed_value()}\",end=\" \")\n",
    "                        print(f\" t = {solver.get_value(st['t']).bv_signed_value()}\")\n",
    "                        print(f\" r_ = {solver.get_value(st['r_']).bv_signed_value()}\",end=\" \")\n",
    "                        print(f\" s_ = {solver.get_value(st['s_']).bv_signed_value()}\",end=\" \")\n",
    "                        print(f\" t_ = {solver.get_value(st['t_']).bv_signed_value()}\",end=\" \")\n",
    "                        print(f\" q = {solver.get_value(st['q']).bv_signed_value()}\",end=\" \")\n",
    "                        print(\"---------------------------------------------------------\")\n",
    "                        print()\n",
    "\n",
    "                    return\n",
    "                solver.pop()\n",
    "\n",
    "            s2 = [declare(i+k) for i in range(k+1)]\n",
    "\n",
    "            for i in range(k):\n",
    "                solver.add_assertion(inv(s2[i]))\n",
    "                solver.add_assertion(trans(s2[i],s2[i+1]))\n",
    "\n",
    "            solver.add_assertion(Not(inv(s2[-1])))\n",
    "\n",
    "            if solver.solve():\n",
    "                print(f\"> Contradição! O passo indutivo não se verifica.\")\n",
    "                return\n",
    "            print(f\"> A propriedade verifica-se por k-indução (k={k}).\")\n",
    "            "
   ]
  },
  {
   "cell_type": "markdown",
   "metadata": {},
   "source": [
    "Pretendemos verificar que o programa nunca atinge um estado de erro, para verificar esta propriedade, utilizamos o método da k_indução que consiste em:\n",
    "\n",
    "- $\\phi$ é válido nos estados iniciais, ou seja, $\\mathit{init}(s) \\rightarrow \\phi(s)$\n",
    "\n",
    "- Para qualquer estado, assumindo que $\\phi$ é verdade, se executarmos uma transição, $\\phi$ continua a ser verdade no próximo estado, ou seja, $\\phi(s) \\wedge \\mathit{trans}(s,s') \\rightarrow \\phi(s')$.\n",
    "\n",
    "Um processo parecido com este seria generalizar a indução assumindo no passo indutivo que o invariante é válido nos $k$ estados anteriores. "
   ]
  },
  {
   "cell_type": "markdown",
   "metadata": {},
   "source": [
    "#### 6. Execução do código e apresentação dos resultados "
   ]
  },
  {
   "cell_type": "code",
   "execution_count": 105,
   "metadata": {},
   "outputs": [
    {
     "name": "stdout",
     "output_type": "stream",
     "text": [
      "> is sat\n",
      "Estado pc: 0\n",
      "Valor R: 3\n",
      "Valor R_: 6\n",
      "Valor S: 1\n",
      "Valor S_: 0\n",
      "Valor T: 0\n",
      "Valor T_: 1\n",
      "Valor Q: 0\n",
      "\n",
      "Estado pc: 1\n",
      "Valor R: 3\n",
      "Valor R_: 6\n",
      "Valor S: 1\n",
      "Valor S_: 0\n",
      "Valor T: 0\n",
      "Valor T_: 1\n",
      "Valor Q: 0\n",
      "\n",
      "Estado pc: 2\n",
      "Valor R: 3\n",
      "Valor R_: 6\n",
      "Valor S: 1\n",
      "Valor S_: 0\n",
      "Valor T: 0\n",
      "Valor T_: 1\n",
      "Valor Q: 0\n",
      "\n",
      "Estado pc: 1\n",
      "Valor R: 6\n",
      "Valor R_: 3\n",
      "Valor S: 0\n",
      "Valor S_: 1\n",
      "Valor T: 1\n",
      "Valor T_: 0\n",
      "Valor Q: 0\n",
      "\n",
      "Estado pc: 2\n",
      "Valor R: 6\n",
      "Valor R_: 3\n",
      "Valor S: 0\n",
      "Valor S_: 1\n",
      "Valor T: 1\n",
      "Valor T_: 0\n",
      "Valor Q: 0\n",
      "\n",
      "Estado pc: 1\n",
      "Valor R: 3\n",
      "Valor R_: 0\n",
      "Valor S: 1\n",
      "Valor S_: -2\n",
      "Valor T: 0\n",
      "Valor T_: 1\n",
      "Valor Q: 2\n",
      "\n",
      "Estado pc: 3\n",
      "Valor R: 3\n",
      "Valor R_: 0\n",
      "Valor S: 1\n",
      "Valor S_: -2\n",
      "Valor T: 0\n",
      "Valor T_: 1\n",
      "Valor Q: 2\n",
      "\n"
     ]
    }
   ],
   "source": [
    "gera_traco(declare,init,trans,7,3,6)"
   ]
  },
  {
   "cell_type": "code",
   "execution_count": 106,
   "metadata": {},
   "outputs": [
    {
     "name": "stdout",
     "output_type": "stream",
     "text": [
      "> Interpolante C: ((((0_32 u< r0) & (0_32 u< r_0) & (pc0 = 0_32) & (r0 = 3_32) & (s0 = 1_32) & (t0 = 0_32) & (r_0 = 6_32) & (s_0 = 0_32) & (t_0 = 1_32) & (q0 = 0_32)) & (((... & ... & ... & ... & ... & ... & ... & ... & ...) | (... & ... & ... & ... & ... & ... & ... & ... & ...) | (... & ... & ... & ... & ... & ... & ... & ... & ...) | (... & ... & ... & ... & ... & ... & ... & ... & ... & ...) | (... & ... & ... & ... & ... & ... & ... & ... & ...)) & ((... & ... & ... & ... & ... & ... & ... & ... & ...) | (... & ... & ... & ... & ... & ... & ... & ... & ...) | (... & ... & ... & ... & ... & ... & ... & ... & ...) | (... & ... & ... & ... & ... & ... & ... & ... & ... & ...) | (... & ... & ... & ... & ... & ... & ... & ... & ...)))) & (((! (... = ...)) & (! (... | ... | ... | ... | ... | ... | ...))) & (((... & ... & ... & ... & ... & ... & ... & ... & ...) | (... & ... & ... & ... & ... & ... & ... & ... & ...) | (... & ... & ... & ... & ... & ... & ... & ... & ...) | (... & ... & ... & ... & ... & ... & ... & ... & ... & ...) | (... & ... & ... & ... & ... & ... & ... & ... & ...)) & ((... & ... & ... & ... & ... & ... & ... & ... & ...) | (... & ... & ... & ... & ... & ... & ... & ... & ...) | (... & ... & ... & ... & ... & ... & ... & ... & ...) | (... & ... & ... & ... & ... & ... & ... & ... & ... & ...) | (... & ... & ... & ... & ... & ... & ... & ... & ...)))))\n",
      "> O sistema é seguro.\n"
     ]
    }
   ],
   "source": [
    "with Solver() as solver:\n",
    "    order = [(2, 2)]  # Adjust (n, m) pairs as needed\n",
    "    runInterpolante(declare, init, trans, nao_erro, 3, 6, order, 7, solver)\n"
   ]
  },
  {
   "cell_type": "code",
   "execution_count": 107,
   "metadata": {},
   "outputs": [
    {
     "name": "stdout",
     "output_type": "stream",
     "text": [
      "> A propriedade verifica-se por k-indução (k=7).\n"
     ]
    }
   ],
   "source": [
    "k_induction_always(declare,init,trans,nao_erro,7,1,5)"
   ]
  }
 ],
 "metadata": {
  "kernelspec": {
   "display_name": "logica",
   "language": "python",
   "name": "python3"
  },
  "language_info": {
   "codemirror_mode": {
    "name": "ipython",
    "version": 3
   },
   "file_extension": ".py",
   "mimetype": "text/x-python",
   "name": "python",
   "nbconvert_exporter": "python",
   "pygments_lexer": "ipython3",
   "version": "3.10.15"
  }
 },
 "nbformat": 4,
 "nbformat_minor": 4
}
