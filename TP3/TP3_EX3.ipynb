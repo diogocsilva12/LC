{
 "cells": [
  {
   "cell_type": "markdown",
   "metadata": {},
   "source": [
    "# TP3 - Exercício 3\n",
    "## Grupo 1\n",
    "\n",
    "   * Diogo Coelho da Silva A100092\n",
    "   * Pedro Miguel Ramôa Oliveira A97686\n",
    "\n",
    "\n",
    "**Problema Proposto:**\n",
    "**Exercicio 3**\n",
    "\n",
    "Considere de novo o 1º problema do trabalho TP2  relativo à descrição da cifra A5/1 e o FOTS usando BitVec’s que aí foi definido para a componente do gerador de chaves. Ignore a componente de geração final da chave e restrinja o modelo aos três LFSR’s. \n",
    "Sejam X0,X1,X2 as variáveis que determinam os estados dos três LFSR’s que ocorrem neste modelo. Como condição inicial  e condição de erro use os predicados\n",
    "\n",
    "$\\mathsf{I} \\equiv (\\mathsf{X}_0 > 0) \\land (\\mathsf{X}_1 > 0) \\land (\\mathsf{X}_2 > 0)$ e $\\mathsf{E} \\equiv \\neg\\,\\mathsf{I}$\n",
    "\n",
    "\n",
    "**Proposta Resolução**\n",
    "\n",
    "O objetivo deste problema é analisar a segurança de um modelo baseado nos três Linear Feedback Shift Registers (LFSRs) do algoritmo A5/1 utilizando um algoritmo de PDR.\n",
    "A abordagem utilizada foi fundamentada em BitVectors para modelar os estados dos LFSRs, com um foco na construção de um Finite State Transition System (SFOTS). A verificação de segurança foi conduzida com base no algoritmo de PDR.\n",
    "\n"
   ]
  },
  {
   "cell_type": "markdown",
   "metadata": {},
   "source": [
    "#### 1. Importar as bibliotecas importantes\n",
    "\n"
   ]
  },
  {
   "cell_type": "code",
   "execution_count": 11,
   "metadata": {},
   "outputs": [],
   "source": [
    "from z3 import *"
   ]
  },
  {
   "cell_type": "markdown",
   "metadata": {},
   "source": [
    "- `z3`: Importa a biblioteca Z3, um solver de satisfabilidade (SMT)"
   ]
  },
  {
   "cell_type": "markdown",
   "metadata": {},
   "source": [
    "#### 2.Definição da configuraçao inicial"
   ]
  },
  {
   "cell_type": "code",
   "execution_count": 12,
   "metadata": {},
   "outputs": [],
   "source": [
    "# Tamanho dos LFSRs\n",
    "n0, n1, n2 = 19, 22, 23"
   ]
  },
  {
   "cell_type": "markdown",
   "metadata": {},
   "source": [
    "- `n0`, `n1`, `n2`: Tamanho dos LFSRs (19, 22 e 23 bits, respectivamente)."
   ]
  },
  {
   "cell_type": "code",
   "execution_count": 13,
   "metadata": {},
   "outputs": [],
   "source": [
    "s0 = [1, 1, 1, 0, 0, 1] + [0] * 13\n",
    "s1 = [1, 1] + [0] * 20\n",
    "s2 = [1, 1, 1] + [0] * 12 + [1] + [0] * 7"
   ]
  },
  {
   "cell_type": "markdown",
   "metadata": {},
   "source": [
    "- `s0`, `s1`, `s2`: Vetores de feedback, definidos como listas de bits. Estes vetores determinam como se atualizam os estados para cada LFSR"
   ]
  },
  {
   "cell_type": "code",
   "execution_count": 14,
   "metadata": {},
   "outputs": [],
   "source": [
    "X0 = BitVec('X0', n0)\n",
    "X1 = BitVec('X1', n1)\n",
    "X2 = BitVec('X2', n2)"
   ]
  },
  {
   "cell_type": "markdown",
   "metadata": {},
   "source": [
    "- `X0`, `X1`, `X2`: Representam os estados inicias dos três LFSRs, definidos como variáveis de 19, 22 e 23 bits utilizando a biblioteca z3 e com recurso a BitVec's."
   ]
  },
  {
   "cell_type": "markdown",
   "metadata": {},
   "source": [
    "#### 3.Funçao de Transiçao do LSFR"
   ]
  },
  {
   "cell_type": "code",
   "execution_count": 15,
   "metadata": {},
   "outputs": [],
   "source": [
    "def transaction(estado, feedback, bitControlo, size):\n",
    "    feedback_bit = Sum([feedback[i] * ((estado >> i) & 1) for i in range(len(feedback))]) % 2\n",
    "    proximoEstado = If(bitControlo, (estado << 1) | feedback_bit, estado)\n",
    "    return Extract(size - 1, 0, proximoEstado)"
   ]
  },
  {
   "cell_type": "markdown",
   "metadata": {},
   "source": [
    "A função transaction atualiza o estado de um sistema baseado em feedback e um bit de controle.\n",
    "A função recebe como parametros de entrada, o `estado` atual como um número inteiro, uma lista de bits de `feedback`, um `bitControlo` que é um booleano para decidir se a transição deve ocorrer ou não e por fim um `tamanho` do estado após a transição\n",
    "\n",
    "- 1.Cálculo do Bit de Feedback:\n",
    "\tA função itera sobre cada bit no feedback. Para cada bit, realiza uma operação binária `AND` bit por bit entre o estado deslocado $i$ posições para a direita e 1 para extrair o bit na posição $i$.\n",
    "- 2.Determinação do Próximo Estado:\n",
    "\tSe o `bitControlo` for verdadeiro, realiza a transição. Desloca o `estado` para a esquerda e adiciona o `feedback_bit` ao estado deslocado com a operação `OR` bit por bit. Se o `bitControlo` for falso, mantém o estado atual.\n",
    "- 3.Extração do estado final:\n",
    "\tUtilizamos a função `Extract` para obter os bits do proximoEstado do bit `size - 1` até ao bit 0, garantindo que o estado final tenha o tamanho determinado."
   ]
  },
  {
   "cell_type": "markdown",
   "metadata": {},
   "source": [
    "#### 4. Bits de Controlo e Decisao"
   ]
  },
  {
   "cell_type": "code",
   "execution_count": 16,
   "metadata": {},
   "outputs": [],
   "source": [
    "b0 = Extract(8, 8, X0)\n",
    "b1 = Extract(10, 10, X1)\n",
    "b2 = Extract(10, 10, X2)\n",
    "\n",
    "\n",
    "c0 = Or(b0 == b1, b0 == b2)\n",
    "c1 = Or(b0 == b1, b1 == b2)\n",
    "c2 = Or(b0 == b2, b1 == b2)"
   ]
  },
  {
   "cell_type": "markdown",
   "metadata": {},
   "source": [
    "Extraímos os bits na posição 8, 10 e 10 de `X0`,`X1` e `X2` respetivamente.\n",
    "A seguir verificamos se os pares de bits são iguais, utilizando a operação lógica `OR` para combinar duas possibilidades de igualdade"
   ]
  },
  {
   "cell_type": "markdown",
   "metadata": {},
   "source": [
    "#### 5. Transições de Estado"
   ]
  },
  {
   "cell_type": "code",
   "execution_count": null,
   "metadata": {},
   "outputs": [],
   "source": [
    "X0_next = transaction(X0, s0, c0, n0)\n",
    "X1_next = transaction(X1, s1, c1, n1)\n",
    "X2_next = transaction(X2, s2, c2, n2)"
   ]
  },
  {
   "cell_type": "markdown",
   "metadata": {},
   "source": [
    "Calcula os próximos estados dos LFSRs com base nas regras de transição.\n",
    "\n",
    "- Próximos Estados:\n",
    "\t- $X0\\_next$, $X1\\_next$, $X2\\_next$: Determinam os próximos estados dos LFSRs usando a função lfsr_transition.\n",
    "\n",
    "- SFOTS (Sistema de Transição de Estados Finitos):\n",
    "\t- transitions: Combina as condições para garantir que as transições entre estados sejam válidas.\n",
    "\tAs transições do sistema foram representadas por:\n",
    "\t\n",
    "\t$transitions≡(X_0=X_0\\_next)∧(X_1 =X_1\\_next​)∧(X_2=X_2\\_next)$"
   ]
  },
  {
   "cell_type": "markdown",
   "metadata": {},
   "source": [
    "#### 6. Condições de Segurança"
   ]
  },
  {
   "cell_type": "code",
   "execution_count": 18,
   "metadata": {},
   "outputs": [],
   "source": [
    "# Condições iniciais e de erro\n",
    "I = And(X0 > 0, X1 > 0, X2 > 0)  # Condição inicial\n",
    "E = Not(I)                        # Condição de erro\n",
    "\n",
    "# SFOTS (Fórmulas de Transição)\n",
    "transitions = And(X0 == X0_next, X1 == X1_next, X2 == X2_next)\n"
   ]
  },
  {
   "cell_type": "markdown",
   "metadata": {},
   "source": [
    "- Condições Iniciais:\n",
    "\t- I: Condição inicial do sistema, onde todos os LFSRs devem ter estados positivos.\n",
    "\n",
    "- Condição de Erro:\n",
    "\t- E: Define uma situação de erro como o complemento de I (ou seja, qualquer estado onde pelo menos um LFSR não é positivo)."
   ]
  },
  {
   "cell_type": "markdown",
   "metadata": {},
   "source": [
    "#### 7. Prova com PDR (Property Directed Reachability)"
   ]
  },
  {
   "cell_type": "code",
   "execution_count": null,
   "metadata": {},
   "outputs": [],
   "source": [
    "# Prova com PDR\n",
    "def pdr_prove(solver, init, inseguro):\n",
    "    frame = [init]  # Frame inicial\n",
    "    while True:\n",
    "        # Verifica se existe um estado no frame que atinge o estado inseguro\n",
    "        solver.push()\n",
    "        solver.add(frame[-1], inseguro)\n",
    "        if solver.check() == sat:\n",
    "            print(\"Contra-exemplo encontrado: modelo inseguro.\")\n",
    "            print(solver.model())\n",
    "            return False\n",
    "        solver.pop()\n",
    "\n",
    "        # Expandir frame com transições válidas\n",
    "        solver.push()\n",
    "        solver.add(frame[-1], transitions)\n",
    "        if solver.check() == unsat:\n",
    "            print(\"Modelo seguro: não é possível atingir o estado de erro.\")\n",
    "            return True\n",
    "        new_frame = solver.assertions()\n",
    "        frame.append(And(*new_frame))\n",
    "        solver.pop()"
   ]
  },
  {
   "cell_type": "markdown",
   "metadata": {},
   "source": [
    "A função pdr_prove implementa o Property Directed Reachability (PDR), que é um método utilizado para verificar a segurança de sistemas dinâmicos, garantindo que estados inseguros não sejam alcançáveis a partir do estado inicial.\n",
    "\n",
    "A função recebe como parametros de entrada uma instância do solver Z3, um predicado inicial `init` e ainda um predicado de um estado inseguro `insecure` que deve ser evitado.\n",
    "\n",
    "Começamos por inicializar uma lista `frame` que armazena os diferentes frames (conjuntos de estados) analisados durante a execução do PDR. Começa apenas com o estado inicial. \n",
    "\n",
    "Enquanto que a segurança não é verificada, estamos a correr o nosso código dentro de um ciclo while.\n",
    "\n",
    "Temos que verificar se existe um estado no frame atual que pode alcançar o estado não seguro. Guardamos o estado atual do solver. A seguir adicionamos ao solver as condições do ultimo frame e do estado inseguro que foi introduzido como parametro de entrada. A seguir verificamos a satisfatibilidade  das condições adicionas com o `solver.check()`. Se o resultado for `sat` existe um caminho para um estado inseguro. Imprimimos esse contra-exemplo e a função retorna `False` pois o sistema não é seguro. Caso contrário revertemos as adições feitas ao solver.\n",
    "\n",
    "Após isto é necessário expandir o frame atual adicionando as transições do sistema para analisar estados futuros. Voltamos a criar uma instância de um solver e agora ao inves de adicionar o estado inseguro, adicionamos as transições definidas no sistema. Repetimos os passos. Se o resultado for `unsat` não foi possivel expandir o frame sem violar as condições de segurança, por isso o sistema é seguro. Caso contrário existem transições válidas que podem levar a novos estados."
   ]
  },
  {
   "cell_type": "markdown",
   "metadata": {},
   "source": [
    "#### 8.Resolução do Problema"
   ]
  },
  {
   "cell_type": "code",
   "execution_count": null,
   "metadata": {},
   "outputs": [
    {
     "name": "stdout",
     "output_type": "stream",
     "text": [
      "Modelo seguro: não é possível atingir o estado de erro.\n"
     ]
    },
    {
     "data": {
      "text/plain": [
       "True"
      ]
     },
     "execution_count": 20,
     "metadata": {},
     "output_type": "execute_result"
    }
   ],
   "source": [
    "solver = Solver()\n",
    "solver.add(transitions) \n",
    "pdr_prove(solver, I, E)"
   ]
  }
 ],
 "metadata": {
  "kernelspec": {
   "display_name": "Python 3 (ipykernel)",
   "language": "python",
   "name": "python3"
  },
  "language_info": {
   "codemirror_mode": {
    "name": "ipython",
    "version": 3
   },
   "file_extension": ".py",
   "mimetype": "text/x-python",
   "name": "python",
   "nbconvert_exporter": "python",
   "pygments_lexer": "ipython3",
   "version": "3.10.15"
  }
 },
 "nbformat": 4,
 "nbformat_minor": 4
}
