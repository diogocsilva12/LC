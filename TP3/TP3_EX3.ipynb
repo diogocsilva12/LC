{
 "cells": [
  {
   "cell_type": "markdown",
   "metadata": {},
   "source": [
    "# TP3 - Exercício 3\n",
    "## Grupo 1\n",
    "\n",
    "*   Diogo Coelho da Silva A100092\n",
    "*   Pedro Miguel Ramôa Oliveira A97686\n",
    "\n",
    "**Problema proposto:**\n",
    "Considere de novo o 1º problema do trabalho TP2  relativo à descrição da cifra $$\\,\\mathsf{A5/1}$$ e o FOTS usando BitVec’s que aí foi definido para a componente do gerador de chaves. Ignore a componente de geração final da chave e restrinja o modelo aos três LFSR’s. \n",
    "Sejam $$\\,\\mathsf{X}_0, \\mathsf{X}_1, \\mathsf{X}_2\\,$$ as variáveis que determinam os estados dos três LFSR’s que ocorrem neste modelo. Como condição inicial  e condição de erro use os predicados\n",
    "\n",
    "                $$\\,\\mathsf{I} \\;\\equiv\\; (\\mathsf{X}_0 > 0)\\,\\land\\,(\\mathsf{X}_1 > 0)\\,\\land\\,(\\mathsf{X}_2 > 0)\\quad$$e $$\\quad \\mathsf{E}\\;\\equiv\\;\\neg\\,\\mathsf{I}$$\n",
    "    1. Codifique em “z3”  o SFOTS assim definido.\n",
    "    2. Use o algoritmo PDR “property directed reachability” (codifique-o ou use uma versão pré-existente) e, com ele, tente provar a segurança deste modelo.\n",
    "\n",
    "\n",
    "\n",
    "1. Construa um SFOTS usando BitVector’s de tamanho $n$ que descreva o comportamento deste programa.  Considere estado de erro quando $r=0$ ou alguma das variáveis atinge o “overflow”.\n",
    "2. Prove, <ins>usando a metodologia dos invariantes e interpolantes</ins>, que o modelo nunca atinge o estado de erro.\n",
    "\n",
    "**Proposta de resolução problema 1:**\n",
    "O problema apresentado tem como objetivo a criação de SFOTS para descrever o comportamento de um programa, neste caso o algoritmo de Euclides.\n",
    "Na solução apresentada o sistema finito de transições foi definido utilizando BitVectors de tamanho n(32 no caso da nossa solução, para garantir a representação de números inteiros em 32 bits). Para verificar que o programa nunca atinge um estado de erro, utilizamos prova por interpolantes e invariantes,com a k-indução.\n",
    "Foram também considerados as restrições e variáveis dadas no enunciado do problema."
   ]
  },
  {
   "cell_type": "code",
   "execution_count": 1,
   "metadata": {},
   "outputs": [],
   "source": [
    "from z3 import *\n",
    "\n",
    "# Dimensões dos LFSRs\n",
    "n0, n1, n2 = 19, 22, 23\n",
    "\n",
    "# Vetores de realimentação\n",
    "s0 = [1, 1, 1, 0, 0, 1] + [0] * 13\n",
    "s1 = [1, 1] + [0] * 20\n",
    "s2 = [1, 1, 1] + [0] * 12 + [1] + [0] * 7\n",
    "\n",
    "# Estados iniciais como BitVecs\n",
    "X0 = BitVec('X0', n0)\n",
    "X1 = BitVec('X1', n1)\n",
    "X2 = BitVec('X2', n2)\n",
    "\n",
    "def lfsr_transition(state, feedback, control_bit, size):\n",
    "    # Calcular o bit de feedback (produto interno entre feedback e o estado atual)\n",
    "    feedback_bit = Sum([feedback[i] * ((state >> i) & 1) for i in range(len(feedback))]) % 2\n",
    "    # Verificar overflow antes de calcular o próximo estado\n",
    "    overflow_check = ULE(state, 2**size - 1)  # Certificar-se de que o estado está dentro do limite\n",
    "    # Determinar o próximo estado baseado no bit de controle e verificações de overflow\n",
    "    next_state = If(control_bit, \n",
    "                    If(overflow_check, (state << 1) | feedback_bit, state),\n",
    "                    state)\n",
    "    # Limitar ao tamanho do LFSR\n",
    "    return Extract(size - 1, 0, next_state)\n",
    "\n",
    "# Clocking bits\n",
    "b0 = Extract(8, 8, X0)\n",
    "b1 = Extract(10, 10, X1)\n",
    "b2 = Extract(10, 10, X2)\n",
    "\n",
    "# Bits de controlo (c0, c1, c2) baseados na maioria\n",
    "c0 = Or(b0 == b1, b0 == b2)\n",
    "c1 = Or(b0 == b1, b1 == b2)\n",
    "c2 = Or(b0 == b2, b1 == b2)\n",
    "\n",
    "# Transições de estado\n",
    "X0_next = lfsr_transition(X0, s0, c0, n0)\n",
    "X1_next = lfsr_transition(X1, s1, c1, n1)\n",
    "X2_next = lfsr_transition(X2, s2, c2, n2)\n",
    "\n",
    "# Condições iniciais e de erro\n",
    "I = And(X0 > 0, X1 > 0, X2 > 0)  # Condição inicial\n",
    "E = Not(I)                        # Condição de erro\n",
    "\n",
    "# SFOTS (Fórmulas de Transição)\n",
    "transitions = And(X0 == X0_next, X1 == X1_next, X2 == X2_next)\n"
   ]
  },
  {
   "cell_type": "code",
   "execution_count": 2,
   "metadata": {},
   "outputs": [
    {
     "name": "stdout",
     "output_type": "stream",
     "text": [
      "Modelo seguro: não é possível atingir o estado de erro.\n"
     ]
    },
    {
     "data": {
      "text/plain": [
       "True"
      ]
     },
     "execution_count": 2,
     "metadata": {},
     "output_type": "execute_result"
    }
   ],
   "source": [
    "# Prova com PDR\n",
    "def pdr_prove(solver, init, bad):\n",
    "    frame = [init]  # Frame inicial\n",
    "    while True:\n",
    "        # Check se existe um estado no frame que atinge o \"bad\"\n",
    "        solver.push()\n",
    "        solver.add(frame[-1], bad)\n",
    "        if solver.check() == sat:\n",
    "            print(\"Contra-exemplo encontrado: modelo inseguro.\")\n",
    "            print(solver.model())\n",
    "            return False\n",
    "        solver.pop()\n",
    "\n",
    "        # Expandir frame com transições válidas\n",
    "        solver.push()\n",
    "        solver.add(frame[-1], transitions)\n",
    "        if solver.check() == unsat:\n",
    "            print(\"Modelo seguro: não é possível atingir o estado de erro.\")\n",
    "            return True\n",
    "        new_frame = solver.assertions()\n",
    "        frame.append(And(*new_frame))\n",
    "        solver.pop()\n",
    "\n",
    "# Resolver o problema\n",
    "solver = Solver()\n",
    "solver.add(transitions)  # Adicionar as transições\n",
    "pdr_prove(solver, I, E)\n"
   ]
  },
  {
   "cell_type": "markdown",
   "metadata": {},
   "source": [
    "1. SFOTS usando BitVecs\n",
    "O Sistema Finito de Transições (SFOTS) foi codificado corretamente:\n",
    "Estados: São representados por X0, X1 e X2, que são variáveis BitVec com os tamanhos apropriados (n0, n1, n2).\n",
    "Transições: A lógica de transição dos LFSRs é implementada na função lfsr_transition, que utiliza o vetor de realimentação para calcular o próximo estado.\n",
    "O bit de feedback é calculado com base no vetor s0, s1 ou s2.\n",
    "Incluíste uma verificação de overflow com ULE, o que garante que os estados dos LFSRs nunca excedem o tamanho máximo permitido.\n",
    "A transição é controlada por bits de controle (c0, c1, c2) baseados na lógica da maioria, como esperado.\n",
    "Transições globais: As transições de estado (X0_next, X1_next, X2_next) são combinadas na fórmula transitions.\n",
    "Portanto, o modelo SFOTS está definido corretamente com os três LFSRs, como requerido.\n",
    "\n",
    "2. Condições iniciais e de erro\n",
    "As condições foram implementadas conforme a descrição:\n",
    "Condição inicial: I = And(X0 > 0, X1 > 0, X2 > 0). Garante que todos os LFSRs começam com valores positivos, como esperado.\n",
    "Condição de erro: E = Not(I). É a negação da condição inicial, ou seja, o modelo falha se algum dos LFSRs tiver estado 0 ou negativo.\n",
    "Ambas as condições correspondem exatamente às expressões fornecidas no enunciado.\n",
    "3. Algoritmo PDR\n",
    "A função pdr_prove implementa corretamente a lógica básica do algoritmo PDR (Property-Directed Reachability):\n",
    "Inicia o frame com a condição inicial (frame = [init]).\n",
    "Verifica se existe uma transição que atinge o estado de erro (solver.add(frame[-1], bad)).\n",
    "Se sat, o modelo não é seguro, e a função imprime o contraexemplo.\n",
    "Se unsat, o modelo expande o frame com novas transições válidas (solver.add(frame[-1], transitions)).\n",
    "Repete até provar a segurança ou encontrar um contraexemplo.\n",
    "A lógica de segurança está alinhada com o objetivo do exercício, que é demonstrar que o estado de erro E é inatingível a partir de I."
   ]
  }
 ],
 "metadata": {
  "kernelspec": {
   "display_name": "Python 3 (ipykernel)",
   "language": "python",
   "name": "python3"
  },
  "language_info": {
   "codemirror_mode": {
    "name": "ipython",
    "version": 3
   },
   "file_extension": ".py",
   "mimetype": "text/x-python",
   "name": "python",
   "nbconvert_exporter": "python",
   "pygments_lexer": "ipython3",
   "version": "3.10.15"
  }
 },
 "nbformat": 4,
 "nbformat_minor": 4
}
