{
  "nbformat": 4,
  "nbformat_minor": 0,
  "metadata": {
    "colab": {
      "provenance": []
    },
    "kernelspec": {
      "name": "python3",
      "display_name": "Python 3"
    },
    "language_info": {
      "name": "python"
    }
  },
  "cells": [
    {
      "cell_type": "markdown",
      "source": [
        "# Código para Gerar um Grafo Fortemente Conectado e Remover Arestas\n",
        "\n",
        "## Importações Necessárias\n",
        "Importamos as bibliotecas necessárias para manipulação de grafos, geração de números aleatórios e visualização:\n"
      ],
      "metadata": {
        "id": "QO4ItuxwhA_k"
      }
    },
    {
      "cell_type": "code",
      "source": [
        "from IPython import get_ipython\n",
        "from IPython.display import display\n",
        "import networkx as nx\n",
        "import random\n",
        "import matplotlib.pyplot as plt\n",
        "from itertools import combinations"
      ],
      "metadata": {
        "id": "P5aKtez4hE0J"
      },
      "execution_count": null,
      "outputs": []
    },
    {
      "cell_type": "markdown",
      "source": [
        "Função para Gerar um Grafo Fortemente Conectado\n",
        "A função generate_strongly_connected_graph(N) cria um grafo com N nós onde cada nó está conectado a 1 a 3 descendentes de forma aleatória."
      ],
      "metadata": {
        "id": "vqu3DHnOhFYS"
      }
    },
    {
      "cell_type": "code",
      "source": [
        "def generate_strongly_connected_graph(N):\n",
        "    while True:\n",
        "        G = nx.Graph()  # Inicializa um novo grafo\n",
        "\n",
        "        # Adicionar os nós ao grafo\n",
        "        G.add_nodes_from(range(N))\n",
        "\n",
        "        # Conectar cada nó com 1 a 3 descendentes\n",
        "        for node in G.nodes():\n",
        "            num_descendants = random.randint(1, 3)  # Número de descendentes para o nó atual\n",
        "            potential_descendants = []  # Lista para armazenar descendentes potenciais\n",
        "\n",
        "            # Encontrar descendentes potenciais\n",
        "            for n in G.nodes():\n",
        "                if n != node and not G.has_edge(node, n):  # Verifica se o nó não é o mesmo e se não existe aresta\n",
        "                    potential_descendants.append(n)\n",
        "\n",
        "            # Selecionar descendentes aleatórios\n",
        "            descendants = []\n",
        "            number_of_choices = min(num_descendants, len(potential_descendants))  # Garantir que não exceda disponíveis\n",
        "            if number_of_choices > 0:\n",
        "                selected_indices = random.sample(range(len(potential_descendants)), number_of_choices)\n",
        "                for index in selected_indices:\n",
        "                    descendants.append(potential_descendants[index])  # Adiciona os descendentes selecionados\n",
        "\n",
        "            # Adicionar as arestas entre o nó e seus descendentes\n",
        "            for descendant in descendants:\n",
        "                G.add_edge(node, descendant)\n",
        "\n",
        "        # Verificar se o grafo é conectado\n",
        "        if nx.is_connected(G):  # Retorna o grafo se for conectado\n",
        "            return G"
      ],
      "metadata": {
        "id": "4NjanIo5hHv6"
      },
      "execution_count": null,
      "outputs": []
    },
    {
      "cell_type": "markdown",
      "source": [
        "Função para Encontrar Arestas Removíveis\n",
        "A função find_max_removable_edges(G) verifica quais arestas podem ser removidas do grafo enquanto mantém sua conectividade.\n",
        "\n"
      ],
      "metadata": {
        "id": "AUGkYPfthKLT"
      }
    },
    {
      "cell_type": "code",
      "source": [
        "def find_max_removable_edges(G):\n",
        "    max_removable_edges = set()  # Conjunto para armazenar as arestas removíveis\n",
        "    # Verifica todas as combinações de arestas do grafo\n",
        "    for i in range(len(G.edges()), 0, -1):\n",
        "        for edge_set in combinations(G.edges(), i):\n",
        "            G_temp = G.copy()  # Cria uma cópia do grafo\n",
        "            G_temp.remove_edges_from(edge_set)  # Remove um conjunto de arestas\n",
        "            if nx.is_connected(G_temp):  # Verifica se a cópia ainda está conectada\n",
        "                return set(edge_set)  # Retorna as arestas removíveis\n",
        "    return max_removable_edges  # Retorna conjunto vazio se nenhuma aresta puder ser removida\n"
      ],
      "metadata": {
        "id": "1zTm5Kk4hJzI"
      },
      "execution_count": null,
      "outputs": []
    },
    {
      "cell_type": "markdown",
      "source": [
        "Função para Plotar o Grafo\n",
        "A função plot_graph(G, title) visualiza o grafo utilizando Matplotlib."
      ],
      "metadata": {
        "id": "pCtJCD9LhNXu"
      }
    },
    {
      "cell_type": "code",
      "source": [
        "def plot_graph(G, title):\n",
        "    pos = nx.spring_layout(G)  # Define a posição dos nós\n",
        "    plt.figure(figsize=(8, 6))  # Define o tamanho da figura\n",
        "\n",
        "    # Desenha os nós\n",
        "    nx.draw_networkx_nodes(G, pos, node_color='lightblue', node_size=2000)\n",
        "    # Desenha as arestas\n",
        "    nx.draw_networkx_edges(G, pos, edge_color='gray', arrows=True, arrowstyle='->', arrowsize=20)\n",
        "    # Desenha os rótulos dos nós\n",
        "    nx.draw_networkx_labels(G, pos, font_size=15, font_color='black', font_weight='bold')\n",
        "\n",
        "    plt.title(title)  # Define o título do gráfico\n",
        "    plt.show()  # Mostra o gráfico"
      ],
      "metadata": {
        "id": "MiUSGshihNB3"
      },
      "execution_count": null,
      "outputs": []
    },
    {
      "cell_type": "markdown",
      "source": [
        "Execução do Código\n",
        "Gera um grafo fortemente conectado com um número aleatório de nós entre 6 e 10.\n",
        "Imprime as arestas do grafo original.\n",
        "Encontra e remove as arestas que podem ser removidas mantendo a conectividade do grafo."
      ],
      "metadata": {
        "id": "nJ7JFnlvhQhp"
      }
    },
    {
      "cell_type": "code",
      "source": [
        "# Geração do grafo\n",
        "N = random.randint(6, 10)  # Número aleatório de nós\n",
        "G = generate_strongly_connected_graph(N)  # Gera o grafo\n",
        "\n",
        "print(f\"Grafo original com {N} nós:\")\n",
        "print(f\"Arestas do grafo original: {list(G.edges())}\")\n",
        "plot_graph(G, \"Grafo Original\")  # Plota o grafo original\n",
        "\n",
        "# Encontrar arestas removíveis\n",
        "removable_edges = find_max_removable_edges(G)\n",
        "\n",
        "# Criar um novo grafo após a remoção das arestas\n",
        "G_result = G.copy()\n",
        "G_result.remove_edges_from(removable_edges)\n",
        "\n",
        "print(f\"Número de arestas removíveis mantendo o grafo ligado: {len(removable_edges)}\")\n",
        "print(f\"Arestas removíveis: {removable_edges}\")\n",
        "\n",
        "# Verificar se as arestas removíveis existem no grafo original\n",
        "for edge in removable_edges:\n",
        "    if not G.has_edge(*edge):\n",
        "        print(f\"Erro: a aresta {edge} não existe no grafo original!\")\n",
        "\n",
        "print(\"Grafo resultante após remoção das arestas:\")\n",
        "plot_graph(G_result, \"Grafo Após Remoção das Arestas\")  # Plota o grafo após remoção"
      ],
      "metadata": {
        "id": "JQ5t1Dd0hR7P"
      },
      "execution_count": null,
      "outputs": []
    }
  ]
}