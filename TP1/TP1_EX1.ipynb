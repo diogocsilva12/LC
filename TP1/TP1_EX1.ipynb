{
  "cells": [
    {
      "cell_type": "markdown",
      "metadata": {
        "id": "vCJUsTuozTP4"
      },
      "source": [
        "# TP1 - Exercício 1\n",
        "## Grupo 1\n",
        "\n",
        "*   Diogo Coelho da Silva A100092\n",
        "*   Pedro Miguel Ramôa Oliveira A97686\n",
        "\n",
        "**Problema proposto:**\n",
        "\n",
        "1.  Pretende-se construir um horário semanal para o plano de reuniões de projeto de uma “StartUp” de acordo com as seguintes condições:\n",
        "    - **a)** Cada reunião ocupa uma sala (enumeradas 1...S) durante um “slot” (tempo,dia).  Assume-se os dias enumerados 1..D e, em cada dia, os tempos enumerados 1..T.\n",
        "    - **b)** Cada reunião tem associado um projeto (enumerados 1..P) e um conjunto de participantes. Os diferentes colaboradores são enumerados 1..C.\n",
        "    - **c)** Cada projeto tem associado um conjunto de colaboradores, dos quais um  é o líder. Cada projeto realiza um dado número de reuniões semanais. São “inputs” do problema o conjunto de colaboradores de cada projeto, o seu líder e o número de reuniões semanais.\n",
        "    - **d)** O líder do projeto participa em todas as reuniões do seu projeto; os restantes colaboradores podem ou não participar consoante a sua disponibilidade, num mínimo (“quorum”) de  50% do total de colaboradores do projeto.  A disponibilidade de cada participante, incluindo o lider,  é um conjunto de “slots” (“inputs” do problema).\n",
        "\n",
        "**Proposta de resolução:**\n",
        "\n",
        "O problema que foi apresentado tem como objetivo a criação de um horário semanal otimizado para a marcação de reuniões para uma *startup*. O objetivo é alocar eficientemente recursos como salas e tempo, considerando a disponibilidade dos colaboradores e as restrições dadas no enunciado.\n",
        "\n",
        "Na solução proposta iremos modelar o problema de acordo com as nossas necessidades e utilizaremos um solver SCIP para encontrar uma solução otimizada.\n",
        "\n",
        "Foram consideradas restrições dadas pelo enunciado, como por exemplo, a obrigatoriedade da presença do lider em todas as reuniões do seu projeto, a disponibilidade dos colaboradores, a partição exclusiva dos membros do projeto, a alocação de apenas um projeto por sala em cada slot e a garantia de um quorum minimo em cada reunião.\n",
        "\n",
        "\n",
        "\n",
        "\n",
        "\n",
        "\n",
        "\n"
      ]
    },
    {
      "cell_type": "markdown",
      "metadata": {
        "id": "nJVrA06d4TCL"
      },
      "source": [
        "#### 1. Importar as bibliotecas importantes"
      ]
    },
    {
      "cell_type": "code",
      "execution_count": 111,
      "metadata": {
        "id": "2BTTM7fh4SdB"
      },
      "outputs": [],
      "source": [
        "from ortools.linear_solver import pywraplp\n",
        "import random\n",
        "import pandas as pd"
      ]
    },
    {
      "cell_type": "markdown",
      "metadata": {
        "id": "a7WeEUdM4fRO"
      },
      "source": [
        "- `pywraplp`: Importa o solver de programação linear da biblioteca OR-Tools para resolver o problema de otimização.\n",
        "- `random`: Gera aleatoriedade para simular a disponibilidade de colaboradores e equipes dos projetos.\n",
        "- `pandas`: Biblioteca usada para organizar os dados em formato de tabela (DataFrame), facilitando a manipulação e visualização."
      ]
    },
    {
      "cell_type": "markdown",
      "metadata": {
        "id": "JLycojjKMiuz"
      },
      "source": [
        "#### 2. Pedir variáveis de entrada ao utilizador"
      ]
    },
    {
      "cell_type": "code",
      "execution_count": 112,
      "metadata": {
        "colab": {
          "base_uri": "https://localhost:8080/"
        },
        "id": "0-cLvbysMiuz",
        "outputId": "03faa9b0-0527-48bf-e338-06160b6c725e"
      },
      "outputs": [
        {
          "output_type": "stream",
          "name": "stdout",
          "text": [
            "Digite o número de salas [5]: \n",
            "Digite o número de dias [5]: \n",
            "Digite o número de slots por dia [8]: \n",
            "Digite o número de projetos [5]: \n",
            "Digite o número de colaboradores [30]: \n",
            "Parâmetros recebidos: 5 salas, 5 dias, 8 slots por dia, 5 projetos, 30 colaboradores.\n"
          ]
        }
      ],
      "source": [
        "\n",
        "#Função que recolhe as variáveis do utilizador... tem valores padrão pré-definidos no caso do utilizador não introduzir valores\n",
        "def get_input(prompt, default):\n",
        "    user_input = input(f\"{prompt} [{default}]: \")  # Mostra o valor padrão\n",
        "    return int(user_input) if user_input else default  # Usa o valor padrão se o input estiver vazio\n",
        "\n",
        "S = get_input(\"Digite o número de salas\", 5)\n",
        "D = get_input(\"Digite o número de dias\", 5)\n",
        "H = get_input(\"Digite o número de slots por dia\", 8)\n",
        "P = get_input(\"Digite o número de projetos\", 5)\n",
        "C = get_input(\"Digite o número de colaboradores\", 30)\n",
        "\n",
        "#Pretty print das variáveis introduzidas pelo utilizador\n",
        "print(f\"Parâmetros recebidos: {S} salas, {D} dias, {H} slots por dia, {P} projetos, {C} colaboradores.\")"
      ]
    },
    {
      "cell_type": "markdown",
      "metadata": {
        "id": "riGhXgFxMiu0"
      },
      "source": [
        "Nesta parte do código são definidas as variáveis do problema. A função definida \"get_input\" pergunta ao utilizador os valores que pretende introduzir para o problema. Se o utilizador não colocar valores, existem valores pre-definidos pelo programa. Existe também controlo de erros, como por exemplo, a eventualidade de o introduzir valores não validos, como por exemplo uma string.\n",
        "\n",
        "##### Variáveis recolhidas\n",
        "- `S` -> número de salas (valor default = 5)\n",
        "- `D` -> número de dias (valor default = 5)\n",
        "- `H` -> número de horas (valor default = 8)\n",
        "- `P` -> número de projetos (valor default = 5)\n",
        "- `C` -> número de colaboradores (valor default = 30)\n"
      ]
    },
    {
      "cell_type": "markdown",
      "metadata": {
        "id": "Y0h19-gnMiu0"
      },
      "source": [
        "#### 3. Definir de forma aleatória a alocação das slots de horário e dos colaboradores"
      ]
    },
    {
      "cell_type": "code",
      "execution_count": 113,
      "metadata": {
        "id": "xejsHTexMiu0"
      },
      "outputs": [],
      "source": [
        "#Cria uma lista de tuplos para definir as slots disponiveis de horário com base no máximo de D dias e H horas disponiveis\n",
        "Slots = [(d, h) for d in range(D) for h in range(H)]\n",
        "#Define os colaboradores em set para nao existirem repetidos\n",
        "Colabs = set(range(1, C + 1))\n",
        "\n",
        "random.seed(42)\n",
        "#TO-DO\n",
        "Colaboradores = [random.sample(Slots, 20) for _ in range(1, C + 1)]\n",
        "\n",
        "'''\n",
        "Primeiro é inicializado um array vazio para guardar os projetos. De seguida, enquanto que existirem projetos disponiveis, percorremos um ciclo e vamos\n",
        "atribuindo colaboradores de forma random aos projetos\n",
        "'''\n",
        "Projectos = []\n",
        "for _ in range(P):\n",
        "    available_team_size = min(3, len(Colabs))  #Não pode ter menos do que 3 colaboradores\n",
        "    team = random.sample(list(Colabs), available_team_size)\n",
        "    Projectos.append((random.randint(1, 5), team))\n",
        "    Colabs = Colabs - set(team)"
      ]
    },
    {
      "cell_type": "markdown",
      "metadata": {
        "id": "4grnDvrBMiu0"
      },
      "source": [
        "Nesta parte do código é criada uma estrutura para alocar slots de horários, colaboradores e os respetivos projetos de forma aleatória. Para isso usamos a biblioteca do python \"random\" e são definidas seeds para ser possível gerar números aleatórios.\n",
        "\n",
        "Os slots de horario vão ser criados em tuplos para respeitar as normas do enunciado, que diz que uma slot de horario é definida por uma hora e um dia.\n",
        "\n",
        "Os colaboradores são definidos como um set para garantir que não há repetidos. A lista dos colaboradores vai conter uma lista de 20 slots de horarios escolhidos aleatóriamente da lista de horários disponiveis.\n",
        "\n",
        "No fim é definida uma lista de projetos vazia. Para cada projeto são selecionados aleatoriamente um conjunto de colaboradores do set anteriormente criado. São definados aleatoriamente o número de reuniões semanais de cada projeto. No final do código, são removidos os colaboradores alocados para o projeto do set de colaboradores para evitar repetidos."
      ]
    },
    {
      "cell_type": "markdown",
      "metadata": {
        "id": "uWCaxBqvMiu1"
      },
      "source": [
        "#### 4. Inicializar o solver"
      ]
    },
    {
      "cell_type": "code",
      "execution_count": 114,
      "metadata": {
        "id": "IEzIJonQMiu1"
      },
      "outputs": [],
      "source": [
        "# Inicializando o solver SCIP\n",
        "horario = pywraplp.Solver.CreateSolver('SCIP')\n",
        "# Variáveis de decisão: x[s, d, h, p, c] = 1 se o colaborador c participa na reunião do projeto p no slot (sala s, dia d, hora h)\n",
        "x = {}\n",
        "for s in range(S):\n",
        "    for d in range(D):\n",
        "        for h in range(H):\n",
        "            for p in range(P):\n",
        "                for c in range(1, C + 1):  # Fix: Range from 1 to C\n",
        "                    x[s, d, h, p, c] = horario.BoolVar(f'x[{s},{d},{h},{p},{c}]')\n"
      ]
    },
    {
      "cell_type": "markdown",
      "metadata": {
        "id": "vVBHOCYMMiu1"
      },
      "source": [
        "Nesta parte do código, utilizamos a biblioteca \"ortools\" para criar um solver do tipo SCIP, \"Solving Constraint Integer Programs\", geralmente usado para resolver problemas de otimização e de programação com restrições que vão ser apresentadas posteriormente.\n",
        "\n",
        "##### Variáveis de decisão\n",
        "`x[s, d, h, p, c]` é uma variável de decisão binária (0 ou 1), onde:\n",
        "- `s`: sala\n",
        "- `d`: dia\n",
        "- `h`: hora\n",
        "- `p`: projeto\n",
        "- `c`: colaborador\n",
        "\n",
        "A variável é igual a 1 se o colaborador `c` participa na reunião do projeto `p` no slot de horário representado pela combinação da sala `s`, dia `d` e hora `h`. Caso contrário, a variável será 0.\n",
        "\n",
        "Vai ser utilizado um dicionário `x` para armazenar todas as variáveis de decisão resultantes do loop utilizado para gerar todas as combinações possíveis das variáveis apresentadas."
      ]
    },
    {
      "cell_type": "markdown",
      "metadata": {
        "id": "4dHIyWd8Miu1"
      },
      "source": [
        "#### 5. Restrições definidas para o solver"
      ]
    },
    {
      "cell_type": "markdown",
      "metadata": {
        "id": "-U7y8NEiMiu1"
      },
      "source": [
        "**Restrição 1**: O líder de cada projeto deve participar em todas as reuniões do seu projeto.\n",
        "\n",
        "Nesta parte código, para cada projeto `p`, o líder é definido através da manipulação de listas por `Projectos[p][1][0]`, que vais buscar o primeiro colaborador da lista de colaboradores desse projeto. A restrição adicionada ao solver garante que o somatório das participações do líder da equipa em todas as combinações de sala (`s`), dia (`d`) e hora (`h`) para o projeto `p` é exatamente igual ao número de reuniões (R) que o projeto possui, representado por `Projectos[p][0]`.\n",
        "\n",
        "A expressão no código representa a seguinte fórmula matemática:\n",
        "\n",
        "$$\n",
        "\\sum_{s=1}^{S} \\sum_{d=1}^{D} \\sum_{h=1}^{H} x[s, d, h, p, \\text{líder}] = \\text{ReuniõesProjeto}\n",
        "$$\n",
        "\n",
        "Onde:\n",
        "- `S` é o número de salas,\n",
        "- `D` é o número de dias,\n",
        "- `H` é o número de horas,\n",
        "- `x[s, d, h, p, líder]` é uma variável binária que indica se o líder do projeto `p` está presente na sala `s`, no dia `d` e na hora `h`,\n",
        "- `ReuniõesProjeto` é o número total de reuniões que o projeto `p` deve ter."
      ]
    },
    {
      "cell_type": "code",
      "execution_count": 115,
      "metadata": {
        "id": "jOpIcrCxMiu1"
      },
      "outputs": [],
      "source": [
        "for p in range(P):\n",
        "    lider = Projectos[p][1][0]\n",
        "    horario.Add(\n",
        "        sum(x[s, d, h, p, lider] for s in range(S) for d in range(D) for h in range(H)) == Projectos[p][0]\n",
        "    )"
      ]
    },
    {
      "cell_type": "markdown",
      "metadata": {
        "id": "xXiOobmrMiu1"
      },
      "source": [
        "**Restrição 2**: Colaboradores fora da disponibilidade não podem participar.\n",
        "\n",
        "Este código garante que colaboradores que não estão disponíveis em um determinado dia (`d`) e hora (`h`) não possam participar das reuniões de qualquer projeto `p` em qualquer sala `s`. Para cada combinação de sala, dia, hora e colaborador, verifica-se se o par `(d, h)` está presente na lista de disponibilidade do colaborador `c`. Se não estiver, a restrição `x[s, d, h, p, c]` é forçada a ser igual a 0, ou seja, o colaborador `c` não pode participar.\n",
        "\n",
        "A expressão no código representa a seguinte fórmula matemática:\n",
        "\n",
        "\n",
        "$$\n",
        "\\forall c \\in \\{1, 2, \\ldots, C\\}, \\forall s \\in \\{1, 2, \\ldots, S\\}, \\forall d \\in \\{1, 2, \\ldots, D\\}, \\forall h \\in \\{1, 2, \\ldots, H\\}, \\quad \\text{se} \\quad (d, h) \\notin \\text{Disponibilidade}(c) \\quad \\Rightarrow \\quad x[s, d, h, p, c] = 0\n",
        "$$"
      ]
    },
    {
      "cell_type": "code",
      "execution_count": 116,
      "metadata": {
        "id": "fHSDdEzjMiu1"
      },
      "outputs": [],
      "source": [
        "for s in range(S):\n",
        "    for d in range(D):\n",
        "        for h in range(H):\n",
        "            for p in range(P):\n",
        "                for c in range(1, C + 1):\n",
        "                    if (d, h) not in Colaboradores[c-1]:\n",
        "                        horario.Add(x[s, d, h, p, c] == 0)\n"
      ]
    },
    {
      "cell_type": "markdown",
      "metadata": {
        "id": "TEHWluk_Miu1"
      },
      "source": [
        "**Restrição 3**: Apenas colaboradores do projeto podem participar.\n",
        "\n",
        "Este código assegura que apenas os colaboradores designados para um projeto específico `p` podem participar das reuniões desse projeto. Para cada combinação de sala (`s`), dia (`d`), hora (`h`) e colaborador (`c`), verifica-se se o colaborador `c` está presente na lista de colaboradores do projeto `p` (`Projectos[p][1]`). Se o colaborador não estiver na lista, a restrição `x[s, d, h, p, c]` é forçada a ser igual a 0, significando que ele não pode participar da reunião.\n",
        "\n",
        "\n",
        "A lógica da restrição pode ser expressa como:\n",
        "\n",
        "$$\n",
        "\\forall c \\in \\{1, 2, \\ldots, C\\}, \\forall s \\in \\{1, 2, \\ldots, S\\}, \\forall d \\in \\{1, 2, \\ldots, D\\}, \\forall h \\in \\{1, 2, \\ldots, H\\}, \\quad \\text{se} \\quad c \\notin \\text{Colaboradores}(p) \\quad \\Rightarrow \\quad x[s, d, h, p, c] = 0\n",
        "$$"
      ]
    },
    {
      "cell_type": "code",
      "execution_count": 117,
      "metadata": {
        "id": "6Mc5wZPPMiu2"
      },
      "outputs": [],
      "source": [
        "for s in range(S):\n",
        "    for d in range(D):\n",
        "        for h in range(H):\n",
        "            for p in range(P):\n",
        "                for c in range(1, C + 1):\n",
        "                    if c not in Projectos[p][1]:\n",
        "                        horario.Add(x[s, d, h, p, c] == 0)\n"
      ]
    },
    {
      "cell_type": "markdown",
      "metadata": {
        "id": "tCkiJTSUMiu2"
      },
      "source": [
        "**Restrição 4**: Uma sala pode ter apenas um projeto por slot de tempo.\n",
        "\n",
        "Este código garante que, em um determinado slot de tempo (definido por uma combinação de sala `s`, dia `d` e hora `h`), apenas um projeto pode ser realizado. Para cada sala, dia e hora, a restrição é adicionada ao solver para que a soma das variáveis `x[s, d, h, p, Projectos[p][1][0]]` para todos os projetos `p` não exceda 1. Isso significa que não pode haver mais de um projeto ocorrendo na mesma sala no mesmo horário.\n",
        "\n",
        "A lógica da restrição pode ser expressa como:\n",
        "\n",
        "$$\n",
        "\\forall s \\in \\{1, 2, \\ldots, S\\}, \\forall d \\in \\{1, 2, \\ldots, D\\}, \\forall h \\in \\{1, 2, \\ldots, H\\}, \\quad \\sum_{p=1}^{P} x[s, d, h, p, \\text{líder}] \\leq 1\n",
        "$$\n",
        "\n",
        "Onde:\n",
        "- \\( x[s, d, h, p, \\text{líder}] \\) é a variável de decisão indicando a presença do líder do projeto \\( p \\) na sala \\( s \\) no dia \\( d \\) e na hora \\( h \\).\n",
        "- A soma representa a soma das variáveis de todos os projetos no slot de tempo especificado."
      ]
    },
    {
      "cell_type": "code",
      "execution_count": 118,
      "metadata": {
        "id": "3sQ541UxMiu2"
      },
      "outputs": [],
      "source": [
        "for s in range(S):\n",
        "    for d in range(D):\n",
        "        for h in range(H):\n",
        "            horario.Add(sum(x[s, d, h, p, Projectos[p][1][0]] for p in range(P)) <= 1)\n"
      ]
    },
    {
      "cell_type": "markdown",
      "metadata": {
        "id": "zMnQuAEQMiu2"
      },
      "source": [
        "**Restrição 5**: Um colaborador só pode estar em uma sala em um dado slot.\n",
        "\n",
        "Este código assegura que um colaborador específico não pode participar de mais de uma reunião ao mesmo tempo em diferentes salas. Para cada combinação de dia `d`, hora `h` e projeto `p`, a restrição adicionada ao solver força a soma das variáveis `x[s, d, h, p, c]` para todas as salas `s` a ser no máximo 1. Isso significa que, para um determinado colaborador `c` em um dia e hora específicos, ele pode estar presente em apenas uma sala, garantindo que não haja sobreposição de reuniões.\n",
        "\n",
        "A lógica da restrição pode ser expressa como:\n",
        "\n",
        "$$\n",
        "\\forall c \\in \\{1, 2, \\ldots, C\\}, \\forall d \\in \\{1, 2, \\ldots, D\\}, \\forall h \\in \\{1, 2, \\ldots, H\\}, \\quad \\sum_{s=1}^{S} x[s, d, h, p, c] \\leq 1\n",
        "$$\n",
        "\n",
        "Onde:\n",
        "- \\( x[s, d, h, p, c] \\) é a variável de decisão que indica a presença do colaborador \\( c \\) na sala \\( s \\) no dia \\( d \\) e na hora \\( h \\).\n",
        "- A soma representa a soma das variáveis para todas as salas em um dado dia e hora."
      ]
    },
    {
      "cell_type": "code",
      "execution_count": 119,
      "metadata": {
        "id": "Etli5AX1Miu2"
      },
      "outputs": [],
      "source": [
        "for d in range(D):\n",
        "    for h in range(H):\n",
        "        for p in range(P):\n",
        "            for c in Projectos[p][1]:\n",
        "                horario.Add(sum(x[s, d, h, p, c] for s in range(S)) <= 1)\n"
      ]
    },
    {
      "cell_type": "markdown",
      "metadata": {
        "id": "8Sw8vF7OMiu2"
      },
      "source": [
        "**Restrição 6**: Quorum de 50% dos colaboradores, incluindo o líder.\n",
        "\n",
        "Esta restrição garante que, para que uma reunião de um projeto `p` ocorra em um determinado slot de tempo (definido pela combinação de sala `s`, dia `d` e hora `h`), deve haver pelo menos 50% dos colaboradores do projeto presentes, incluindo o líder. O quorum é calculado como a metade do número total de colaboradores do projeto (`len(Projectos[p][1]) // 2 + 1`), arredondando para cima. A restrição imposta ao solver assegura que a soma das variáveis `x[s, d, h, p, c]` para todos os colaboradores `c` do projeto `p` seja maior ou igual ao quorum multiplicado pela presença do líder.\n",
        "\n",
        "\n",
        "A lógica da restrição pode ser expressa como:\n",
        "\n",
        "$$\n",
        "\\forall s \\in \\{1, 2, \\ldots, S\\}, \\forall d \\in \\{1, 2, \\ldots, D\\}, \\forall h \\in \\{1, 2, \\ldots, H\\}, \\forall p \\in \\{1, 2, \\ldots, P\\}, \\quad \\sum_{c \\in \\text{Colaboradores}(p)} x[s, d, h, p, c] \\geq \\left(\\frac{1}{2} \\cdot \\text{TotalColaboradores}(p) + 1\\right) \\cdot x[s, d, h, p, \\text{líder}]\n",
        "$$\n",
        "\n",
        "Onde:\n",
        "- \\( x[s, d, h, p, c] \\) é a variável de decisão que indica a presença do colaborador \\( c \\) na sala \\( s \\) no dia \\( d \\) e na hora \\( h \\).\n",
        "- \\(\\text{TotalColaboradores}(p)\\) é o número total de colaboradores do projeto \\( p \\).\n",
        "- O lado direito da equação representa a necessidade de ter pelo menos 50% dos colaboradores, incluindo o líder, presentes."
      ]
    },
    {
      "cell_type": "code",
      "execution_count": 120,
      "metadata": {
        "id": "9qrlDHHJMiu2"
      },
      "outputs": [],
      "source": [
        "\n",
        "for s in range(S):\n",
        "    for d in range(D):\n",
        "        for h in range(H):\n",
        "            for p in range(P):\n",
        "                quorum = len(Projectos[p][1]) // 2 + 1  # 50% ou mais com o líder\n",
        "                horario.Add(sum(x[s, d, h, p, c] for c in Projectos[p][1]) >= quorum * x[s, d, h, p, Projectos[p][1][0]])\n"
      ]
    },
    {
      "cell_type": "markdown",
      "source": [
        "**Restrição 7**:Esta restrição força o uso de mais do que uma sala."
      ],
      "metadata": {
        "id": "ieUnoSBdRCx1"
      }
    },
    {
      "cell_type": "code",
      "source": [
        "for s in range(S):\n",
        "  horario.Add(sum(x[s, d, h, p, c] for d in range(D) for h in range(H) for p in range(P) for c in range(1, C + 1)) >= 1)"
      ],
      "metadata": {
        "id": "wvGTHWo3NtwU"
      },
      "execution_count": 121,
      "outputs": []
    },
    {
      "cell_type": "markdown",
      "metadata": {
        "id": "ij7rFQUmMiu2"
      },
      "source": [
        "**Função Objetivo**\n",
        "\n",
        "A função objetivo do modelo procura maximizar a participação total dos colaboradores em reuniões de projetos. Isso é feito somando todas as variáveis de decisão \\( x[s, d, h, p, c] \\), que indicam se um colaborador \\( c \\) está presente na sala \\( s \\) no dia \\( d \\) e na hora \\( h \\) para o projeto \\( p \\)."
      ]
    },
    {
      "cell_type": "code",
      "execution_count": 122,
      "metadata": {
        "id": "VbRqKSWVMiu2"
      },
      "outputs": [],
      "source": [
        "horario.Maximize(\n",
        "    sum(x[s, d, h, p, c] for s in range(S) for d in range(D) for h in range(H) for p in range(P) for c in range(1, C + 1))\n",
        ")"
      ]
    },
    {
      "cell_type": "markdown",
      "metadata": {
        "id": "qeJf69aYMiu2"
      },
      "source": [
        "#### 6. Resolver o problema e apresentar o resultado"
      ]
    },
    {
      "cell_type": "markdown",
      "metadata": {
        "id": "9yu0xsoxMiu3"
      },
      "source": [
        "O código abaixo apresentado é responsável por resolver o problema apresentado e gerar uma tabela com as reuniões alocadas se for possível gerar uma solução ótima.\n",
        "\n",
        "1. O código chama o método `.Solve()` da biblioteca `ortools` para tentar encontrar uma solução ótima para o problema. Se o status desta operação for `OPTIMAL`, o código vai iterar sobre todas as variaveis e vai verificar quais foram as reuniões alocadas. Para cada reunião alocada recolhe os colaboradores.\n",
        "2. Após isto os dados coletados são postos numa lista chamada `schedule_data`, onde cada entrada contém:\n",
        "     - O número do projeto\n",
        "     - O número da sala\n",
        "     - O dia e a hora combinados num tuplo\n",
        "     - A lista de participantes de cada projeto\n",
        "3. Se não for encontrada uma solução ótima, a tabela é preenchida com uma mensagem indicando que nenhuma solução foi encontrada.\n",
        "4. Um DataFrame do pandas é criado a partir da lista `schedule_data`, com colunas para projeto, sala, dia/hora e participantes."
      ]
    },
    {
      "cell_type": "code",
      "execution_count": 124,
      "metadata": {
        "id": "1FLukqmxzTP8",
        "outputId": "7ba27ea1-1147-4f49-a5d7-bed8deb4a343",
        "colab": {
          "base_uri": "https://localhost:8080/",
          "height": 536
        }
      },
      "outputs": [
        {
          "output_type": "display_data",
          "data": {
            "text/plain": [
              "<pandas.io.formats.style.Styler at 0x7cf76d30e6e0>"
            ],
            "text/html": [
              "<style type=\"text/css\">\n",
              "#T_c3dc6 tr:nth-child(even) {\n",
              "  background-color: #f2f2f2;\n",
              "}\n",
              "#T_c3dc6 th {\n",
              "  border: 1px solid black;\n",
              "}\n",
              "#T_c3dc6  td {\n",
              "  border: 1px solid black;\n",
              "}\n",
              "#T_c3dc6_row0_col0, #T_c3dc6_row0_col1, #T_c3dc6_row0_col2, #T_c3dc6_row0_col3, #T_c3dc6_row1_col0, #T_c3dc6_row1_col1, #T_c3dc6_row1_col2, #T_c3dc6_row1_col3, #T_c3dc6_row2_col0, #T_c3dc6_row2_col1, #T_c3dc6_row2_col2, #T_c3dc6_row2_col3, #T_c3dc6_row3_col0, #T_c3dc6_row3_col1, #T_c3dc6_row3_col2, #T_c3dc6_row3_col3, #T_c3dc6_row4_col0, #T_c3dc6_row4_col1, #T_c3dc6_row4_col2, #T_c3dc6_row4_col3, #T_c3dc6_row5_col0, #T_c3dc6_row5_col1, #T_c3dc6_row5_col2, #T_c3dc6_row5_col3, #T_c3dc6_row6_col0, #T_c3dc6_row6_col1, #T_c3dc6_row6_col2, #T_c3dc6_row6_col3, #T_c3dc6_row7_col0, #T_c3dc6_row7_col1, #T_c3dc6_row7_col2, #T_c3dc6_row7_col3, #T_c3dc6_row8_col0, #T_c3dc6_row8_col1, #T_c3dc6_row8_col2, #T_c3dc6_row8_col3, #T_c3dc6_row9_col0, #T_c3dc6_row9_col1, #T_c3dc6_row9_col2, #T_c3dc6_row9_col3, #T_c3dc6_row10_col0, #T_c3dc6_row10_col1, #T_c3dc6_row10_col2, #T_c3dc6_row10_col3, #T_c3dc6_row11_col0, #T_c3dc6_row11_col1, #T_c3dc6_row11_col2, #T_c3dc6_row11_col3, #T_c3dc6_row12_col0, #T_c3dc6_row12_col1, #T_c3dc6_row12_col2, #T_c3dc6_row12_col3, #T_c3dc6_row13_col0, #T_c3dc6_row13_col1, #T_c3dc6_row13_col2, #T_c3dc6_row13_col3, #T_c3dc6_row14_col0, #T_c3dc6_row14_col1, #T_c3dc6_row14_col2, #T_c3dc6_row14_col3 {\n",
              "  text-align: center;\n",
              "}\n",
              "</style>\n",
              "<table id=\"T_c3dc6\" class=\"dataframe\">\n",
              "  <thead>\n",
              "    <tr>\n",
              "      <th id=\"T_c3dc6_level0_col0\" class=\"col_heading level0 col0\" >Projeto</th>\n",
              "      <th id=\"T_c3dc6_level0_col1\" class=\"col_heading level0 col1\" >Sala</th>\n",
              "      <th id=\"T_c3dc6_level0_col2\" class=\"col_heading level0 col2\" >Dia_Hora</th>\n",
              "      <th id=\"T_c3dc6_level0_col3\" class=\"col_heading level0 col3\" >Participantes</th>\n",
              "    </tr>\n",
              "  </thead>\n",
              "  <tbody>\n",
              "    <tr>\n",
              "      <td id=\"T_c3dc6_row0_col0\" class=\"data row0 col0\" >1</td>\n",
              "      <td id=\"T_c3dc6_row0_col1\" class=\"data row0 col1\" >1</td>\n",
              "      <td id=\"T_c3dc6_row0_col2\" class=\"data row0 col2\" >1,2</td>\n",
              "      <td id=\"T_c3dc6_row0_col3\" class=\"data row0 col3\" >[24, 16]</td>\n",
              "    </tr>\n",
              "    <tr>\n",
              "      <td id=\"T_c3dc6_row1_col0\" class=\"data row1 col0\" >1</td>\n",
              "      <td id=\"T_c3dc6_row1_col1\" class=\"data row1 col1\" >5</td>\n",
              "      <td id=\"T_c3dc6_row1_col2\" class=\"data row1 col2\" >2,5</td>\n",
              "      <td id=\"T_c3dc6_row1_col3\" class=\"data row1 col3\" >[24, 16]</td>\n",
              "    </tr>\n",
              "    <tr>\n",
              "      <td id=\"T_c3dc6_row2_col0\" class=\"data row2 col0\" >1</td>\n",
              "      <td id=\"T_c3dc6_row2_col1\" class=\"data row2 col1\" >5</td>\n",
              "      <td id=\"T_c3dc6_row2_col2\" class=\"data row2 col2\" >3,1</td>\n",
              "      <td id=\"T_c3dc6_row2_col3\" class=\"data row2 col3\" >[24, 16]</td>\n",
              "    </tr>\n",
              "    <tr>\n",
              "      <td id=\"T_c3dc6_row3_col0\" class=\"data row3 col0\" >1</td>\n",
              "      <td id=\"T_c3dc6_row3_col1\" class=\"data row3 col1\" >5</td>\n",
              "      <td id=\"T_c3dc6_row3_col2\" class=\"data row3 col2\" >3,7</td>\n",
              "      <td id=\"T_c3dc6_row3_col3\" class=\"data row3 col3\" >[24, 16]</td>\n",
              "    </tr>\n",
              "    <tr>\n",
              "      <td id=\"T_c3dc6_row4_col0\" class=\"data row4 col0\" >2</td>\n",
              "      <td id=\"T_c3dc6_row4_col1\" class=\"data row4 col1\" >4</td>\n",
              "      <td id=\"T_c3dc6_row4_col2\" class=\"data row4 col2\" >1,4</td>\n",
              "      <td id=\"T_c3dc6_row4_col3\" class=\"data row4 col3\" >[9, 8]</td>\n",
              "    </tr>\n",
              "    <tr>\n",
              "      <td id=\"T_c3dc6_row5_col0\" class=\"data row5 col0\" >2</td>\n",
              "      <td id=\"T_c3dc6_row5_col1\" class=\"data row5 col1\" >5</td>\n",
              "      <td id=\"T_c3dc6_row5_col2\" class=\"data row5 col2\" >5,2</td>\n",
              "      <td id=\"T_c3dc6_row5_col3\" class=\"data row5 col3\" >[9, 27]</td>\n",
              "    </tr>\n",
              "    <tr>\n",
              "      <td id=\"T_c3dc6_row6_col0\" class=\"data row6 col0\" >2</td>\n",
              "      <td id=\"T_c3dc6_row6_col1\" class=\"data row6 col1\" >5</td>\n",
              "      <td id=\"T_c3dc6_row6_col2\" class=\"data row6 col2\" >5,5</td>\n",
              "      <td id=\"T_c3dc6_row6_col3\" class=\"data row6 col3\" >[9, 27]</td>\n",
              "    </tr>\n",
              "    <tr>\n",
              "      <td id=\"T_c3dc6_row7_col0\" class=\"data row7 col0\" >3</td>\n",
              "      <td id=\"T_c3dc6_row7_col1\" class=\"data row7 col1\" >5</td>\n",
              "      <td id=\"T_c3dc6_row7_col2\" class=\"data row7 col2\" >5,4</td>\n",
              "      <td id=\"T_c3dc6_row7_col3\" class=\"data row7 col3\" >[20, 19, 25]</td>\n",
              "    </tr>\n",
              "    <tr>\n",
              "      <td id=\"T_c3dc6_row8_col0\" class=\"data row8 col0\" >3</td>\n",
              "      <td id=\"T_c3dc6_row8_col1\" class=\"data row8 col1\" >5</td>\n",
              "      <td id=\"T_c3dc6_row8_col2\" class=\"data row8 col2\" >5,7</td>\n",
              "      <td id=\"T_c3dc6_row8_col3\" class=\"data row8 col3\" >[20, 19, 25]</td>\n",
              "    </tr>\n",
              "    <tr>\n",
              "      <td id=\"T_c3dc6_row9_col0\" class=\"data row9 col0\" >4</td>\n",
              "      <td id=\"T_c3dc6_row9_col1\" class=\"data row9 col1\" >5</td>\n",
              "      <td id=\"T_c3dc6_row9_col2\" class=\"data row9 col2\" >1,2</td>\n",
              "      <td id=\"T_c3dc6_row9_col3\" class=\"data row9 col3\" >[11, 3]</td>\n",
              "    </tr>\n",
              "    <tr>\n",
              "      <td id=\"T_c3dc6_row10_col0\" class=\"data row10 col0\" >4</td>\n",
              "      <td id=\"T_c3dc6_row10_col1\" class=\"data row10 col1\" >5</td>\n",
              "      <td id=\"T_c3dc6_row10_col2\" class=\"data row10 col2\" >4,6</td>\n",
              "      <td id=\"T_c3dc6_row10_col3\" class=\"data row10 col3\" >[11, 18, 3]</td>\n",
              "    </tr>\n",
              "    <tr>\n",
              "      <td id=\"T_c3dc6_row11_col0\" class=\"data row11 col0\" >4</td>\n",
              "      <td id=\"T_c3dc6_row11_col1\" class=\"data row11 col1\" >5</td>\n",
              "      <td id=\"T_c3dc6_row11_col2\" class=\"data row11 col2\" >5,6</td>\n",
              "      <td id=\"T_c3dc6_row11_col3\" class=\"data row11 col3\" >[11, 18, 3]</td>\n",
              "    </tr>\n",
              "    <tr>\n",
              "      <td id=\"T_c3dc6_row12_col0\" class=\"data row12 col0\" >5</td>\n",
              "      <td id=\"T_c3dc6_row12_col1\" class=\"data row12 col1\" >5</td>\n",
              "      <td id=\"T_c3dc6_row12_col2\" class=\"data row12 col2\" >4,7</td>\n",
              "      <td id=\"T_c3dc6_row12_col3\" class=\"data row12 col3\" >[12, 15]</td>\n",
              "    </tr>\n",
              "    <tr>\n",
              "      <td id=\"T_c3dc6_row13_col0\" class=\"data row13 col0\" >5</td>\n",
              "      <td id=\"T_c3dc6_row13_col1\" class=\"data row13 col1\" >5</td>\n",
              "      <td id=\"T_c3dc6_row13_col2\" class=\"data row13 col2\" >4,8</td>\n",
              "      <td id=\"T_c3dc6_row13_col3\" class=\"data row13 col3\" >[12, 13]</td>\n",
              "    </tr>\n",
              "    <tr>\n",
              "      <td id=\"T_c3dc6_row14_col0\" class=\"data row14 col0\" >5</td>\n",
              "      <td id=\"T_c3dc6_row14_col1\" class=\"data row14 col1\" >5</td>\n",
              "      <td id=\"T_c3dc6_row14_col2\" class=\"data row14 col2\" >5,3</td>\n",
              "      <td id=\"T_c3dc6_row14_col3\" class=\"data row14 col3\" >[12, 15]</td>\n",
              "    </tr>\n",
              "  </tbody>\n",
              "</table>\n"
            ]
          },
          "metadata": {}
        }
      ],
      "source": [
        "# Resolver o problema\n",
        "status = horario.Solve()\n",
        "\n",
        "# Verificar a solução e preparar a tabela de resultados\n",
        "schedule_data = []\n",
        "\n",
        "\n",
        "if status == pywraplp.Solver.OPTIMAL:\n",
        "    for p in range(P):\n",
        "        for s in range(S):\n",
        "            for d in range(D):\n",
        "                for h in range(H):\n",
        "                    if round(x[s, d, h, p, Projectos[p][1][0]].solution_value()) == 1:\n",
        "                        participants = [c for c in Projectos[p][1] if round(x[s, d, h, p, c].solution_value()) == 1]\n",
        "                        schedule_data.append([p + 1, s + 1, f\"{d + 1},{h + 1}\", participants])\n",
        "else:\n",
        "    schedule_data.append([None, None, None, \"Nenhuma solução ótima encontrada.\"])\n",
        "\n",
        "df_schedule = pd.DataFrame(schedule_data, columns=[\"Projeto\", \"Sala\", \"Dia_Hora\", \"Participantes\"])\n",
        "\n",
        "\n",
        "def style_schedule(df):\n",
        "    return df.style.set_table_styles(\n",
        "        [{'selector': 'tr:nth-child(even)',\n",
        "          'props': [('background-color', '#f2f2f2')]},   # Cor alternada para linhas pares\n",
        "         {'selector': 'th, td',\n",
        "          'props': [('border', '1px solid black')]}      # Bordas em volta das células\n",
        "        ]\n",
        "    ).set_properties(**{'text-align': 'center'})          # Alinhar o texto no centro\n",
        "\n",
        "# Aplicar estilo e exibir diretamente no notebook\n",
        "styled_table = style_schedule(df_schedule)\n",
        "\n",
        "# Exibir a tabela estilizada no Jupyter Notebook sem o índice\n",
        "display(styled_table.hide(axis='index'))\n"
      ]
    }
  ],
  "metadata": {
    "colab": {
      "provenance": []
    },
    "kernelspec": {
      "display_name": "Python 3 (ipykernel)",
      "language": "python",
      "name": "python3"
    },
    "language_info": {
      "codemirror_mode": {
        "name": "ipython",
        "version": 3
      },
      "file_extension": ".py",
      "mimetype": "text/x-python",
      "name": "python",
      "nbconvert_exporter": "python",
      "pygments_lexer": "ipython3",
      "version": "3.10.14"
    }
  },
  "nbformat": 4,
  "nbformat_minor": 0
}