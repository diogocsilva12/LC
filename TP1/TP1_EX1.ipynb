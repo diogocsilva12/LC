{
  "cells": [
    {
      "cell_type": "markdown",
      "metadata": {
        "id": "vCJUsTuozTP4"
      },
      "source": [
        "# TP1 - Exercício 1\n",
        "## Grupo 1\n",
        "\n",
        "*   Diogo Coelho da Silva A100092\n",
        "*   Pedro Miguel Ramôa Oliveira A97686\n",
        "\n",
        "**Problema proposto:**\n",
        "\n",
        "1.  Pretende-se construir um horário semanal para o plano de reuniões de projeto de uma “StartUp” de acordo com as seguintes condições:\n",
        "    - **a)** Cada reunião ocupa uma sala (enumeradas 1...S) durante um “slot” (tempo,dia).  Assume-se os dias enumerados 1..D e, em cada dia, os tempos enumerados 1..T.\n",
        "    - **b)** Cada reunião tem associado um projeto (enumerados 1..P) e um conjunto de participantes. Os diferentes colaboradores são enumerados 1..C.\n",
        "    - **c)** Cada projeto tem associado um conjunto de colaboradores, dos quais um  é o líder. Cada projeto realiza um dado número de reuniões semanais. São “inputs” do problema o conjunto de colaboradores de cada projeto, o seu líder e o número de reuniões semanais.\n",
        "    - **d)** O líder do projeto participa em todas as reuniões do seu projeto; os restantes colaboradores podem ou não participar consoante a sua disponibilidade, num mínimo (“quorum”) de  50% do total de colaboradores do projeto.  A disponibilidade de cada participante, incluindo o lider,  é um conjunto de “slots” (“inputs” do problema).\n",
        "\n",
        "**Proposta de resolução:**\n",
        "\n",
        "O problema que foi apresentado tem como objetivo a criação de um horário semanal otimizado para a marcação de reuniões para uma *startup*. O objetivo é alocar eficientemente recursos como salas e tempo, considerando a disponibilidade dos colaboradores e as restrições dadas no enunciado.\n",
        "\n",
        "Na solução proposta iremos modelar o problema de acordo com as nossas necessidades e utilizaremos um solver SCIP para encontrar uma solução otimizada.\n",
        "\n",
        "Foram consideradas restrições dadas pelo enunciado, como por exemplo, a obrigatoriedade da presença do lider em todas as reuniões do seu projeto, a disponibilidade dos colaboradores, a partição exclusiva dos membros do projeto, a alocação de apenas um projeto por sala em cada slot e a garantia de um quorum minimo em cada reunião.\n",
        "\n",
        "\n",
        "\n",
        "\n",
        "\n",
        "\n",
        "\n"
      ]
    },
    {
      "cell_type": "markdown",
      "metadata": {
        "id": "nJVrA06d4TCL"
      },
      "source": [
        "#### 1. Importar as bibliotecas importantes"
      ]
    },
    {
      "cell_type": "code",
      "execution_count": 18,
      "metadata": {
        "id": "2BTTM7fh4SdB"
      },
      "outputs": [],
      "source": [
        "from ortools.linear_solver import pywraplp\n",
        "import random\n",
        "import pandas as pd"
      ]
    },
    {
      "cell_type": "markdown",
      "metadata": {
        "id": "a7WeEUdM4fRO"
      },
      "source": [
        "- **pywraplp**: Importa o solver de programação linear da biblioteca OR-Tools para resolver o problema de otimização.\n",
        "- **random**: Gera aleatoriedade para simular a disponibilidade de colaboradores e equipes dos projetos.\n",
        "- **pandas**: Biblioteca usada para organizar os dados em formato de tabela (DataFrame), facilitando a manipulação e visualização."
      ]
    },
    {
      "cell_type": "markdown",
      "metadata": {},
      "source": [
        "#### 2. Pedir variáveis de entrada ao utilizador"
      ]
    },
    {
      "cell_type": "code",
      "execution_count": 19,
      "metadata": {},
      "outputs": [
        {
          "name": "stdout",
          "output_type": "stream",
          "text": [
            "Parâmetros recebidos: 5 salas, 5 dias, 8 slots por dia, 5 projetos, 30 colaboradores.\n"
          ]
        }
      ],
      "source": [
        "#Função que recolhe as variáveis do utilizador... tem valores padrão pré-definidos no caso do utilizador não introduzir valores\n",
        "def get_input(prompt, default):\n",
        "    user_input = input(f\"{prompt} [{default}]: \")  # Mostra o valor padrão\n",
        "    return int(user_input) if user_input else default  # Usa o valor padrão se o input estiver vazio\n",
        "\n",
        "S = get_input(\"Digite o número de salas\", 5)\n",
        "D = get_input(\"Digite o número de dias\", 5)\n",
        "H = get_input(\"Digite o número de slots por dia\", 8)\n",
        "P = get_input(\"Digite o número de projetos\", 5)\n",
        "C = get_input(\"Digite o número de colaboradores\", 30)\n",
        "\n",
        "#Pretty print das variáveis introduzidas pelo utilizador\n",
        "print(f\"Parâmetros recebidos: {S} salas, {D} dias, {H} slots por dia, {P} projetos, {C} colaboradores.\")"
      ]
    },
    {
      "cell_type": "markdown",
      "metadata": {},
      "source": [
        "Nesta parte do código são definidas as variáveis do problema. A função definida \"get_input\" pergunta ao utilizador os valores que pretende introduzir para o problema. Se o utilizador não colocar valores, existem valores pre-definidos pelo programa. Existe também controlo de erros, como por exemplo, a eventualidade de o introduzir valores não validos, como por exemplo uma string.\n",
        "As variáveis recolhidas são as seguintes: \n",
        "- **S** -> representa o número de salas (valor default = 5)\n",
        "- **D** -> representa o número de dias (valor default = 5)\n",
        "- **H** -> representa o número de horas (valor default = 8)\n",
        "- **P** -> representa o número de projetos (valor default = 5)\n",
        "- **C** -> representa o número de colaboradores (valor default = 30)\n"
      ]
    },
    {
      "cell_type": "markdown",
      "metadata": {},
      "source": [
        "DEFINIR SLOTS E COLABORES"
      ]
    },
    {
      "cell_type": "code",
      "execution_count": 20,
      "metadata": {},
      "outputs": [],
      "source": [
        "# Definir slots e colaboradores\n",
        "\n",
        "#Define as slots de time em pares(dias,horas)\n",
        "Slots = [(d, h) for d in range(D) for h in range(H)]\n",
        "#Define os colaboradores em set para nao existirem repetidos\n",
        "Colabs = set(range(1, C + 1)) \n",
        "\n",
        "random.seed(42) \n",
        "#TO-DO\n",
        "Colaboradores = [random.sample(Slots, 20) for _ in range(1, C + 1)]\n",
        "\n",
        "'''\n",
        "Primeiro é inicializado um array vazio para guardar os projetos. De seguida, enquanto que existirem projetos disponiveis, percorremos um ciclo e vamos\n",
        "atribuindo colaboradores de forma random aos projetos\n",
        "'''\n",
        "Projectos = []\n",
        "for _ in range(P):\n",
        "    available_team_size = min(3, len(Colabs))  #Não pode ter menos do que 3 colaboradores\n",
        "    team = random.sample(list(Colabs), available_team_size)\n",
        "    Projectos.append((random.randint(1, 5), team))\n",
        "    Colabs = Colabs - set(team)"
      ]
    },
    {
      "cell_type": "markdown",
      "metadata": {},
      "source": [
        "INICIALIZAR O SOLVER"
      ]
    },
    {
      "cell_type": "code",
      "execution_count": 21,
      "metadata": {},
      "outputs": [],
      "source": [
        "# Inicializando o solver SCIP\n",
        "horario = pywraplp.Solver.CreateSolver('SCIP')\n",
        "# Variáveis de decisão: x[s, d, h, p, c] = 1 se o colaborador c participa na reunião do projeto p no slot (sala s, dia d, hora h)\n",
        "x = {}\n",
        "for s in range(S):\n",
        "    for d in range(D):\n",
        "        for h in range(H):\n",
        "            for p in range(P):\n",
        "                for c in range(1, C + 1):  # Fix: Range from 1 to C\n",
        "                    x[s, d, h, p, c] = horario.BoolVar(f'x[{s},{d},{h},{p},{c}]')\n"
      ]
    },
    {
      "cell_type": "markdown",
      "metadata": {},
      "source": [
        "RESTRIÇÃO 1"
      ]
    },
    {
      "cell_type": "code",
      "execution_count": 22,
      "metadata": {},
      "outputs": [],
      "source": [
        "\n",
        "# Restrição 1: O líder tem de estar em todas as R reuniões do seu projecto\n",
        "for p in range(P):\n",
        "    lider = Projectos[p][1][0]\n",
        "    horario.Add(\n",
        "        sum(x[s, d, h, p, lider] for s in range(S) for d in range(D) for h in range(H)) == Projectos[p][0]\n",
        "    )"
      ]
    },
    {
      "cell_type": "markdown",
      "metadata": {},
      "source": [
        "RESTRIÇÃO 2"
      ]
    },
    {
      "cell_type": "code",
      "execution_count": 23,
      "metadata": {},
      "outputs": [],
      "source": [
        "# Restrição 2: Colaboradores fora da disponibilidade não podem participar\n",
        "for s in range(S):\n",
        "    for d in range(D):\n",
        "        for h in range(H):\n",
        "            for p in range(P):\n",
        "                for c in range(1, C + 1):  # Fix: Range from 1 to C\n",
        "                    if (d, h) not in Colaboradores[c-1]:  # Fix: Adjust index since Colaboradores uses 0-based indexing\n",
        "                        horario.Add(x[s, d, h, p, c] == 0)\n"
      ]
    },
    {
      "cell_type": "markdown",
      "metadata": {},
      "source": [
        "RESTRIÇÃO 3"
      ]
    },
    {
      "cell_type": "code",
      "execution_count": 24,
      "metadata": {},
      "outputs": [],
      "source": [
        "# Restrição 3: Apenas colaboradores do projeto podem participar\n",
        "for s in range(S):\n",
        "    for d in range(D):\n",
        "        for h in range(H):\n",
        "            for p in range(P):\n",
        "                for c in range(1, C + 1):  # Fix: Range from 1 to C\n",
        "                    if c not in Projectos[p][1]:\n",
        "                        horario.Add(x[s, d, h, p, c] == 0)\n"
      ]
    },
    {
      "cell_type": "markdown",
      "metadata": {},
      "source": [
        "RESTRIÇÃO 4"
      ]
    },
    {
      "cell_type": "code",
      "execution_count": 25,
      "metadata": {},
      "outputs": [],
      "source": [
        "# Restrição 4: Uma sala pode ter apenas um projeto por slot de tempo\n",
        "for s in range(S):\n",
        "    for d in range(D):\n",
        "        for h in range(H):\n",
        "            horario.Add(sum(x[s, d, h, p, Projectos[p][1][0]] for p in range(P)) <= 1)\n"
      ]
    },
    {
      "cell_type": "markdown",
      "metadata": {},
      "source": [
        "RESTRIÇÃO 5"
      ]
    },
    {
      "cell_type": "code",
      "execution_count": 26,
      "metadata": {},
      "outputs": [],
      "source": [
        "# Restrição 5: Um colaborador só pode estar numa sala em um dado slot\n",
        "for d in range(D):\n",
        "    for h in range(H):\n",
        "        for p in range(P):\n",
        "            for c in Projectos[p][1]:\n",
        "                horario.Add(sum(x[s, d, h, p, c] for s in range(S)) <= 1)\n"
      ]
    },
    {
      "cell_type": "markdown",
      "metadata": {},
      "source": [
        "RESTRIÇÃO 6"
      ]
    },
    {
      "cell_type": "code",
      "execution_count": 27,
      "metadata": {},
      "outputs": [],
      "source": [
        "# Restrição 6: Quorum de 50% dos colaboradores, incluindo o líder\n",
        "for s in range(S):\n",
        "    for d in range(D):\n",
        "        for h in range(H):\n",
        "            for p in range(P):\n",
        "                quorum = len(Projectos[p][1]) // 2 + 1  # 50% ou mais com o líder\n",
        "                horario.Add(sum(x[s, d, h, p, c] for c in Projectos[p][1]) >= quorum * x[s, d, h, p, Projectos[p][1][0]])\n"
      ]
    },
    {
      "cell_type": "markdown",
      "metadata": {},
      "source": [
        "FUNCAO OBJETIVO"
      ]
    },
    {
      "cell_type": "code",
      "execution_count": 28,
      "metadata": {},
      "outputs": [],
      "source": [
        "horario.Maximize(\n",
        "    sum(x[s, d, h, p, c] for s in range(S) for d in range(D) for h in range(H) for p in range(P) for c in range(1, C + 1))\n",
        ")"
      ]
    },
    {
      "cell_type": "markdown",
      "metadata": {},
      "source": [
        "SOLVER"
      ]
    },
    {
      "cell_type": "code",
      "execution_count": 29,
      "metadata": {},
      "outputs": [],
      "source": [
        "# Resolver o problema\n",
        "status = horario.Solve()"
      ]
    },
    {
      "cell_type": "code",
      "execution_count": 30,
      "metadata": {
        "id": "1FLukqmxzTP8",
        "outputId": "eaa68bab-88e5-4067-8b58-dafd372cafd1"
      },
      "outputs": [
        {
          "data": {
            "text/html": [
              "<style type=\"text/css\">\n",
              "#T_4c103 tr:nth-child(even) {\n",
              "  background-color: #f2f2f2;\n",
              "}\n",
              "#T_4c103 th {\n",
              "  border: 1px solid black;\n",
              "}\n",
              "#T_4c103  td {\n",
              "  border: 1px solid black;\n",
              "}\n",
              "#T_4c103_row0_col0, #T_4c103_row0_col1, #T_4c103_row0_col2, #T_4c103_row0_col3, #T_4c103_row1_col0, #T_4c103_row1_col1, #T_4c103_row1_col2, #T_4c103_row1_col3, #T_4c103_row2_col0, #T_4c103_row2_col1, #T_4c103_row2_col2, #T_4c103_row2_col3, #T_4c103_row3_col0, #T_4c103_row3_col1, #T_4c103_row3_col2, #T_4c103_row3_col3, #T_4c103_row4_col0, #T_4c103_row4_col1, #T_4c103_row4_col2, #T_4c103_row4_col3, #T_4c103_row5_col0, #T_4c103_row5_col1, #T_4c103_row5_col2, #T_4c103_row5_col3, #T_4c103_row6_col0, #T_4c103_row6_col1, #T_4c103_row6_col2, #T_4c103_row6_col3, #T_4c103_row7_col0, #T_4c103_row7_col1, #T_4c103_row7_col2, #T_4c103_row7_col3, #T_4c103_row8_col0, #T_4c103_row8_col1, #T_4c103_row8_col2, #T_4c103_row8_col3, #T_4c103_row9_col0, #T_4c103_row9_col1, #T_4c103_row9_col2, #T_4c103_row9_col3, #T_4c103_row10_col0, #T_4c103_row10_col1, #T_4c103_row10_col2, #T_4c103_row10_col3, #T_4c103_row11_col0, #T_4c103_row11_col1, #T_4c103_row11_col2, #T_4c103_row11_col3, #T_4c103_row12_col0, #T_4c103_row12_col1, #T_4c103_row12_col2, #T_4c103_row12_col3, #T_4c103_row13_col0, #T_4c103_row13_col1, #T_4c103_row13_col2, #T_4c103_row13_col3, #T_4c103_row14_col0, #T_4c103_row14_col1, #T_4c103_row14_col2, #T_4c103_row14_col3 {\n",
              "  text-align: center;\n",
              "}\n",
              "</style>\n",
              "<table id=\"T_4c103\">\n",
              "  <thead>\n",
              "    <tr>\n",
              "      <th id=\"T_4c103_level0_col0\" class=\"col_heading level0 col0\" >Projeto</th>\n",
              "      <th id=\"T_4c103_level0_col1\" class=\"col_heading level0 col1\" >Sala</th>\n",
              "      <th id=\"T_4c103_level0_col2\" class=\"col_heading level0 col2\" >Dia_Hora</th>\n",
              "      <th id=\"T_4c103_level0_col3\" class=\"col_heading level0 col3\" >Participantes</th>\n",
              "    </tr>\n",
              "  </thead>\n",
              "  <tbody>\n",
              "    <tr>\n",
              "      <td id=\"T_4c103_row0_col0\" class=\"data row0 col0\" >1</td>\n",
              "      <td id=\"T_4c103_row0_col1\" class=\"data row0 col1\" >1</td>\n",
              "      <td id=\"T_4c103_row0_col2\" class=\"data row0 col2\" >1,4</td>\n",
              "      <td id=\"T_4c103_row0_col3\" class=\"data row0 col3\" >[24, 16]</td>\n",
              "    </tr>\n",
              "    <tr>\n",
              "      <td id=\"T_4c103_row1_col0\" class=\"data row1 col0\" >1</td>\n",
              "      <td id=\"T_4c103_row1_col1\" class=\"data row1 col1\" >1</td>\n",
              "      <td id=\"T_4c103_row1_col2\" class=\"data row1 col2\" >1,6</td>\n",
              "      <td id=\"T_4c103_row1_col3\" class=\"data row1 col3\" >[24, 28, 16]</td>\n",
              "    </tr>\n",
              "    <tr>\n",
              "      <td id=\"T_4c103_row2_col0\" class=\"data row2 col0\" >1</td>\n",
              "      <td id=\"T_4c103_row2_col1\" class=\"data row2 col1\" >1</td>\n",
              "      <td id=\"T_4c103_row2_col2\" class=\"data row2 col2\" >4,2</td>\n",
              "      <td id=\"T_4c103_row2_col3\" class=\"data row2 col3\" >[24, 28, 16]</td>\n",
              "    </tr>\n",
              "    <tr>\n",
              "      <td id=\"T_4c103_row3_col0\" class=\"data row3 col0\" >1</td>\n",
              "      <td id=\"T_4c103_row3_col1\" class=\"data row3 col1\" >1</td>\n",
              "      <td id=\"T_4c103_row3_col2\" class=\"data row3 col2\" >4,3</td>\n",
              "      <td id=\"T_4c103_row3_col3\" class=\"data row3 col3\" >[24, 16]</td>\n",
              "    </tr>\n",
              "    <tr>\n",
              "      <td id=\"T_4c103_row4_col0\" class=\"data row4 col0\" >2</td>\n",
              "      <td id=\"T_4c103_row4_col1\" class=\"data row4 col1\" >1</td>\n",
              "      <td id=\"T_4c103_row4_col2\" class=\"data row4 col2\" >1,1</td>\n",
              "      <td id=\"T_4c103_row4_col3\" class=\"data row4 col3\" >[9, 27, 8]</td>\n",
              "    </tr>\n",
              "    <tr>\n",
              "      <td id=\"T_4c103_row5_col0\" class=\"data row5 col0\" >2</td>\n",
              "      <td id=\"T_4c103_row5_col1\" class=\"data row5 col1\" >1</td>\n",
              "      <td id=\"T_4c103_row5_col2\" class=\"data row5 col2\" >3,5</td>\n",
              "      <td id=\"T_4c103_row5_col3\" class=\"data row5 col3\" >[9, 27, 8]</td>\n",
              "    </tr>\n",
              "    <tr>\n",
              "      <td id=\"T_4c103_row6_col0\" class=\"data row6 col0\" >2</td>\n",
              "      <td id=\"T_4c103_row6_col1\" class=\"data row6 col1\" >1</td>\n",
              "      <td id=\"T_4c103_row6_col2\" class=\"data row6 col2\" >3,8</td>\n",
              "      <td id=\"T_4c103_row6_col3\" class=\"data row6 col3\" >[9, 27, 8]</td>\n",
              "    </tr>\n",
              "    <tr>\n",
              "      <td id=\"T_4c103_row7_col0\" class=\"data row7 col0\" >3</td>\n",
              "      <td id=\"T_4c103_row7_col1\" class=\"data row7 col1\" >1</td>\n",
              "      <td id=\"T_4c103_row7_col2\" class=\"data row7 col2\" >2,3</td>\n",
              "      <td id=\"T_4c103_row7_col3\" class=\"data row7 col3\" >[20, 19]</td>\n",
              "    </tr>\n",
              "    <tr>\n",
              "      <td id=\"T_4c103_row8_col0\" class=\"data row8 col0\" >3</td>\n",
              "      <td id=\"T_4c103_row8_col1\" class=\"data row8 col1\" >1</td>\n",
              "      <td id=\"T_4c103_row8_col2\" class=\"data row8 col2\" >3,1</td>\n",
              "      <td id=\"T_4c103_row8_col3\" class=\"data row8 col3\" >[20, 25]</td>\n",
              "    </tr>\n",
              "    <tr>\n",
              "      <td id=\"T_4c103_row9_col0\" class=\"data row9 col0\" >4</td>\n",
              "      <td id=\"T_4c103_row9_col1\" class=\"data row9 col1\" >1</td>\n",
              "      <td id=\"T_4c103_row9_col2\" class=\"data row9 col2\" >1,2</td>\n",
              "      <td id=\"T_4c103_row9_col3\" class=\"data row9 col3\" >[11, 3]</td>\n",
              "    </tr>\n",
              "    <tr>\n",
              "      <td id=\"T_4c103_row10_col0\" class=\"data row10 col0\" >4</td>\n",
              "      <td id=\"T_4c103_row10_col1\" class=\"data row10 col1\" >1</td>\n",
              "      <td id=\"T_4c103_row10_col2\" class=\"data row10 col2\" >1,5</td>\n",
              "      <td id=\"T_4c103_row10_col3\" class=\"data row10 col3\" >[11, 18]</td>\n",
              "    </tr>\n",
              "    <tr>\n",
              "      <td id=\"T_4c103_row11_col0\" class=\"data row11 col0\" >4</td>\n",
              "      <td id=\"T_4c103_row11_col1\" class=\"data row11 col1\" >1</td>\n",
              "      <td id=\"T_4c103_row11_col2\" class=\"data row11 col2\" >3,2</td>\n",
              "      <td id=\"T_4c103_row11_col3\" class=\"data row11 col3\" >[11, 18]</td>\n",
              "    </tr>\n",
              "    <tr>\n",
              "      <td id=\"T_4c103_row12_col0\" class=\"data row12 col0\" >5</td>\n",
              "      <td id=\"T_4c103_row12_col1\" class=\"data row12 col1\" >1</td>\n",
              "      <td id=\"T_4c103_row12_col2\" class=\"data row12 col2\" >1,8</td>\n",
              "      <td id=\"T_4c103_row12_col3\" class=\"data row12 col3\" >[12, 13]</td>\n",
              "    </tr>\n",
              "    <tr>\n",
              "      <td id=\"T_4c103_row13_col0\" class=\"data row13 col0\" >5</td>\n",
              "      <td id=\"T_4c103_row13_col1\" class=\"data row13 col1\" >1</td>\n",
              "      <td id=\"T_4c103_row13_col2\" class=\"data row13 col2\" >2,6</td>\n",
              "      <td id=\"T_4c103_row13_col3\" class=\"data row13 col3\" >[12, 15]</td>\n",
              "    </tr>\n",
              "    <tr>\n",
              "      <td id=\"T_4c103_row14_col0\" class=\"data row14 col0\" >5</td>\n",
              "      <td id=\"T_4c103_row14_col1\" class=\"data row14 col1\" >1</td>\n",
              "      <td id=\"T_4c103_row14_col2\" class=\"data row14 col2\" >2,7</td>\n",
              "      <td id=\"T_4c103_row14_col3\" class=\"data row14 col3\" >[12, 13, 15]</td>\n",
              "    </tr>\n",
              "  </tbody>\n",
              "</table>\n"
            ],
            "text/plain": [
              "<pandas.io.formats.style.Styler at 0x177f01045e0>"
            ]
          },
          "metadata": {},
          "output_type": "display_data"
        }
      ],
      "source": [
        "\n",
        "\n",
        "\n",
        "\n",
        "'''\n",
        "# Mapeamento dos slots para horas\n",
        "time_slots = [\"08:30 - 09:30\", \"09:30 - 10:30\", \"10:30 - 11:30\", \"11:30 - 12:30\",\n",
        "              \"13:30 - 14:30\", \"14:30 - 15:30\", \"15:30 - 16:30\", \"16:30 - 17:30\"]\n",
        "'''\n",
        "\n",
        "\n",
        "# Verificar a solução e preparar a tabela de resultados\n",
        "schedule_data = []\n",
        "\n",
        "\n",
        "if status == pywraplp.Solver.OPTIMAL:\n",
        "    for p in range(P):\n",
        "        for s in range(S):\n",
        "            for d in range(D):\n",
        "                for h in range(H):\n",
        "                    if round(x[s, d, h, p, Projectos[p][1][0]].solution_value()) == 1:\n",
        "                        participants = [c for c in Projectos[p][1] if round(x[s, d, h, p, c].solution_value()) == 1]\n",
        "                        # Combine day and hour as one column, with hour as a simple number\n",
        "                        schedule_data.append([p + 1, s + 1, f\"{d + 1},{h + 1}\", participants])\n",
        "else:\n",
        "    # Ensure this matches the number of columns (4 columns)\n",
        "    schedule_data.append([None, None, None, \"Nenhuma solução ótima encontrada.\"])\n",
        "\n",
        "# Criar dataframe da tabela\n",
        "df_schedule = pd.DataFrame(schedule_data, columns=[\"Projeto\", \"Sala\", \"Dia_Hora\", \"Participantes\"])\n",
        "\n",
        "\n",
        "# Criar estilo para linhas alternadas e bordas entre colunas\n",
        "def style_schedule(df):\n",
        "    return df.style.set_table_styles(\n",
        "        [{'selector': 'tr:nth-child(even)',\n",
        "          'props': [('background-color', '#f2f2f2')]},   # Cor alternada para linhas pares\n",
        "         {'selector': 'th, td',\n",
        "          'props': [('border', '1px solid black')]}      # Bordas em volta das células\n",
        "        ]\n",
        "    ).set_properties(**{'text-align': 'center'})          # Alinhar o texto no centro\n",
        "\n",
        "# Aplicar estilo e exibir diretamente no notebook\n",
        "styled_table = style_schedule(df_schedule)\n",
        "\n",
        "# Exibir a tabela estilizada no Jupyter Notebook sem o índice\n",
        "display(styled_table.hide(axis='index'))\n"
      ]
    },
    {
      "cell_type": "markdown",
      "metadata": {
        "id": "xAXYZGcAzTQA"
      },
      "source": []
    },
    {
      "cell_type": "code",
      "execution_count": null,
      "metadata": {
        "id": "xZTtXyYCzTQA"
      },
      "outputs": [],
      "source": []
    },
    {
      "cell_type": "code",
      "execution_count": null,
      "metadata": {
        "id": "XYns-j6LzTQA"
      },
      "outputs": [],
      "source": []
    }
  ],
  "metadata": {
    "colab": {
      "provenance": []
    },
    "kernelspec": {
      "display_name": "Python 3 (ipykernel)",
      "language": "python",
      "name": "python3"
    },
    "language_info": {
      "codemirror_mode": {
        "name": "ipython",
        "version": 3
      },
      "file_extension": ".py",
      "mimetype": "text/x-python",
      "name": "python",
      "nbconvert_exporter": "python",
      "pygments_lexer": "ipython3",
      "version": "3.10.14"
    }
  },
  "nbformat": 4,
  "nbformat_minor": 0
}
