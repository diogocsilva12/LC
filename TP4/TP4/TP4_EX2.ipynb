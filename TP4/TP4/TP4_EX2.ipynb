{
 "cells": [
  {
   "cell_type": "markdown",
   "metadata": {},
   "source": [
    "# TP4 - Exercício 1\n",
    "## Grupo 1\n",
    "\n",
    "*   Diogo Coelho da Silva A100092\n",
    "*   Pedro Miguel Ramôa Oliveira A97686\n"
   ]
  },
  {
   "cell_type": "markdown",
   "metadata": {},
   "source": [
    "#### 1. Import's"
   ]
  },
  {
   "cell_type": "code",
   "execution_count": 44,
   "metadata": {},
   "outputs": [],
   "source": [
    "from z3 import *"
   ]
  },
  {
   "cell_type": "markdown",
   "metadata": {},
   "source": [
    "#### 2.Definição do algoritmo de euclides\n",
    "\n"
   ]
  },
  {
   "cell_type": "code",
   "execution_count": 45,
   "metadata": {},
   "outputs": [
    {
     "name": "stdout",
     "output_type": "stream",
     "text": [
      "6\n"
     ]
    }
   ],
   "source": [
    "from z3 import *\n",
    "\n",
    "def algoritmoEuclides(num1, num2):\n",
    "    r_prev, r_curr = num1, num2\n",
    "    s_prev, s_curr = 1, 0\n",
    "    t_prev, t_curr = 0, 1\n",
    "    while r_curr != 0:\n",
    "        q = r_prev // r_curr\n",
    "        r_prev, r_curr = r_curr, r_prev - q * r_curr\n",
    "        s_prev, s_curr = s_curr, s_prev - q * s_curr\n",
    "        t_prev, t_curr = t_curr, t_prev - q * t_curr\n",
    "    return r_prev\n",
    "\n",
    "# Example\n",
    "print(algoritmoEuclides(12, 18))"
   ]
  },
  {
   "cell_type": "code",
   "execution_count": 46,
   "metadata": {},
   "outputs": [
    {
     "name": "stdout",
     "output_type": "stream",
     "text": [
      "Propriedade provada com sucesso.\n"
     ]
    }
   ],
   "source": [
    "from z3 import *\n",
    "\n",
    "def Prova(formula):\n",
    "    \"\"\"\n",
    "    Esta função tenta provar uma fórmula lógica por refutação.\n",
    "    Basicamente, adiciona a negação da fórmula a um solver SAT (Satisfiability)\n",
    "    e verifica se o resultado é satisfazível.\n",
    "\n",
    "    Se a negação da fórmula for insatisfazível, significa que a fórmula original\n",
    "    é uma tautologia (sempre verdadeira), ou seja, provada.\n",
    "\n",
    "    \"\"\"\n",
    "\n",
    "    # Cria uma instância de um solver Z3. \n",
    "    s = Solver()\n",
    "    # Adiciona a negação da fórmula ao solver. A ideia é mostrar que a negação leva a uma contradição, provando assim a fórmula original.\n",
    "    s.add(Not(formula))\n",
    "    # Verifica se o conjunto de restrições no solver (neste caso, apenas a negação da fórmula) é satisfazível. Se for satisfazível, significa que existe uma atribuição de valores\n",
    "    # que torna a negação verdadeira, e portanto a fórmula original falsa em algumas situações.\n",
    "    if s.check() == sat:\n",
    "        print(\"Falha ao provar a propriedade.\")\n",
    "    else:\n",
    "        print(\"Propriedade provada com sucesso.\")\n",
    "\n",
    "# Declara um conjunto de variáveis inteiras que serão usadas para representar os estados do algoritmo e os seus valores.\n",
    "x, y, r, rr, s, ss, t, tt, q = Ints('x y r rr s ss t tt q')\n",
    "\n",
    "# Define uma função recursiva para calcular o máximo divisor comum (MDC) de dois números inteiros. `RecFunction` é usado para definir funções recursivas dentro do contexto do Z3.\n",
    "gcd_func = RecFunction('gcd_func', IntSort(), IntSort(), IntSort())\n",
    "# Declara duas variáveis inteiras `a` e `b` que serão usadas como argumentos para a função `gcd_func`.\n",
    "a, b = Ints('a b')\n",
    "# Neste caso, usa a definição padrão do algoritmo de Euclides para o MDC:\n",
    "# Se `b` for 0, o MDC é `a`. Caso contrário, o MDC de `a` e `b` é o mesmo que o MDC de `b` e o resto da divisão de `a` por `b` (`a % b`).\n",
    "RecAddDefinition(gcd_func, (a, b), If(b == 0, a, gcd_func(b, a % b)))\n",
    "\n",
    "# Define a pré-condição do algoritmo. Neste caso, exige que os valores iniciais de `x` e `y` sejam positivos.\n",
    "pre_con = And(x > 0, y > 0)\n",
    "\n",
    "# Define o estado inicial do algoritmo. Aqui, `r` e `rr` recebem os valores iniciais de `x` e `y`, e as variáveis `s`, `ss`, `t`, `tt` são inicializadas para acompanhar os coeficientes da identidade de Bézout.\n",
    "init_state = And(r == x, rr == y, s == 1, ss == 0, t == 0, tt == 1)\n",
    "\n",
    "# Define o invariante de loop. Um invariante de loop é uma condição que é verdadeira antes, durante e depois de cada iteração de um loop.\n",
    "# Aqui, o invariante garante duas coisas:\n",
    "# 1. O MDC de `x` e `y` é igual ao MDC de `r` e `rr`. Isso significa que o MDC não muda ao longo do algoritmo.\n",
    "# 2. As igualdades de Bézout são mantidas: `r` pode ser expresso como uma combinação linear de `x` e `y` (`r == x*s + y*t`),\n",
    "#    e `rr` também pode ser expresso como uma combinação linear de `x` e `y` (`rr == x*ss + y*tt`).\n",
    "loop_inv = And(gcd_func(x, y) == gcd_func(r, rr),\n",
    "               r == x*s + y*t,\n",
    "               rr == x*ss + y*tt)\n",
    "\n",
    "# Define a condição pré-loop. Esta afirma que se a pré-condição (`pre_con`) e o estado inicial (`init_state`) forem verdadeiros,\n",
    "# então o invariante de loop (`loop_inv`) também será verdadeiro no início do loop.\n",
    "pre_loop = And(pre_con, init_state)\n",
    "# `Implies` cria uma implicação lógica. `pre_final` afirma que `pre_loop` implica `loop_inv`.\n",
    "# Isto é, se a pré-condição e o estado inicial são satisfeitos, então o invariante do loop também é satisfeito no início.\n",
    "pre_final = Implies(pre_loop, loop_inv)\n",
    "\n",
    "# Define a condição de saída do loop. O loop termina quando `rr` for igual a 0.\n",
    "# Além disso, o invariante de loop (`loop_inv`) deve continuar válido quando o loop termina.\n",
    "# `ForAll` quantifica universalmente as variáveis `r`, `rr`, `s`, `ss`, `t`, `tt`, significando que a condição deve ser verdadeira para todos os valores dessas variáveis.\n",
    "exit_cond = ForAll([r, rr, s, ss, t, tt], And(rr == 0, loop_inv))\n",
    "\n",
    "# Define a pós-condição do algoritmo. Esta descreve o estado desejado após a execução do algoritmo.\n",
    "# Aqui, a pós-condição afirma que:\n",
    "# 1. O valor final de `r` é igual ao MDC de `x` e `y`.\n",
    "# 2. A igualdade de Bézout é satisfeita com os valores finais de `r`, `s` e `t`.\n",
    "post_con = And(r == gcd_func(x, y),\n",
    "               r == x*s + y*t)\n",
    "# `post_final` afirma que se a condição de saída (`exit_cond`) for verdadeira, então a pós-condição (`post_con`) também será verdadeira.\n",
    "# Isto é, se o loop termina corretamente, então o resultado obtido (o valor de `r`) é o MDC e a identidade de Bézout é mantida.\n",
    "post_final = Implies(exit_cond, post_con)\n",
    "\n",
    "# Prova a especificação do algoritmo. A especificação é que se a pré-condição é atendida,\n",
    "# então a pós-condição será satisfeita quando o algoritmo terminar (se terminar).\n",
    "# A prova é feita verificando se a afirmação que combina `pre_final` e `post_final`\n",
    "# (após ser implicada por `True`, o que não altera o seu valor de verdade) é insatisfatível.\n",
    "# Se for insatisfatível, significa que não há nenhuma atribuição de valores que torne a negação dessa afirmação verdadeira,\n",
    "# o que implica que a afirmação original é sempre verdadeira, provando a correção do algoritmo.\n",
    "Prova(Implies(True, And(pre_final, post_final)))"
   ]
  },
  {
   "cell_type": "code",
   "execution_count": null,
   "metadata": {},
   "outputs": [],
   "source": []
  }
 ],
 "metadata": {
  "kernelspec": {
   "display_name": "Python 3 (ipykernel)",
   "language": "python",
   "name": "python3"
  },
  "language_info": {
   "codemirror_mode": {
    "name": "ipython",
    "version": 3
   },
   "file_extension": ".py",
   "mimetype": "text/x-python",
   "name": "python",
   "nbconvert_exporter": "python",
   "pygments_lexer": "ipython3",
   "version": "3.10.15"
  }
 },
 "nbformat": 4,
 "nbformat_minor": 4
}
