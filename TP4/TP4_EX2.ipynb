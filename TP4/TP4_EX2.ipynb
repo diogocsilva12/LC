{
 "cells": [
  {
   "cell_type": "markdown",
   "metadata": {},
   "source": [
    "# TP4 - Exercício 1\n",
    "## Grupo 1\n",
    "\n",
    "*   Diogo Coelho da Silva A100092\n",
    "*   Pedro Miguel Ramôa Oliveira A97686\n"
   ]
  },
  {
   "cell_type": "markdown",
   "metadata": {},
   "source": [
    "#### 1. Import's"
   ]
  },
  {
   "cell_type": "code",
   "execution_count": 17,
   "metadata": {},
   "outputs": [],
   "source": [
    "from z3 import *"
   ]
  },
  {
   "cell_type": "markdown",
   "metadata": {},
   "source": [
    "#### 2.Definição do algoritmo de euclides\n",
    "\n"
   ]
  },
  {
   "cell_type": "code",
   "execution_count": 18,
   "metadata": {},
   "outputs": [
    {
     "name": "stdout",
     "output_type": "stream",
     "text": [
      "Argumentos de entrada: a: 12, b: 18, r1: 12, r2: 18, s1: 1, s2: 0, t1: 0, t2: 1\n",
      "Iteração: a: 12, b: 18, r1: 18, r2: 12, s1: 0, s2: 1, t1: 1, t2: 0, quociente: 0\n",
      "Iteração: a: 12, b: 18, r1: 12, r2: 6, s1: 1, s2: -1, t1: 0, t2: 1, quociente: 1\n",
      "Iteração: a: 12, b: 18, r1: 6, r2: 0, s1: -1, s2: 3, t1: 1, t2: -2, quociente: 2\n",
      "Resultado final: a: 12, b: 18, r1: 6, r2: 0, s1: -1, s2: 3, t1: 1, t2: -2\n",
      "Máximo divisor comum (MDC): 6\n",
      "\n"
     ]
    },
    {
     "data": {
      "text/plain": [
       "6"
      ]
     },
     "execution_count": 18,
     "metadata": {},
     "output_type": "execute_result"
    }
   ],
   "source": [
    "def algoritmo_de_euclides(a, b):\n",
    "    r1, r2, s1, s2, t1, t2 = a, b, 1, 0, 0, 1\n",
    "    print(f\"Argumentos de entrada: a: {a}, b: {b}, r1: {r1}, r2: {r2}, s1: {s1}, s2: {s2}, t1: {t1}, t2: {t2}\")\n",
    "\n",
    "    while r2 != 0:\n",
    "        quociente = r1 // r2\n",
    "        r1, r2 = r2, r1 - quociente * r2\n",
    "        s1, s2 = s2, s1 - quociente * s2\n",
    "        t1, t2 = t2, t1 - quociente * t2\n",
    "\n",
    "        print(f\"Iteração: a: {a}, b: {b}, r1: {r1}, r2: {r2}, s1: {s1}, s2: {s2}, t1: {t1}, t2: {t2}, quociente: {quociente}\")\n",
    "\n",
    "    print(f\"Resultado final: a: {a}, b: {b}, r1: {r1}, r2: {r2}, s1: {s1}, s2: {s2}, t1: {t1}, t2: {t2}\")\n",
    "    print(f\"Máximo divisor comum (MDC): {r1}\\n\")\n",
    "    return r1\n",
    "\n",
    "algoritmo_de_euclides(12, 18)"
   ]
  },
  {
   "cell_type": "code",
   "execution_count": 19,
   "metadata": {},
   "outputs": [
    {
     "ename": "Z3Exception",
     "evalue": "b'Overflow encountered when expanding vector'",
     "output_type": "error",
     "traceback": [
      "\u001b[0;31m---------------------------------------------------------------------------\u001b[0m",
      "\u001b[0;31mZ3Exception\u001b[0m                               Traceback (most recent call last)",
      "Cell \u001b[0;32mIn[19], line 35\u001b[0m\n\u001b[1;32m     32\u001b[0m         \u001b[38;5;28;01melse\u001b[39;00m:\n\u001b[1;32m     33\u001b[0m             \u001b[38;5;28mprint\u001b[39m(\u001b[38;5;124m\"\u001b[39m\u001b[38;5;124mProved.\u001b[39m\u001b[38;5;124m\"\u001b[39m)\n\u001b[0;32m---> 35\u001b[0m \u001b[43mprove_prop\u001b[49m\u001b[43m(\u001b[49m\u001b[43m)\u001b[49m\n",
      "Cell \u001b[0;32mIn[19], line 30\u001b[0m, in \u001b[0;36mprove_prop\u001b[0;34m()\u001b[0m\n\u001b[1;32m     28\u001b[0m \u001b[38;5;28;01mwith\u001b[39;00m Solver() \u001b[38;5;28;01mas\u001b[39;00m sol:\n\u001b[1;32m     29\u001b[0m     sol\u001b[38;5;241m.\u001b[39madd(Not(f))\n\u001b[0;32m---> 30\u001b[0m     \u001b[38;5;28;01mif\u001b[39;00m \u001b[43msol\u001b[49m\u001b[38;5;241;43m.\u001b[39;49m\u001b[43mcheck\u001b[49m\u001b[43m(\u001b[49m\u001b[43m)\u001b[49m \u001b[38;5;241m==\u001b[39m sat:\n\u001b[1;32m     31\u001b[0m         \u001b[38;5;28mprint\u001b[39m(\u001b[38;5;124m\"\u001b[39m\u001b[38;5;124mFailed to prove.\u001b[39m\u001b[38;5;124m\"\u001b[39m)\n\u001b[1;32m     32\u001b[0m     \u001b[38;5;28;01melse\u001b[39;00m:\n",
      "File \u001b[0;32m~/.local/lib/python3.10/site-packages/z3/z3.py:7174\u001b[0m, in \u001b[0;36mSolver.check\u001b[0;34m(self, *assumptions)\u001b[0m\n\u001b[1;32m   7172\u001b[0m \u001b[38;5;28;01mfor\u001b[39;00m i \u001b[38;5;129;01min\u001b[39;00m \u001b[38;5;28mrange\u001b[39m(num):\n\u001b[1;32m   7173\u001b[0m     _assumptions[i] \u001b[38;5;241m=\u001b[39m s\u001b[38;5;241m.\u001b[39mcast(assumptions[i])\u001b[38;5;241m.\u001b[39mas_ast()\n\u001b[0;32m-> 7174\u001b[0m r \u001b[38;5;241m=\u001b[39m \u001b[43mZ3_solver_check_assumptions\u001b[49m\u001b[43m(\u001b[49m\u001b[38;5;28;43mself\u001b[39;49m\u001b[38;5;241;43m.\u001b[39;49m\u001b[43mctx\u001b[49m\u001b[38;5;241;43m.\u001b[39;49m\u001b[43mref\u001b[49m\u001b[43m(\u001b[49m\u001b[43m)\u001b[49m\u001b[43m,\u001b[49m\u001b[43m \u001b[49m\u001b[38;5;28;43mself\u001b[39;49m\u001b[38;5;241;43m.\u001b[39;49m\u001b[43msolver\u001b[49m\u001b[43m,\u001b[49m\u001b[43m \u001b[49m\u001b[43mnum\u001b[49m\u001b[43m,\u001b[49m\u001b[43m \u001b[49m\u001b[43m_assumptions\u001b[49m\u001b[43m)\u001b[49m\n\u001b[1;32m   7175\u001b[0m \u001b[38;5;28;01mreturn\u001b[39;00m CheckSatResult(r)\n",
      "File \u001b[0;32m~/.local/lib/python3.10/site-packages/z3/z3core.py:4236\u001b[0m, in \u001b[0;36mZ3_solver_check_assumptions\u001b[0;34m(a0, a1, a2, a3, _elems)\u001b[0m\n\u001b[1;32m   4234\u001b[0m \u001b[38;5;28;01mdef\u001b[39;00m \u001b[38;5;21mZ3_solver_check_assumptions\u001b[39m(a0, a1, a2, a3, _elems\u001b[38;5;241m=\u001b[39mElementaries(_lib\u001b[38;5;241m.\u001b[39mZ3_solver_check_assumptions)):\n\u001b[1;32m   4235\u001b[0m   r \u001b[38;5;241m=\u001b[39m _elems\u001b[38;5;241m.\u001b[39mf(a0, a1, a2, a3)\n\u001b[0;32m-> 4236\u001b[0m   \u001b[43m_elems\u001b[49m\u001b[38;5;241;43m.\u001b[39;49m\u001b[43mCheck\u001b[49m\u001b[43m(\u001b[49m\u001b[43ma0\u001b[49m\u001b[43m)\u001b[49m\n\u001b[1;32m   4237\u001b[0m   \u001b[38;5;28;01mreturn\u001b[39;00m r\n",
      "File \u001b[0;32m~/.local/lib/python3.10/site-packages/z3/z3core.py:1554\u001b[0m, in \u001b[0;36mElementaries.Check\u001b[0;34m(self, ctx)\u001b[0m\n\u001b[1;32m   1552\u001b[0m err \u001b[38;5;241m=\u001b[39m \u001b[38;5;28mself\u001b[39m\u001b[38;5;241m.\u001b[39mget_error_code(ctx)\n\u001b[1;32m   1553\u001b[0m \u001b[38;5;28;01mif\u001b[39;00m err \u001b[38;5;241m!=\u001b[39m \u001b[38;5;28mself\u001b[39m\u001b[38;5;241m.\u001b[39mOK:\n\u001b[0;32m-> 1554\u001b[0m     \u001b[38;5;28;01mraise\u001b[39;00m \u001b[38;5;28mself\u001b[39m\u001b[38;5;241m.\u001b[39mException(\u001b[38;5;28mself\u001b[39m\u001b[38;5;241m.\u001b[39mget_error_message(ctx, err))\n",
      "\u001b[0;31mZ3Exception\u001b[0m: b'Overflow encountered when expanding vector'"
     ]
    }
   ],
   "source": [
    "from z3 import *\n",
    "\n",
    "\n",
    "def prove(f):\n",
    "    with Solver() as s:\n",
    "        s.add(Not(f))\n",
    "        if s.check() == sat:\n",
    "            print(\"Failed to prove.\")\n",
    "        else:\n",
    "            print(\"Proved.\")\n",
    "\n",
    "a = Int('a')\n",
    "b = Int('b')\n",
    "r = Int('r')\n",
    "rr = Int('rr')\n",
    "s = Int('s')\n",
    "ss = Int('ss')\n",
    "t = Int('t')\n",
    "tt = Int('tt')\n",
    "q = Int('q')\n",
    "\n",
    "gcd = Function('gcd', IntSort(), IntSort(), IntSort())\n",
    "gcdAx1 = ForAll([a], Implies(a >= 0, gcd(a, 0) == a))\n",
    "gcdAx2 = ForAll([b], Implies(b >= 0, gcd(0, b) == b))\n",
    "gcdAx3 = ForAll([a, b], Implies(And(a > 0, b > 0), gcd(a, b) == gcd(b, a % b)))\n",
    "\n",
    "gcdF = And(gcdAx1, gcdAx2, gcdAx3)\n",
    "\n",
    "preCond = And(a > 0, b > 0)\n",
    "\n",
    "axioms = And(\n",
    "    r == a,\n",
    "    rr == b,\n",
    "    s == 1,\n",
    "    ss == 0,\n",
    "    t == 0,\n",
    "    tt == 1\n",
    ")\n",
    "\n",
    "pre = And(preCond, axioms)\n",
    "\n",
    "inv = And(\n",
    "    gcd(a, b) == gcd(r, rr),\n",
    "    r == a * s + b * t,\n",
    "    rr == a * ss + b * tt\n",
    ")\n",
    "\n",
    "preFinal = (Implies(pre, inv))\n",
    "\n",
    "exitCond = ForAll([r,rr,s,ss,t,tt], And((rr == 0), inv))\n",
    "\n",
    "posCond = And(\n",
    "    r == gcd(a, b),\n",
    "    r == a * s + b * t\n",
    ")\n",
    "\n",
    "posFinal = Implies(exitCond, posCond)\n",
    "\n",
    "spc = And(preFinal, posFinal)\n",
    "\n",
    "prove(Implies(gcdF, spc))"
   ]
  },
  {
   "cell_type": "code",
   "execution_count": null,
   "metadata": {},
   "outputs": [],
   "source": []
  }
 ],
 "metadata": {
  "kernelspec": {
   "display_name": "Python 3 (ipykernel)",
   "language": "python",
   "name": "python3"
  },
  "language_info": {
   "codemirror_mode": {
    "name": "ipython",
    "version": 3
   },
   "file_extension": ".py",
   "mimetype": "text/x-python",
   "name": "python",
   "nbconvert_exporter": "python",
   "pygments_lexer": "ipython3",
   "version": "3.10.15"
  }
 },
 "nbformat": 4,
 "nbformat_minor": 4
}
